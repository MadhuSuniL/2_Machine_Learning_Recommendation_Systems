{
 "cells": [
  {
   "cell_type": "code",
   "execution_count": 3,
   "metadata": {
    "executionInfo": {
     "elapsed": 3,
     "status": "ok",
     "timestamp": 1743847679334,
     "user": {
      "displayName": "Bagamma gari Madhu",
      "userId": "07191871593266793183"
     },
     "user_tz": -330
    },
    "id": "jBwrCjS-DTnu"
   },
   "outputs": [],
   "source": [
    "import os\n",
    "import pandas as pd\n",
    "import numpy as np\n",
    "import ast\n"
   ]
  },
  {
   "cell_type": "code",
   "execution_count": 4,
   "metadata": {
    "executionInfo": {
     "elapsed": 215,
     "status": "ok",
     "timestamp": 1743847679566,
     "user": {
      "displayName": "Bagamma gari Madhu",
      "userId": "07191871593266793183"
     },
     "user_tz": -330
    },
    "id": "Am69MyJRDYuF"
   },
   "outputs": [],
   "source": [
    "os.chdir(os.getcwd().replace('notebooks', 'data'))\n",
    "\n",
    "movies = pd.read_csv('movies_cleaned.csv')\n"
   ]
  },
  {
   "cell_type": "code",
   "execution_count": 5,
   "metadata": {
    "colab": {
     "base_uri": "https://localhost:8080/",
     "height": 206
    },
    "executionInfo": {
     "elapsed": 174,
     "status": "ok",
     "timestamp": 1743847679741,
     "user": {
      "displayName": "Bagamma gari Madhu",
      "userId": "07191871593266793183"
     },
     "user_tz": -330
    },
    "id": "33TRH_CBMok1",
    "outputId": "21ead561-80b0-48cf-cbc6-ddcd1279919f"
   },
   "outputs": [
    {
     "data": {
      "text/html": [
       "<div>\n",
       "<style scoped>\n",
       "    .dataframe tbody tr th:only-of-type {\n",
       "        vertical-align: middle;\n",
       "    }\n",
       "\n",
       "    .dataframe tbody tr th {\n",
       "        vertical-align: top;\n",
       "    }\n",
       "\n",
       "    .dataframe thead th {\n",
       "        text-align: right;\n",
       "    }\n",
       "</style>\n",
       "<table border=\"1\" class=\"dataframe\">\n",
       "  <thead>\n",
       "    <tr style=\"text-align: right;\">\n",
       "      <th></th>\n",
       "      <th>title</th>\n",
       "      <th>poster_path</th>\n",
       "      <th>tags</th>\n",
       "    </tr>\n",
       "  </thead>\n",
       "  <tbody>\n",
       "    <tr>\n",
       "      <th>0</th>\n",
       "      <td>The Godfather</td>\n",
       "      <td>https://image.tmdb.org/t/p/original//3bhkrj58V...</td>\n",
       "      <td>['Spanning', 'the', 'years', '1945', 'to', '19...</td>\n",
       "    </tr>\n",
       "    <tr>\n",
       "      <th>1</th>\n",
       "      <td>The Shawshank Redemption</td>\n",
       "      <td>https://image.tmdb.org/t/p/original//lyQBXzOQS...</td>\n",
       "      <td>['Framed', 'in', 'the', '1940s', 'for', 'the',...</td>\n",
       "    </tr>\n",
       "    <tr>\n",
       "      <th>2</th>\n",
       "      <td>The Godfather Part II</td>\n",
       "      <td>https://image.tmdb.org/t/p/original//bMadFzhjy...</td>\n",
       "      <td>['In', 'the', 'continuing', 'saga', 'of', 'the...</td>\n",
       "    </tr>\n",
       "    <tr>\n",
       "      <th>3</th>\n",
       "      <td>Schindler's List</td>\n",
       "      <td>https://image.tmdb.org/t/p/original//sF1U4EUQS...</td>\n",
       "      <td>['The', 'true', 'story', 'of', 'how', 'busines...</td>\n",
       "    </tr>\n",
       "    <tr>\n",
       "      <th>4</th>\n",
       "      <td>Dilwale Dulhania Le Jayenge</td>\n",
       "      <td>https://image.tmdb.org/t/p/original//ktejodbcd...</td>\n",
       "      <td>['Raj', 'is', 'a', 'rich,', 'carefree,', 'happ...</td>\n",
       "    </tr>\n",
       "  </tbody>\n",
       "</table>\n",
       "</div>"
      ],
      "text/plain": [
       "                         title  \\\n",
       "0                The Godfather   \n",
       "1     The Shawshank Redemption   \n",
       "2        The Godfather Part II   \n",
       "3             Schindler's List   \n",
       "4  Dilwale Dulhania Le Jayenge   \n",
       "\n",
       "                                         poster_path  \\\n",
       "0  https://image.tmdb.org/t/p/original//3bhkrj58V...   \n",
       "1  https://image.tmdb.org/t/p/original//lyQBXzOQS...   \n",
       "2  https://image.tmdb.org/t/p/original//bMadFzhjy...   \n",
       "3  https://image.tmdb.org/t/p/original//sF1U4EUQS...   \n",
       "4  https://image.tmdb.org/t/p/original//ktejodbcd...   \n",
       "\n",
       "                                                tags  \n",
       "0  ['Spanning', 'the', 'years', '1945', 'to', '19...  \n",
       "1  ['Framed', 'in', 'the', '1940s', 'for', 'the',...  \n",
       "2  ['In', 'the', 'continuing', 'saga', 'of', 'the...  \n",
       "3  ['The', 'true', 'story', 'of', 'how', 'busines...  \n",
       "4  ['Raj', 'is', 'a', 'rich,', 'carefree,', 'happ...  "
      ]
     },
     "execution_count": 5,
     "metadata": {},
     "output_type": "execute_result"
    }
   ],
   "source": [
    "movies.head()\n"
   ]
  },
  {
   "cell_type": "code",
   "execution_count": 6,
   "metadata": {
    "executionInfo": {
     "elapsed": 17,
     "status": "ok",
     "timestamp": 1743847679789,
     "user": {
      "displayName": "Bagamma gari Madhu",
      "userId": "07191871593266793183"
     },
     "user_tz": -330
    },
    "id": "2xtmPh4BMqg9"
   },
   "outputs": [],
   "source": [
    "corups = movies['tags'].values\n"
   ]
  },
  {
   "cell_type": "code",
   "execution_count": 7,
   "metadata": {
    "colab": {
     "base_uri": "https://localhost:8080/"
    },
    "executionInfo": {
     "elapsed": 14,
     "status": "ok",
     "timestamp": 1743847679805,
     "user": {
      "displayName": "Bagamma gari Madhu",
      "userId": "07191871593266793183"
     },
     "user_tz": -330
    },
    "id": "vDfzF-EFNCqk",
    "outputId": "34f3cec5-f96d-4ea6-b7d4-ccc78d406537"
   },
   "outputs": [
    {
     "data": {
      "text/plain": [
       "(9997,)"
      ]
     },
     "execution_count": 7,
     "metadata": {},
     "output_type": "execute_result"
    }
   ],
   "source": [
    "corups.shape\n"
   ]
  },
  {
   "cell_type": "code",
   "execution_count": 8,
   "metadata": {
    "executionInfo": {
     "elapsed": 29,
     "status": "ok",
     "timestamp": 1743847679835,
     "user": {
      "displayName": "Bagamma gari Madhu",
      "userId": "07191871593266793183"
     },
     "user_tz": -330
    },
    "id": "EuqNcNl3NDl0"
   },
   "outputs": [],
   "source": [
    "from nltk.stem import PorterStemmer\n",
    "\n",
    "stemmer = PorterStemmer()\n",
    "\n",
    "\n",
    "def convert_tags(tags):\n",
    "    return \" \".join([stemmer.stem(tag) for tag in ast.literal_eval(tags)]).lower()\n"
   ]
  },
  {
   "cell_type": "code",
   "execution_count": 9,
   "metadata": {
    "colab": {
     "base_uri": "https://localhost:8080/",
     "height": 88
    },
    "executionInfo": {
     "elapsed": 10,
     "status": "ok",
     "timestamp": 1743847679847,
     "user": {
      "displayName": "Bagamma gari Madhu",
      "userId": "07191871593266793183"
     },
     "user_tz": -330
    },
    "id": "mHnJw6dNN2Qd",
    "outputId": "c1371663-f2a1-40df-c1b2-8919fff2ea72"
   },
   "outputs": [
    {
     "data": {
      "text/plain": [
       "'span the year 1945 to 1955, a chronicl of the fiction italian-american corleon crime family. when organ crime famili patriarch, vito corleon bare surviv an attempt on hi life, hi youngest son, michael step in to take care of the would-b killers, launch a campaign of bloodi revenge. drama crime itali lossoflovedon loveatfirstsight basedonnovelorbook europ symbol patriarch organizedcrim mafia lawyer religion revengemot crimefamili sicilianmafia religioushypocrisi gunviol risetopow deadhors gangviol 1940 1950 mafiawar marlonbrando alpacino jamescaan francisfordcoppola'"
      ]
     },
     "execution_count": 9,
     "metadata": {},
     "output_type": "execute_result"
    }
   ],
   "source": [
    "convert_tags(corups[0])\n"
   ]
  },
  {
   "cell_type": "code",
   "execution_count": 10,
   "metadata": {
    "executionInfo": {
     "elapsed": 11995,
     "status": "ok",
     "timestamp": 1743847691842,
     "user": {
      "displayName": "Bagamma gari Madhu",
      "userId": "07191871593266793183"
     },
     "user_tz": -330
    },
    "id": "7da9ztC0N64z"
   },
   "outputs": [],
   "source": [
    "corups = [convert_tags(tag) for tag in corups]\n"
   ]
  },
  {
   "cell_type": "code",
   "execution_count": 11,
   "metadata": {
    "colab": {
     "base_uri": "https://localhost:8080/"
    },
    "executionInfo": {
     "elapsed": 6,
     "status": "ok",
     "timestamp": 1743847691844,
     "user": {
      "displayName": "Bagamma gari Madhu",
      "userId": "07191871593266793183"
     },
     "user_tz": -330
    },
    "id": "iBaGFVYMOXsk",
    "outputId": "acc336b6-71ba-43c9-96f2-8b480664252c"
   },
   "outputs": [
    {
     "data": {
      "text/plain": [
       "['span the year 1945 to 1955, a chronicl of the fiction italian-american corleon crime family. when organ crime famili patriarch, vito corleon bare surviv an attempt on hi life, hi youngest son, michael step in to take care of the would-b killers, launch a campaign of bloodi revenge. drama crime itali lossoflovedon loveatfirstsight basedonnovelorbook europ symbol patriarch organizedcrim mafia lawyer religion revengemot crimefamili sicilianmafia religioushypocrisi gunviol risetopow deadhors gangviol 1940 1950 mafiawar marlonbrando alpacino jamescaan francisfordcoppola',\n",
       " 'frame in the 1940 for the doubl murder of hi wife and her lover, upstand banker andi dufresn begin a new life at the shawshank prison, where he put hi account skill to work for an amor warden. dure hi long stretch in prison, dufresn come to be admir by the other inmat -- includ an older prison name red -- for hi integr and unquench sens of hope. drama crime prison corrupt policebrut basedonnovelorbook prisoncel delinqu paroleboard prisonescap wrongfulimprison framedformurd 1940 voiceov timrobbin morganfreeman bobgunton frankdarabont',\n",
       " 'in the continu saga of the corleon crime family, a young vito corleon grow up in sicili and in 1910 new york. in the 1950s, michael corleon attempt to expand the famili busi into la vegas, hollywood and cuba. drama crime itali italianamerican cuba symbol gangster melancholi prais reveng organizedcrim mafia lawyer suburb corruptpolitician alpacino robertduval dianekeaton francisfordcoppola',\n",
       " 'the true stori of how businessman oskar schindler save over a thousand jewish live from the nazi while they work as slave in hi factori dure world war ii. drama histori war basedonnovelorbook factori concentrationcamp hero holocaust(shoah) ss(nazischutzstaffel) worldwarii ghetto jewpersecut kraków,poland auschwitz-birkenauconcentrationcamp industrialist nazi defenseindustri biographi basedontruestori historicalfict train poland weaponsmanufactur liamneeson benkingsley ralphfienn stevenspielberg']"
      ]
     },
     "execution_count": 11,
     "metadata": {},
     "output_type": "execute_result"
    }
   ],
   "source": [
    "corups[:4]\n"
   ]
  },
  {
   "cell_type": "code",
   "execution_count": 12,
   "metadata": {
    "executionInfo": {
     "elapsed": 4,
     "status": "ok",
     "timestamp": 1743847691845,
     "user": {
      "displayName": "Bagamma gari Madhu",
      "userId": "07191871593266793183"
     },
     "user_tz": -330
    },
    "id": "4xyfOwKIObIj"
   },
   "outputs": [],
   "source": [
    "from sklearn.feature_extraction.text import CountVectorizer\n"
   ]
  },
  {
   "cell_type": "code",
   "execution_count": 13,
   "metadata": {
    "executionInfo": {
     "elapsed": 4,
     "status": "ok",
     "timestamp": 1743847691846,
     "user": {
      "displayName": "Bagamma gari Madhu",
      "userId": "07191871593266793183"
     },
     "user_tz": -330
    },
    "id": "15rDi-N-O3cV"
   },
   "outputs": [],
   "source": [
    "vectorizer = CountVectorizer(max_features=8000, stop_words='english')\n"
   ]
  },
  {
   "cell_type": "code",
   "execution_count": 14,
   "metadata": {
    "executionInfo": {
     "elapsed": 1242,
     "status": "ok",
     "timestamp": 1743847693090,
     "user": {
      "displayName": "Bagamma gari Madhu",
      "userId": "07191871593266793183"
     },
     "user_tz": -330
    },
    "id": "L_vAeWAyO9b7"
   },
   "outputs": [],
   "source": [
    "vectors = vectorizer.fit_transform(corups)\n"
   ]
  },
  {
   "cell_type": "code",
   "execution_count": 15,
   "metadata": {
    "colab": {
     "base_uri": "https://localhost:8080/"
    },
    "executionInfo": {
     "elapsed": 68,
     "status": "ok",
     "timestamp": 1743847693157,
     "user": {
      "displayName": "Bagamma gari Madhu",
      "userId": "07191871593266793183"
     },
     "user_tz": -330
    },
    "id": "tk51vyfSPBpL",
    "outputId": "8aa76a81-0431-4e81-8dff-0b1648e21fb9"
   },
   "outputs": [
    {
     "data": {
      "text/plain": [
       "<1x8000 sparse matrix of type '<class 'numpy.int64'>'\n",
       "\twith 46 stored elements in Compressed Sparse Row format>"
      ]
     },
     "execution_count": 15,
     "metadata": {},
     "output_type": "execute_result"
    }
   ],
   "source": [
    "vectors[0]\n"
   ]
  },
  {
   "cell_type": "code",
   "execution_count": 16,
   "metadata": {
    "colab": {
     "base_uri": "https://localhost:8080/"
    },
    "executionInfo": {
     "elapsed": 42,
     "status": "ok",
     "timestamp": 1743847693200,
     "user": {
      "displayName": "Bagamma gari Madhu",
      "userId": "07191871593266793183"
     },
     "user_tz": -330
    },
    "id": "kFfzA7fPPEbj",
    "outputId": "17864cfd-dde8-48b2-f64b-44391c716e99"
   },
   "outputs": [
    {
     "data": {
      "text/plain": [
       "array(['000', '10', '100', '11', '12', '12thcenturi', '13', '14',\n",
       "       '14thcenturi', '15', '15thcenturi', '16', '16th', '16thcenturi',\n",
       "       '17', '17th', '17thcenturi', '18', '18th', '18thcenturi', '19',\n",
       "       '1910', '1920', '1920s', '1930', '1930s', '1936', '1937', '1940',\n",
       "       '1941', '1942', '1943', '1944', '1945', '1950', '1950s', '1959',\n",
       "       '1960', '1960s', '1962', '1963', '1964', '1965', '1967', '1969',\n",
       "       '1970', '1970s', '1971', '1973', '1976', '1978', '1979', '1980',\n",
       "       '1980s', '1984', '1986', '1987', '1988', '1990', '1992', '1999',\n",
       "       '19th', '19thcenturi', '1stcenturi', '20', '2000', '2001', '2008',\n",
       "       '2009', '2010', '2016', '2020', '2030', '2040', '20th', '21',\n",
       "       '21st', '22', '23', '24', '25', '27', '28', '30', '300', '35',\n",
       "       '39', '40', '45', '50', '500', '60', '70', '80', '95', 'aamirkhan',\n",
       "       'aaron', 'aaroneckhart', 'aaronpaul', 'aarontaylor'], dtype=object)"
      ]
     },
     "execution_count": 16,
     "metadata": {},
     "output_type": "execute_result"
    }
   ],
   "source": [
    "vectorizer.get_feature_names_out()[:100]\n"
   ]
  },
  {
   "cell_type": "code",
   "execution_count": 17,
   "metadata": {
    "executionInfo": {
     "elapsed": 17,
     "status": "ok",
     "timestamp": 1743847693270,
     "user": {
      "displayName": "Bagamma gari Madhu",
      "userId": "07191871593266793183"
     },
     "user_tz": -330
    },
    "id": "jFu32QJPQet6"
   },
   "outputs": [],
   "source": [
    "from sklearn.metrics.pairwise import cosine_similarity\n"
   ]
  },
  {
   "cell_type": "code",
   "execution_count": 18,
   "metadata": {
    "colab": {
     "base_uri": "https://localhost:8080/"
    },
    "executionInfo": {
     "elapsed": 15,
     "status": "ok",
     "timestamp": 1743847693323,
     "user": {
      "displayName": "Bagamma gari Madhu",
      "userId": "07191871593266793183"
     },
     "user_tz": -330
    },
    "id": "XAIzTJJ6Q8Np",
    "outputId": "5a180749-2ee3-4fbf-b738-2f8eae0649ec"
   },
   "outputs": [
    {
     "data": {
      "text/plain": [
       "array([[0.24175915, 1.        , 0.07311503, ..., 0.06200991, 0.0442374 ,\n",
       "        0.06021717]])"
      ]
     },
     "execution_count": 18,
     "metadata": {},
     "output_type": "execute_result"
    }
   ],
   "source": [
    "movie_similarities = cosine_similarity(vectors[1], vectors)\n",
    "movie_similarities\n"
   ]
  },
  {
   "cell_type": "code",
   "execution_count": 19,
   "metadata": {
    "executionInfo": {
     "elapsed": 1,
     "status": "ok",
     "timestamp": 1743847693325,
     "user": {
      "displayName": "Bagamma gari Madhu",
      "userId": "07191871593266793183"
     },
     "user_tz": -330
    },
    "id": "M8dmu-QrRt5Y"
   },
   "outputs": [],
   "source": [
    "def recomend(movie, k = 30):\n",
    "  index = movies[movies['title'] == movie].index[0]\n",
    "  movie_similarities = cosine_similarity(vectors[index], vectors)[0]\n",
    "\n",
    "  movies_list = sorted(list(enumerate(movie_similarities)), reverse=True, key=lambda x: x[1])[1:k + 1]\n",
    "  return [movies.iloc[movie[0]]['title'] for movie in movies_list]\n"
   ]
  },
  {
   "cell_type": "code",
   "execution_count": 20,
   "metadata": {
    "colab": {
     "base_uri": "https://localhost:8080/"
    },
    "executionInfo": {
     "elapsed": 10,
     "status": "ok",
     "timestamp": 1743847693338,
     "user": {
      "displayName": "Bagamma gari Madhu",
      "userId": "07191871593266793183"
     },
     "user_tz": -330
    },
    "id": "xHu9G91GSdUn",
    "outputId": "6c346d21-e934-4083-da07-891ce51fede2"
   },
   "outputs": [
    {
     "data": {
      "text/plain": [
       "['Skylines',\n",
       " 'Battle: Los Angeles',\n",
       " 'Rim of the World',\n",
       " 'Aliens',\n",
       " 'Titan A.E.',\n",
       " 'Final Fantasy: The Spirits Within',\n",
       " 'Attraction',\n",
       " 'Falcon Rising',\n",
       " 'Avatar: The Way of Water',\n",
       " 'Valerian and the City of a Thousand Planets',\n",
       " 'Stargate: Continuum',\n",
       " 'Independence Day',\n",
       " 'Predators',\n",
       " 'Humanité déchue',\n",
       " 'Aliens in the Attic',\n",
       " 'Trollhunters: Rise of the Titans',\n",
       " 'Dragon Ball Z: Bardock - The Father of Goku',\n",
       " 'Mission to Mars',\n",
       " 'Parasyte: Part 1',\n",
       " 'Dark Star',\n",
       " 'Small Soldiers',\n",
       " 'The Cabbage Soup',\n",
       " 'Explorers',\n",
       " 'Enemy Mine',\n",
       " 'The 5th Wave',\n",
       " 'Edge of Tomorrow',\n",
       " 'Lightyear',\n",
       " 'Starman',\n",
       " 'Encounter',\n",
       " 'Extinction']"
      ]
     },
     "execution_count": 20,
     "metadata": {},
     "output_type": "execute_result"
    }
   ],
   "source": [
    "recomend('Avatar')\n"
   ]
  },
  {
   "cell_type": "code",
   "execution_count": 21,
   "metadata": {
    "executionInfo": {
     "elapsed": 1,
     "status": "ok",
     "timestamp": 1743847693340,
     "user": {
      "displayName": "Bagamma gari Madhu",
      "userId": "07191871593266793183"
     },
     "user_tz": -330
    },
    "id": "TsFym-VES4eX"
   },
   "outputs": [],
   "source": [
    "import joblib\n"
   ]
  },
  {
   "cell_type": "code",
   "execution_count": 23,
   "metadata": {
    "colab": {
     "base_uri": "https://localhost:8080/"
    },
    "executionInfo": {
     "elapsed": 6,
     "status": "ok",
     "timestamp": 1743847693347,
     "user": {
      "displayName": "Bagamma gari Madhu",
      "userId": "07191871593266793183"
     },
     "user_tz": -330
    },
    "id": "hB8gyi_EU-R0",
    "outputId": "dffbc4f4-3565-4704-a632-074a2f3502f7"
   },
   "outputs": [
    {
     "data": {
      "text/plain": [
       "['moview_posters.joblib']"
      ]
     },
     "execution_count": 23,
     "metadata": {},
     "output_type": "execute_result"
    }
   ],
   "source": [
    "joblib.dump(movies['poster_path'].values, 'moview_posters.joblib')\n"
   ]
  },
  {
   "cell_type": "code",
   "execution_count": 24,
   "metadata": {
    "colab": {
     "base_uri": "https://localhost:8080/"
    },
    "executionInfo": {
     "elapsed": 17,
     "status": "ok",
     "timestamp": 1743847693363,
     "user": {
      "displayName": "Bagamma gari Madhu",
      "userId": "07191871593266793183"
     },
     "user_tz": -330
    },
    "id": "KiGM7cewVN8E",
    "outputId": "7f8aae00-7f7d-4e0f-c2e9-921380124da3"
   },
   "outputs": [
    {
     "data": {
      "text/plain": [
       "['moview_vectors.joblib']"
      ]
     },
     "execution_count": 24,
     "metadata": {},
     "output_type": "execute_result"
    }
   ],
   "source": [
    "joblib.dump(vectors, 'moview_vectors.joblib')\n"
   ]
  },
  {
   "cell_type": "code",
   "execution_count": 25,
   "metadata": {
    "colab": {
     "base_uri": "https://localhost:8080/"
    },
    "executionInfo": {
     "elapsed": 33,
     "status": "ok",
     "timestamp": 1743848324326,
     "user": {
      "displayName": "Bagamma gari Madhu",
      "userId": "07191871593266793183"
     },
     "user_tz": -330
    },
    "id": "-VQuuMUQYQN5",
    "outputId": "96c44ca0-ddd4-4d8d-b524-ff382d332c1f"
   },
   "outputs": [
    {
     "data": {
      "text/plain": [
       "['moview_title.joblib']"
      ]
     },
     "execution_count": 25,
     "metadata": {},
     "output_type": "execute_result"
    }
   ],
   "source": [
    "joblib.dump(movies['title'].values, 'moview_title.joblib')\n"
   ]
  },
  {
   "cell_type": "code",
   "execution_count": null,
   "metadata": {
    "id": "GSZnZYbFdbtc"
   },
   "outputs": [],
   "source": []
  }
 ],
 "metadata": {
  "colab": {
   "authorship_tag": "ABX9TyN5ZWawipV2gH4uh+CCaR9U",
   "mount_file_id": "1O4rkvDOi5AK9l2o2hxrLIz0sM95A5Emm",
   "provenance": []
  },
  "kernelspec": {
   "display_name": "base",
   "language": "python",
   "name": "python3"
  },
  "language_info": {
   "codemirror_mode": {
    "name": "ipython",
    "version": 3
   },
   "file_extension": ".py",
   "mimetype": "text/x-python",
   "name": "python",
   "nbconvert_exporter": "python",
   "pygments_lexer": "ipython3",
   "version": "3.12.7"
  }
 },
 "nbformat": 4,
 "nbformat_minor": 0
}
