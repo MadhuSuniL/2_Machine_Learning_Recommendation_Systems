{
 "cells": [
  {
   "cell_type": "code",
   "execution_count": 1,
   "metadata": {
    "executionInfo": {
     "elapsed": 27,
     "status": "ok",
     "timestamp": 1743838909106,
     "user": {
      "displayName": "Bagamma gari Madhu",
      "userId": "07191871593266793183"
     },
     "user_tz": -330
    },
    "id": "uPM6fOOs2NAq"
   },
   "outputs": [],
   "source": [
    "import os\n",
    "import pandas as pd\n",
    "import numpy as np\n",
    "import ast\n"
   ]
  },
  {
   "cell_type": "code",
   "execution_count": 2,
   "metadata": {
    "executionInfo": {
     "elapsed": 4272,
     "status": "ok",
     "timestamp": 1743838514769,
     "user": {
      "displayName": "Bagamma gari Madhu",
      "userId": "07191871593266793183"
     },
     "user_tz": -330
    },
    "id": "aKYeP11j2tH8"
   },
   "outputs": [],
   "source": [
    "os.chdir(os.getcwd().replace('notebooks', 'data'))\n",
    "\n",
    "movies = pd.read_csv('movies.csv')\n"
   ]
  },
  {
   "cell_type": "code",
   "execution_count": 3,
   "metadata": {
    "colab": {
     "base_uri": "https://localhost:8080/",
     "height": 205
    },
    "executionInfo": {
     "elapsed": 2333,
     "status": "ok",
     "timestamp": 1743838517101,
     "user": {
      "displayName": "Bagamma gari Madhu",
      "userId": "07191871593266793183"
     },
     "user_tz": -330
    },
    "id": "HN20lxtG2_oi",
    "outputId": "9492e6cd-eef8-44e7-ba62-235a71be0fef"
   },
   "outputs": [
    {
     "data": {
      "text/html": [
       "<div>\n",
       "<style scoped>\n",
       "    .dataframe tbody tr th:only-of-type {\n",
       "        vertical-align: middle;\n",
       "    }\n",
       "\n",
       "    .dataframe tbody tr th {\n",
       "        vertical-align: top;\n",
       "    }\n",
       "\n",
       "    .dataframe thead th {\n",
       "        text-align: right;\n",
       "    }\n",
       "</style>\n",
       "<table border=\"1\" class=\"dataframe\">\n",
       "  <thead>\n",
       "    <tr style=\"text-align: right;\">\n",
       "      <th></th>\n",
       "      <th>Unnamed: 0</th>\n",
       "      <th>adult</th>\n",
       "      <th>backdrop_path</th>\n",
       "      <th>genre_ids</th>\n",
       "      <th>id</th>\n",
       "      <th>original_language</th>\n",
       "      <th>original_title</th>\n",
       "      <th>overview</th>\n",
       "      <th>popularity</th>\n",
       "      <th>poster_path</th>\n",
       "      <th>release_date</th>\n",
       "      <th>title</th>\n",
       "      <th>video</th>\n",
       "      <th>vote_average</th>\n",
       "      <th>vote_count</th>\n",
       "      <th>keywords</th>\n",
       "      <th>cast</th>\n",
       "      <th>crew</th>\n",
       "    </tr>\n",
       "  </thead>\n",
       "  <tbody>\n",
       "    <tr>\n",
       "      <th>0</th>\n",
       "      <td>0</td>\n",
       "      <td>False</td>\n",
       "      <td>https://image.tmdb.org/t/p/original//xOA4MbyJZ...</td>\n",
       "      <td>['Drama', 'Crime']</td>\n",
       "      <td>238</td>\n",
       "      <td>en</td>\n",
       "      <td>The Godfather</td>\n",
       "      <td>Spanning the years 1945 to 1955, a chronicle o...</td>\n",
       "      <td>124.718</td>\n",
       "      <td>https://image.tmdb.org/t/p/original//3bhkrj58V...</td>\n",
       "      <td>1972-03-14</td>\n",
       "      <td>The Godfather</td>\n",
       "      <td>False</td>\n",
       "      <td>8.7</td>\n",
       "      <td>18148</td>\n",
       "      <td>[{'id': 131, 'name': 'italy'}, {'id': 697, 'na...</td>\n",
       "      <td>[{'adult': False, 'gender': 2, 'id': 3084, 'kn...</td>\n",
       "      <td>[{'adult': False, 'gender': 2, 'id': 154, 'kno...</td>\n",
       "    </tr>\n",
       "  </tbody>\n",
       "</table>\n",
       "</div>"
      ],
      "text/plain": [
       "   Unnamed: 0  adult                                      backdrop_path  \\\n",
       "0           0  False  https://image.tmdb.org/t/p/original//xOA4MbyJZ...   \n",
       "\n",
       "            genre_ids   id original_language original_title  \\\n",
       "0  ['Drama', 'Crime']  238                en  The Godfather   \n",
       "\n",
       "                                            overview  popularity  \\\n",
       "0  Spanning the years 1945 to 1955, a chronicle o...     124.718   \n",
       "\n",
       "                                         poster_path release_date  \\\n",
       "0  https://image.tmdb.org/t/p/original//3bhkrj58V...   1972-03-14   \n",
       "\n",
       "           title  video  vote_average  vote_count  \\\n",
       "0  The Godfather  False           8.7       18148   \n",
       "\n",
       "                                            keywords  \\\n",
       "0  [{'id': 131, 'name': 'italy'}, {'id': 697, 'na...   \n",
       "\n",
       "                                                cast  \\\n",
       "0  [{'adult': False, 'gender': 2, 'id': 3084, 'kn...   \n",
       "\n",
       "                                                crew  \n",
       "0  [{'adult': False, 'gender': 2, 'id': 154, 'kno...  "
      ]
     },
     "execution_count": 3,
     "metadata": {},
     "output_type": "execute_result"
    }
   ],
   "source": [
    "movies.head(1)\n"
   ]
  },
  {
   "cell_type": "code",
   "execution_count": 4,
   "metadata": {
    "executionInfo": {
     "elapsed": 54,
     "status": "ok",
     "timestamp": 1743838517156,
     "user": {
      "displayName": "Bagamma gari Madhu",
      "userId": "07191871593266793183"
     },
     "user_tz": -330
    },
    "id": "8GPtn9EG3HRK"
   },
   "outputs": [],
   "source": [
    "useful_columns = ['title', 'genre_ids', 'adult', 'poster_path', 'id', 'overview', 'keywords', 'cast', 'crew']\n"
   ]
  },
  {
   "cell_type": "code",
   "execution_count": 5,
   "metadata": {
    "executionInfo": {
     "elapsed": 39,
     "status": "ok",
     "timestamp": 1743838517214,
     "user": {
      "displayName": "Bagamma gari Madhu",
      "userId": "07191871593266793183"
     },
     "user_tz": -330
    },
    "id": "C3nRKLHZ3tli"
   },
   "outputs": [],
   "source": [
    "movies = movies[useful_columns]\n"
   ]
  },
  {
   "cell_type": "code",
   "execution_count": 6,
   "metadata": {
    "colab": {
     "base_uri": "https://localhost:8080/",
     "height": 133
    },
    "executionInfo": {
     "elapsed": 1948,
     "status": "ok",
     "timestamp": 1743838519163,
     "user": {
      "displayName": "Bagamma gari Madhu",
      "userId": "07191871593266793183"
     },
     "user_tz": -330
    },
    "id": "NQU2sFBr3vpI",
    "outputId": "acf88211-6eb5-45fa-e04b-44a01469da9c"
   },
   "outputs": [
    {
     "data": {
      "text/html": [
       "<div>\n",
       "<style scoped>\n",
       "    .dataframe tbody tr th:only-of-type {\n",
       "        vertical-align: middle;\n",
       "    }\n",
       "\n",
       "    .dataframe tbody tr th {\n",
       "        vertical-align: top;\n",
       "    }\n",
       "\n",
       "    .dataframe thead th {\n",
       "        text-align: right;\n",
       "    }\n",
       "</style>\n",
       "<table border=\"1\" class=\"dataframe\">\n",
       "  <thead>\n",
       "    <tr style=\"text-align: right;\">\n",
       "      <th></th>\n",
       "      <th>title</th>\n",
       "      <th>genre_ids</th>\n",
       "      <th>adult</th>\n",
       "      <th>poster_path</th>\n",
       "      <th>id</th>\n",
       "      <th>overview</th>\n",
       "      <th>keywords</th>\n",
       "      <th>cast</th>\n",
       "      <th>crew</th>\n",
       "    </tr>\n",
       "  </thead>\n",
       "  <tbody>\n",
       "    <tr>\n",
       "      <th>0</th>\n",
       "      <td>The Godfather</td>\n",
       "      <td>['Drama', 'Crime']</td>\n",
       "      <td>False</td>\n",
       "      <td>https://image.tmdb.org/t/p/original//3bhkrj58V...</td>\n",
       "      <td>238</td>\n",
       "      <td>Spanning the years 1945 to 1955, a chronicle o...</td>\n",
       "      <td>[{'id': 131, 'name': 'italy'}, {'id': 697, 'na...</td>\n",
       "      <td>[{'adult': False, 'gender': 2, 'id': 3084, 'kn...</td>\n",
       "      <td>[{'adult': False, 'gender': 2, 'id': 154, 'kno...</td>\n",
       "    </tr>\n",
       "  </tbody>\n",
       "</table>\n",
       "</div>"
      ],
      "text/plain": [
       "           title           genre_ids  adult  \\\n",
       "0  The Godfather  ['Drama', 'Crime']  False   \n",
       "\n",
       "                                         poster_path   id  \\\n",
       "0  https://image.tmdb.org/t/p/original//3bhkrj58V...  238   \n",
       "\n",
       "                                            overview  \\\n",
       "0  Spanning the years 1945 to 1955, a chronicle o...   \n",
       "\n",
       "                                            keywords  \\\n",
       "0  [{'id': 131, 'name': 'italy'}, {'id': 697, 'na...   \n",
       "\n",
       "                                                cast  \\\n",
       "0  [{'adult': False, 'gender': 2, 'id': 3084, 'kn...   \n",
       "\n",
       "                                                crew  \n",
       "0  [{'adult': False, 'gender': 2, 'id': 154, 'kno...  "
      ]
     },
     "execution_count": 6,
     "metadata": {},
     "output_type": "execute_result"
    }
   ],
   "source": [
    "movies.head(1)\n"
   ]
  },
  {
   "cell_type": "code",
   "execution_count": 7,
   "metadata": {
    "colab": {
     "base_uri": "https://localhost:8080/"
    },
    "executionInfo": {
     "elapsed": 51,
     "status": "ok",
     "timestamp": 1743838573243,
     "user": {
      "displayName": "Bagamma gari Madhu",
      "userId": "07191871593266793183"
     },
     "user_tz": -330
    },
    "id": "SH46p9zl31cq",
    "outputId": "c089ff39-6743-4f9c-9137-ec82bd60dfd0"
   },
   "outputs": [
    {
     "name": "stdout",
     "output_type": "stream",
     "text": [
      "<class 'pandas.core.frame.DataFrame'>\n",
      "RangeIndex: 10000 entries, 0 to 9999\n",
      "Data columns (total 9 columns):\n",
      " #   Column       Non-Null Count  Dtype \n",
      "---  ------       --------------  ----- \n",
      " 0   title        10000 non-null  object\n",
      " 1   genre_ids    10000 non-null  object\n",
      " 2   adult        10000 non-null  bool  \n",
      " 3   poster_path  10000 non-null  object\n",
      " 4   id           10000 non-null  int64 \n",
      " 5   overview     9998 non-null   object\n",
      " 6   keywords     10000 non-null  object\n",
      " 7   cast         10000 non-null  object\n",
      " 8   crew         10000 non-null  object\n",
      "dtypes: bool(1), int64(1), object(7)\n",
      "memory usage: 634.9+ KB\n"
     ]
    }
   ],
   "source": [
    "movies.info()\n"
   ]
  },
  {
   "cell_type": "code",
   "execution_count": 8,
   "metadata": {
    "colab": {
     "base_uri": "https://localhost:8080/",
     "height": 366
    },
    "executionInfo": {
     "elapsed": 28,
     "status": "ok",
     "timestamp": 1743838619991,
     "user": {
      "displayName": "Bagamma gari Madhu",
      "userId": "07191871593266793183"
     },
     "user_tz": -330
    },
    "id": "flK7XqHD4PFY",
    "outputId": "a7b48bee-31a5-4d1f-c727-5759cb7791d4"
   },
   "outputs": [
    {
     "data": {
      "text/plain": [
       "title          0\n",
       "genre_ids      0\n",
       "adult          0\n",
       "poster_path    0\n",
       "id             0\n",
       "overview       2\n",
       "keywords       0\n",
       "cast           0\n",
       "crew           0\n",
       "dtype: int64"
      ]
     },
     "execution_count": 8,
     "metadata": {},
     "output_type": "execute_result"
    }
   ],
   "source": [
    "movies.isna().sum()\n"
   ]
  },
  {
   "cell_type": "code",
   "execution_count": 9,
   "metadata": {
    "executionInfo": {
     "elapsed": 24,
     "status": "ok",
     "timestamp": 1743838616564,
     "user": {
      "displayName": "Bagamma gari Madhu",
      "userId": "07191871593266793183"
     },
     "user_tz": -330
    },
    "id": "qwGbYo2y4Uh2"
   },
   "outputs": [],
   "source": [
    "movies.dropna(inplace=True)\n"
   ]
  },
  {
   "cell_type": "code",
   "execution_count": 10,
   "metadata": {
    "colab": {
     "base_uri": "https://localhost:8080/"
    },
    "executionInfo": {
     "elapsed": 855,
     "status": "ok",
     "timestamp": 1743838642850,
     "user": {
      "displayName": "Bagamma gari Madhu",
      "userId": "07191871593266793183"
     },
     "user_tz": -330
    },
    "id": "tDFOf9eG4Zsf",
    "outputId": "e4ffd0f9-e720-4fb0-c9bc-7d4e07dad329"
   },
   "outputs": [
    {
     "data": {
      "text/plain": [
       "0"
      ]
     },
     "execution_count": 10,
     "metadata": {},
     "output_type": "execute_result"
    }
   ],
   "source": [
    "movies.duplicated().sum()\n"
   ]
  },
  {
   "cell_type": "code",
   "execution_count": 11,
   "metadata": {
    "colab": {
     "base_uri": "https://localhost:8080/",
     "height": 36
    },
    "executionInfo": {
     "elapsed": 26,
     "status": "ok",
     "timestamp": 1743838663607,
     "user": {
      "displayName": "Bagamma gari Madhu",
      "userId": "07191871593266793183"
     },
     "user_tz": -330
    },
    "id": "3yndesIS4dWn",
    "outputId": "2c89c0d4-6a63-4b8d-b60e-7accb0604613"
   },
   "outputs": [
    {
     "data": {
      "text/plain": [
       "\"['Drama', 'Crime']\""
      ]
     },
     "execution_count": 11,
     "metadata": {},
     "output_type": "execute_result"
    }
   ],
   "source": [
    "movies['genre_ids'][0]\n"
   ]
  },
  {
   "cell_type": "code",
   "execution_count": 12,
   "metadata": {
    "executionInfo": {
     "elapsed": 9,
     "status": "ok",
     "timestamp": 1743838923920,
     "user": {
      "displayName": "Bagamma gari Madhu",
      "userId": "07191871593266793183"
     },
     "user_tz": -330
    },
    "id": "gWyMBETS4lLn"
   },
   "outputs": [],
   "source": [
    "def convert_generes(generes):\n",
    "  return ast.literal_eval(generes)\n"
   ]
  },
  {
   "cell_type": "code",
   "execution_count": 13,
   "metadata": {
    "executionInfo": {
     "elapsed": 124,
     "status": "ok",
     "timestamp": 1743838956398,
     "user": {
      "displayName": "Bagamma gari Madhu",
      "userId": "07191871593266793183"
     },
     "user_tz": -330
    },
    "id": "7RUrehJ05AYg"
   },
   "outputs": [],
   "source": [
    "movies['genre_ids'] = movies['genre_ids'].apply(convert_generes)\n"
   ]
  },
  {
   "cell_type": "code",
   "execution_count": 14,
   "metadata": {
    "colab": {
     "base_uri": "https://localhost:8080/",
     "height": 36
    },
    "executionInfo": {
     "elapsed": 4,
     "status": "ok",
     "timestamp": 1743839159988,
     "user": {
      "displayName": "Bagamma gari Madhu",
      "userId": "07191871593266793183"
     },
     "user_tz": -330
    },
    "id": "HNSEcEYe5CCn",
    "outputId": "e6fc8b96-ddfe-4568-9790-6ac5b537f42f"
   },
   "outputs": [
    {
     "data": {
      "text/plain": [
       "'https://image.tmdb.org/t/p/original//3bhkrj58Vtu7enYsRolD1fZdja1.jpg'"
      ]
     },
     "execution_count": 14,
     "metadata": {},
     "output_type": "execute_result"
    }
   ],
   "source": [
    "movies['poster_path'][0]\n"
   ]
  },
  {
   "cell_type": "code",
   "execution_count": 15,
   "metadata": {
    "colab": {
     "base_uri": "https://localhost:8080/"
    },
    "executionInfo": {
     "elapsed": 18,
     "status": "ok",
     "timestamp": 1743839187001,
     "user": {
      "displayName": "Bagamma gari Madhu",
      "userId": "07191871593266793183"
     },
     "user_tz": -330
    },
    "id": "ECp8y6ei5xgm",
    "outputId": "cc27902f-427e-4ea0-e926-89320ad0213a"
   },
   "outputs": [
    {
     "data": {
      "text/plain": [
       "False"
      ]
     },
     "execution_count": 15,
     "metadata": {},
     "output_type": "execute_result"
    }
   ],
   "source": [
    "movies['adult'][0]\n"
   ]
  },
  {
   "cell_type": "code",
   "execution_count": 16,
   "metadata": {
    "colab": {
     "base_uri": "https://localhost:8080/",
     "height": 147
    },
    "executionInfo": {
     "elapsed": 31,
     "status": "ok",
     "timestamp": 1743839244142,
     "user": {
      "displayName": "Bagamma gari Madhu",
      "userId": "07191871593266793183"
     },
     "user_tz": -330
    },
    "id": "77B1xhbR6suP",
    "outputId": "c4775bc1-ae64-4880-bc37-ba50d69b8dfa"
   },
   "outputs": [
    {
     "data": {
      "text/plain": [
       "adult\n",
       "False    9998\n",
       "Name: count, dtype: int64"
      ]
     },
     "execution_count": 16,
     "metadata": {},
     "output_type": "execute_result"
    }
   ],
   "source": [
    "movies['adult'].value_counts()\n"
   ]
  },
  {
   "cell_type": "code",
   "execution_count": 17,
   "metadata": {
    "executionInfo": {
     "elapsed": 21,
     "status": "ok",
     "timestamp": 1743839277313,
     "user": {
      "displayName": "Bagamma gari Madhu",
      "userId": "07191871593266793183"
     },
     "user_tz": -330
    },
    "id": "U25LO-R36jG0"
   },
   "outputs": [],
   "source": [
    "movies.drop(columns=['adult'], inplace=True)\n"
   ]
  },
  {
   "cell_type": "code",
   "execution_count": 18,
   "metadata": {
    "colab": {
     "base_uri": "https://localhost:8080/",
     "height": 115
    },
    "executionInfo": {
     "elapsed": 2150,
     "status": "ok",
     "timestamp": 1743839286545,
     "user": {
      "displayName": "Bagamma gari Madhu",
      "userId": "07191871593266793183"
     },
     "user_tz": -330
    },
    "id": "WWmcBFJU67Al",
    "outputId": "e49cbf48-6b99-4d95-d234-196b83b62774"
   },
   "outputs": [
    {
     "data": {
      "text/html": [
       "<div>\n",
       "<style scoped>\n",
       "    .dataframe tbody tr th:only-of-type {\n",
       "        vertical-align: middle;\n",
       "    }\n",
       "\n",
       "    .dataframe tbody tr th {\n",
       "        vertical-align: top;\n",
       "    }\n",
       "\n",
       "    .dataframe thead th {\n",
       "        text-align: right;\n",
       "    }\n",
       "</style>\n",
       "<table border=\"1\" class=\"dataframe\">\n",
       "  <thead>\n",
       "    <tr style=\"text-align: right;\">\n",
       "      <th></th>\n",
       "      <th>title</th>\n",
       "      <th>genre_ids</th>\n",
       "      <th>poster_path</th>\n",
       "      <th>id</th>\n",
       "      <th>overview</th>\n",
       "      <th>keywords</th>\n",
       "      <th>cast</th>\n",
       "      <th>crew</th>\n",
       "    </tr>\n",
       "  </thead>\n",
       "  <tbody>\n",
       "    <tr>\n",
       "      <th>0</th>\n",
       "      <td>The Godfather</td>\n",
       "      <td>[Drama, Crime]</td>\n",
       "      <td>https://image.tmdb.org/t/p/original//3bhkrj58V...</td>\n",
       "      <td>238</td>\n",
       "      <td>Spanning the years 1945 to 1955, a chronicle o...</td>\n",
       "      <td>[{'id': 131, 'name': 'italy'}, {'id': 697, 'na...</td>\n",
       "      <td>[{'adult': False, 'gender': 2, 'id': 3084, 'kn...</td>\n",
       "      <td>[{'adult': False, 'gender': 2, 'id': 154, 'kno...</td>\n",
       "    </tr>\n",
       "  </tbody>\n",
       "</table>\n",
       "</div>"
      ],
      "text/plain": [
       "           title       genre_ids  \\\n",
       "0  The Godfather  [Drama, Crime]   \n",
       "\n",
       "                                         poster_path   id  \\\n",
       "0  https://image.tmdb.org/t/p/original//3bhkrj58V...  238   \n",
       "\n",
       "                                            overview  \\\n",
       "0  Spanning the years 1945 to 1955, a chronicle o...   \n",
       "\n",
       "                                            keywords  \\\n",
       "0  [{'id': 131, 'name': 'italy'}, {'id': 697, 'na...   \n",
       "\n",
       "                                                cast  \\\n",
       "0  [{'adult': False, 'gender': 2, 'id': 3084, 'kn...   \n",
       "\n",
       "                                                crew  \n",
       "0  [{'adult': False, 'gender': 2, 'id': 154, 'kno...  "
      ]
     },
     "execution_count": 18,
     "metadata": {},
     "output_type": "execute_result"
    }
   ],
   "source": [
    "movies.head(1)\n"
   ]
  },
  {
   "cell_type": "code",
   "execution_count": 19,
   "metadata": {
    "executionInfo": {
     "elapsed": 123,
     "status": "ok",
     "timestamp": 1743839389230,
     "user": {
      "displayName": "Bagamma gari Madhu",
      "userId": "07191871593266793183"
     },
     "user_tz": -330
    },
    "id": "VZSREifV68vm"
   },
   "outputs": [],
   "source": [
    "movies['overview'] = movies['overview'].apply(lambda x : x.split())\n"
   ]
  },
  {
   "cell_type": "code",
   "execution_count": 20,
   "metadata": {
    "colab": {
     "base_uri": "https://localhost:8080/",
     "height": 122
    },
    "executionInfo": {
     "elapsed": 30,
     "status": "ok",
     "timestamp": 1743839409276,
     "user": {
      "displayName": "Bagamma gari Madhu",
      "userId": "07191871593266793183"
     },
     "user_tz": -330
    },
    "id": "ARsagi1z7T0F",
    "outputId": "74ff0ffa-1841-4f81-9f9f-bc577e190e2b"
   },
   "outputs": [
    {
     "data": {
      "text/plain": [
       "\"[{'id': 131, 'name': 'italy'}, {'id': 697, 'name': 'loss of loved one'}, {'id': 699, 'name': 'love at first sight'}, {'id': 818, 'name': 'based on novel or book'}, {'id': 1295, 'name': 'europe'}, {'id': 1715, 'name': 'symbolism'}, {'id': 4677, 'name': 'patriarch'}, {'id': 10291, 'name': 'organized crime'}, {'id': 10391, 'name': 'mafia'}, {'id': 10909, 'name': 'lawyer'}, {'id': 11001, 'name': 'religion'}, {'id': 15095, 'name': 'revenge motive'}, {'id': 33421, 'name': 'crime family'}, {'id': 155538, 'name': 'sicilian mafia'}, {'id': 156043, 'name': 'religious hypocrisy'}, {'id': 163656, 'name': 'gun violence'}, {'id': 165725, 'name': 'rise to power'}, {'id': 180173, 'name': 'dead horse'}, {'id': 181858, 'name': 'gang violence'}, {'id': 207883, 'name': '1940s'}, {'id': 208611, 'name': '1950s'}, {'id': 257630, 'name': 'mafia war'}]\""
      ]
     },
     "execution_count": 20,
     "metadata": {},
     "output_type": "execute_result"
    }
   ],
   "source": [
    "movies['keywords'][0]\n"
   ]
  },
  {
   "cell_type": "code",
   "execution_count": 21,
   "metadata": {
    "executionInfo": {
     "elapsed": 26,
     "status": "ok",
     "timestamp": 1743839450833,
     "user": {
      "displayName": "Bagamma gari Madhu",
      "userId": "07191871593266793183"
     },
     "user_tz": -330
    },
    "id": "xKReZZGR7bOc"
   },
   "outputs": [],
   "source": [
    "def convert_keywords(keywords):\n",
    "  keywords = ast.literal_eval(keywords)\n",
    "  return [keyword['name'] for keyword in keywords]\n"
   ]
  },
  {
   "cell_type": "code",
   "execution_count": 22,
   "metadata": {
    "colab": {
     "base_uri": "https://localhost:8080/"
    },
    "executionInfo": {
     "elapsed": 34,
     "status": "ok",
     "timestamp": 1743839459541,
     "user": {
      "displayName": "Bagamma gari Madhu",
      "userId": "07191871593266793183"
     },
     "user_tz": -330
    },
    "id": "y-vou7k87lXk",
    "outputId": "5997c40b-ea47-4e80-a2b0-b6a99a2bda65"
   },
   "outputs": [
    {
     "data": {
      "text/plain": [
       "['italy',\n",
       " 'loss of loved one',\n",
       " 'love at first sight',\n",
       " 'based on novel or book',\n",
       " 'europe',\n",
       " 'symbolism',\n",
       " 'patriarch',\n",
       " 'organized crime',\n",
       " 'mafia',\n",
       " 'lawyer',\n",
       " 'religion',\n",
       " 'revenge motive',\n",
       " 'crime family',\n",
       " 'sicilian mafia',\n",
       " 'religious hypocrisy',\n",
       " 'gun violence',\n",
       " 'rise to power',\n",
       " 'dead horse',\n",
       " 'gang violence',\n",
       " '1940s',\n",
       " '1950s',\n",
       " 'mafia war']"
      ]
     },
     "execution_count": 22,
     "metadata": {},
     "output_type": "execute_result"
    }
   ],
   "source": [
    "convert_keywords(movies['keywords'][0])\n"
   ]
  },
  {
   "cell_type": "code",
   "execution_count": 23,
   "metadata": {
    "executionInfo": {
     "elapsed": 1345,
     "status": "ok",
     "timestamp": 1743839514967,
     "user": {
      "displayName": "Bagamma gari Madhu",
      "userId": "07191871593266793183"
     },
     "user_tz": -330
    },
    "id": "3DpJZKTp7nf8"
   },
   "outputs": [],
   "source": [
    "movies['keywords'] = movies['keywords'].apply(convert_keywords)\n"
   ]
  },
  {
   "cell_type": "code",
   "execution_count": 24,
   "metadata": {
    "colab": {
     "base_uri": "https://localhost:8080/",
     "height": 140
    },
    "executionInfo": {
     "elapsed": 43,
     "status": "ok",
     "timestamp": 1743839600368,
     "user": {
      "displayName": "Bagamma gari Madhu",
      "userId": "07191871593266793183"
     },
     "user_tz": -330
    },
    "id": "qNjAqBQM7ytL",
    "outputId": "a7cfe7e1-8dd0-4f14-f849-d36f4c988c28"
   },
   "outputs": [
    {
     "data": {
      "text/plain": [
       "\"[{'adult': False, 'gender': 2, 'id': 154, 'known_for_department': 'Editing', 'name': 'Walter Murch', 'original_name': 'Walter Murch', 'popularity': 4.142, 'profile_path': '/kQh7U7kRLF9NKEMpxiGjZEIu0o3.jpg', 'credit_id': '62bd43fb63d9370092ba09da', 'department': 'Crew', 'job': 'Post Production Consulting'}, {'adult': False, 'gender': 2, 'id': 1776, 'known_for_department': 'Directing', 'name': 'Francis Ford Coppola', 'original_name': 'Francis Ford Coppola', 'popularity': 13.966, 'profile_path': '/3Pblihd6KjXliie9vj4iQJwbNPU.jpg', 'credit_id': '52fe422bc3a36847f80093db', 'department': 'Writing', 'job': 'Screenplay'}, {'adult': False, 'gender': 2, 'id': 1776, 'known_for_department': 'Directing', 'name': 'Francis Ford Coppola', 'original_name': 'Francis Ford Coppola', 'popularity': 13.966, 'profile_path': '/3Pblihd6KjXliie9vj4iQJwbNPU.jpg', 'credit_id': '5e92505cccb15f00136de455', 'department': 'Directing', 'job': 'Director'}, {'adult': False, 'gender': 2, 'id': 2870, 'known_for_department': 'Production', 'name': 'Gray Frederickson', 'original_name': 'Gray Frederickson', 'popularity': 2.289, 'profile_path': None, 'credit_id': '53884fe1c3a3681ad7004590', 'department': 'Production', 'job': 'Associate Producer'}, {'adult': False, 'gender': 2, 'id': 2871, 'known_for_department': 'Production', 'name': 'Fred Roos', 'original_name': 'Fred Roos', 'popularity': 4.501, 'profile_path': '/qfXLY5E589l0TQnoayWmUrBDsgo.jpg', 'credit_id': '53885041c3a3681ad700459b', 'department': 'Production', 'job': 'Casting'}, {'adult': False, 'gender': 2, 'id': 2872, 'known_for_department': 'Sound', 'name': 'Carmine Coppola', 'original_name': 'Carmine Coppola', 'popularity': 3.867, 'profile_path': '/iURpKXIgdtQoVCBQ8GKGvb0Qw5z.jpg', 'credit_id': '62bd43877304b52384a221cb', 'department': 'Crew', 'job': 'Additional Music'}, {'adult': False, 'gender': 2, 'id': 2875, 'known_for_department': 'Art', 'name': 'Dean Tavoularis', 'original_name': 'Dean Tavoularis', 'popularity': 4.74, 'profile_path': '/hrRBaXUn2k29qd1MvAxuag5L32c.jpg', 'credit_id': '53884b4e0e0a261441005deb', 'department': 'Art', 'job': 'Production Design'}, {'adult': False, 'gender': 2, 'id': 457, 'known_for_department': 'Production', 'name': 'Albert S. Ruddy', 'original_name': 'Albert S. Ruddy', 'popularity': 9.517, 'profile_path': None, 'credit_id': '52fe422bc3a36847f80093cf', 'department': 'Production', 'job': 'Producer'}, {'adult': False, 'gender': 2, 'id': 949, 'known_for_department': 'Production', 'name': 'Louis DiGiaimo', 'original_name': 'Louis DiGiaimo', 'popularity': 2.643, 'profile_path': None, 'credit_id': '53885009c3a3682f780004c6', 'department': 'Production', 'job': 'Casting'}, {'adult': False, 'gender': 2, 'id': 1044, 'known_for_department': 'Camera', 'name': 'Michael Chapman', 'original_name': 'Michael Chapman', 'popularity': 5.104, 'profile_path': '/vFFWHlwwIgWoi2NPoVq3uzikCnM.jpg', 'credit_id': '62bd4492097c490051497166', 'department': 'Camera', 'job': 'Camera Operator'}, {'adult': False, 'gender': 2, 'id': 3083, 'known_for_department': 'Writing', 'name': 'Mario Puzo', 'original_name': 'Mario Puzo', 'popularity': 3.263, 'profile_path': '/lEsT1uCZAZg1nYDQe3Fsj9CalzT.jpg', 'credit_id': '52fe422bc3a36847f80093d5', 'department': 'Writing', 'job': 'Screenplay'}, {'adult': False, 'gender': 2, 'id': 3083, 'known_for_department': 'Writing', 'name': 'Mario Puzo', 'original_name': 'Mario Puzo', 'popularity': 3.263, 'profile_path': '/lEsT1uCZAZg1nYDQe3Fsj9CalzT.jpg', 'credit_id': '538848cec3a3681aea00405a', 'department': 'Writing', 'job': 'Novel'}, {'adult': False, 'gender': 2, 'id': 3097, 'known_for_department': 'Camera', 'name': 'Gordon Willis', 'original_name': 'Gordon Willis', 'popularity': 2.116, 'profile_path': '/6gOmfatlF7UdhaHi2tPsZMb5vmz.jpg', 'credit_id': '538848a0c3a3681ae3004283', 'department': 'Camera', 'job': 'Director of Photography'}, {'adult': False, 'gender': 2, 'id': 3098, 'known_for_department': 'Sound', 'name': 'Nino Rota', 'original_name': 'Nino Rota', 'popularity': 4.629, 'profile_path': '/v42v3uM7jqwoZxDJ8MlEtT6Ol7a.jpg', 'credit_id': '538848b1c3a3681aea004056', 'department': 'Sound', 'job': 'Original Music Composer'}, {'adult': False, 'gender': 2, 'id': 3099, 'known_for_department': 'Editing', 'name': 'William Reynolds', 'original_name': 'William Reynolds', 'popularity': 1.836, 'profile_path': None, 'credit_id': '52fe422bc3a36847f80093ed', 'department': 'Editing', 'job': 'Editor'}, {'adult': False, 'gender': 2, 'id': 3100, 'known_for_department': 'Editing', 'name': 'Peter Zinner', 'original_name': 'Peter Zinner', 'popularity': 4.605, 'profile_path': None, 'credit_id': '52fe422bc3a36847f80093f3', 'department': 'Editing', 'job': 'Editor'}, {'adult': False, 'gender': 0, 'id': 3101, 'known_for_department': 'Production', 'name': 'Andrea Eastman', 'original_name': 'Andrea Eastman', 'popularity': 1.788, 'profile_path': None, 'credit_id': '53885029c3a3681ad7004596', 'department': 'Production', 'job': 'Casting'}, {'adult': False, 'gender': 2, 'id': 3103, 'known_for_department': 'Sound', 'name': 'Charles Grenzbach', 'original_name': 'Charles Grenzbach', 'popularity': 1.519, 'profile_path': None, 'credit_id': '570006ec9251417647000790', 'department': 'Sound', 'job': 'Sound Re-Recording Mixer'}, {'adult': False, 'gender': 2, 'id': 3104, 'known_for_department': 'Sound', 'name': 'Chris Newman', 'original_name': 'Chris Newman', 'popularity': 1.766, 'profile_path': None, 'credit_id': '6489b5ac6f8d9500e50158ee', 'department': 'Sound', 'job': 'Sound Recordist'}, {'adult': False, 'gender': 2, 'id': 3105, 'known_for_department': 'Sound', 'name': 'Richard Portman', 'original_name': 'Richard Portman', 'popularity': 2.499, 'profile_path': None, 'credit_id': '568c060ac3a3685f89018710', 'department': 'Sound', 'job': 'Sound Re-Recording Mixer'}, {'adult': False, 'gender': 2, 'id': 6099, 'known_for_department': 'Production', 'name': 'Valerio De Paolis', 'original_name': 'Valerio De Paolis', 'popularity': 3.263, 'profile_path': '/rbsYkbJPgQAMuFY71RYrYatdXWT.jpg', 'credit_id': '563e3d18c3a3681b5402d6d3', 'department': 'Production', 'job': 'Production Manager'}, {'adult': False, 'gender': 1, 'id': 6851, 'known_for_department': 'Costume & Make-Up', 'name': 'Anna Hill Johnstone', 'original_name': 'Anna Hill Johnstone', 'popularity': 3.173, 'profile_path': None, 'credit_id': '53884fc3c3a3681add0044ad', 'department': 'Costume & Make-Up', 'job': 'Costume Design'}, {'adult': False, 'gender': 0, 'id': 16194, 'known_for_department': 'Costume & Make-Up', 'name': 'Philip Leto', 'original_name': 'Philip Leto', 'popularity': 3.095, 'profile_path': None, 'credit_id': '56a76fd49251412a04002fa6', 'department': 'Costume & Make-Up', 'job': 'Hairstylist'}, {'adult': False, 'gender': 2, 'id': 10546, 'known_for_department': 'Production', 'name': 'Fred T. Gallo', 'original_name': 'Fred T. Gallo', 'popularity': 1.436, 'profile_path': None, 'credit_id': '5e9250a3875d1a001442c342', 'department': 'Directing', 'job': 'Assistant Director'}, {'adult': False, 'gender': 0, 'id': 11789, 'known_for_department': 'Production', 'name': 'Fred C. Caruso', 'original_name': 'Fred C. Caruso', 'popularity': 3.267, 'profile_path': None, 'credit_id': '57447bba925141110900063d', 'department': 'Production', 'job': 'Unit Production Manager'}, {'adult': False, 'gender': 0, 'id': 14059, 'known_for_department': 'Crew', 'name': 'Sass Bedig', 'original_name': 'Sass Bedig', 'popularity': 1.176, 'profile_path': None, 'credit_id': '57448523925141218f000400', 'department': 'Crew', 'job': 'Special Effects'}, {'adult': False, 'gender': 2, 'id': 29389, 'known_for_department': 'Sound', 'name': 'Carlo Savina', 'original_name': 'Carlo Savina', 'popularity': 1.048, 'profile_path': None, 'credit_id': '62bd436412aabc151f2dbaef', 'department': 'Sound', 'job': 'Conductor'}, {'adult': False, 'gender': 2, 'id': 29654, 'known_for_department': 'Costume & Make-Up', 'name': 'Dick Smith', 'original_name': 'Dick Smith', 'popularity': 2.246, 'profile_path': '/kKCenlQ8iQCTLGfX8ZPpJFpxvwS.jpg', 'credit_id': '56a76ff8c3a36819c9002fcb', 'department': 'Costume & Make-Up', 'job': 'Makeup Artist'}, {'adult': False, 'gender': 2, 'id': 30580, 'known_for_department': 'Art', 'name': 'Philip Smith', 'original_name': 'Philip Smith', 'popularity': 0.84, 'profile_path': None, 'credit_id': '53884fb2c3a3681ad700458c', 'department': 'Art', 'job': 'Set Decoration'}, {'adult': False, 'gender': 0, 'id': 81519, 'known_for_department': 'Art', 'name': 'Warren Clymer', 'original_name': 'Warren Clymer', 'popularity': 2.741, 'profile_path': None, 'credit_id': '53884f8dc3a3681add0044a6', 'department': 'Art', 'job': 'Art Direction'}, {'adult': False, 'gender': 0, 'id': 81532, 'known_for_department': 'Costume & Make-Up', 'name': 'George Newman', 'original_name': 'George Newman', 'popularity': 1.788, 'profile_path': None, 'credit_id': '62bd446a7304b523856c2c25', 'department': 'Costume & Make-Up', 'job': 'Wardrobe Supervisor'}, {'adult': False, 'gender': 2, 'id': 96912, 'known_for_department': 'Crew', 'name': 'Joe Lombardi', 'original_name': 'Joe Lombardi', 'popularity': 1.96, 'profile_path': None, 'credit_id': '574485a9925141218f000420', 'department': 'Crew', 'job': 'Special Effects'}, {'adult': False, 'gender': 1, 'id': 1511672, 'known_for_department': 'Directing', 'name': 'Nancy Hopton', 'original_name': 'Nancy Hopton', 'popularity': 1.4, 'profile_path': None, 'credit_id': '62bd44c217b5ef04e6b3fc04', 'department': 'Directing', 'job': 'Script Supervisor'}, {'adult': False, 'gender': 0, 'id': 1518601, 'known_for_department': 'Costume & Make-Up', 'name': 'Phil Rhodes', 'original_name': 'Phil Rhodes', 'popularity': 1.38, 'profile_path': None, 'credit_id': '56a76fc79251412a04002fa3', 'department': 'Costume & Make-Up', 'job': 'Makeup Artist'}, {'adult': False, 'gender': 2, 'id': 1625347, 'known_for_department': 'Directing', 'name': 'Tony Brandt', 'original_name': 'Tony Brandt', 'popularity': 1.512, 'profile_path': None, 'credit_id': '5e92510accb15f00156de8d4', 'department': 'Directing', 'job': 'Assistant Director'}, {'adult': False, 'gender': 0, 'id': 1969191, 'known_for_department': 'Art', 'name': 'Richard Adee', 'original_name': 'Richard Adee', 'popularity': 0.884, 'profile_path': None, 'credit_id': '6489b4ecd2b209012dfdc553', 'department': 'Art', 'job': 'Set Decoration'}, {'adult': False, 'gender': 0, 'id': 3357584, 'known_for_department': 'Production', 'name': 'Michael Briggs', 'original_name': 'Michael Briggs', 'popularity': 1.4, 'profile_path': None, 'credit_id': '62bd45a47ef3812768ed8113', 'department': 'Production', 'job': 'Location Coordinator'}, {'adult': False, 'gender': 0, 'id': 3606474, 'known_for_department': 'Production', 'name': 'Tony Bowers', 'original_name': 'Tony Bowers', 'popularity': 1.012, 'profile_path': None, 'credit_id': '62bd45e59a9f9a008bf772b9', 'department': 'Production', 'job': 'Location Coordinator'}, {'adult': False, 'gender': 2, 'id': 4111358, 'known_for_department': 'Crew', 'name': 'A.D. Flowers', 'original_name': 'A.D. Flowers', 'popularity': 1.052, 'profile_path': None, 'credit_id': '6489b484e375c00139c271ef', 'department': 'Crew', 'job': 'Special Effects'}]\""
      ]
     },
     "execution_count": 24,
     "metadata": {},
     "output_type": "execute_result"
    }
   ],
   "source": [
    "movies['crew'][0]\n"
   ]
  },
  {
   "cell_type": "code",
   "execution_count": 25,
   "metadata": {
    "executionInfo": {
     "elapsed": 17,
     "status": "ok",
     "timestamp": 1743839935958,
     "user": {
      "displayName": "Bagamma gari Madhu",
      "userId": "07191871593266793183"
     },
     "user_tz": -330
    },
    "id": "dSd_agK78J4E"
   },
   "outputs": [],
   "source": [
    "def convert_crew(crew):\n",
    "  crew = ast.literal_eval(crew)\n",
    "  for crw in crew:\n",
    "    if crw['job'] == 'Director':\n",
    "      return [crw['name']]\n"
   ]
  },
  {
   "cell_type": "code",
   "execution_count": 26,
   "metadata": {
    "colab": {
     "base_uri": "https://localhost:8080/"
    },
    "executionInfo": {
     "elapsed": 24,
     "status": "ok",
     "timestamp": 1743839936728,
     "user": {
      "displayName": "Bagamma gari Madhu",
      "userId": "07191871593266793183"
     },
     "user_tz": -330
    },
    "id": "QCbXbSpR8vXc",
    "outputId": "e9d041bd-41cd-4ef2-dd52-251def14c37f"
   },
   "outputs": [
    {
     "data": {
      "text/plain": [
       "['Francis Ford Coppola']"
      ]
     },
     "execution_count": 26,
     "metadata": {},
     "output_type": "execute_result"
    }
   ],
   "source": [
    "convert_crew(movies['crew'][0])\n"
   ]
  },
  {
   "cell_type": "code",
   "execution_count": 27,
   "metadata": {
    "executionInfo": {
     "elapsed": 50702,
     "status": "ok",
     "timestamp": 1743840075018,
     "user": {
      "displayName": "Bagamma gari Madhu",
      "userId": "07191871593266793183"
     },
     "user_tz": -330
    },
    "id": "zUZVlfx49GuL"
   },
   "outputs": [],
   "source": [
    "movies['crew'] = movies['crew'].apply(convert_crew)\n"
   ]
  },
  {
   "cell_type": "code",
   "execution_count": 28,
   "metadata": {
    "colab": {
     "base_uri": "https://localhost:8080/",
     "height": 140
    },
    "executionInfo": {
     "elapsed": 29,
     "status": "ok",
     "timestamp": 1743840694461,
     "user": {
      "displayName": "Bagamma gari Madhu",
      "userId": "07191871593266793183"
     },
     "user_tz": -330
    },
    "id": "9OOS2Auu9iHS",
    "outputId": "3f50f539-e197-4a31-e8c9-6ca651683d30"
   },
   "outputs": [
    {
     "data": {
      "text/plain": [
       "'[{\\'adult\\': False, \\'gender\\': 2, \\'id\\': 3084, \\'known_for_department\\': \\'Acting\\', \\'name\\': \\'Marlon Brando\\', \\'original_name\\': \\'Marlon Brando\\', \\'popularity\\': 20.083, \\'profile_path\\': \\'/fuTEPMsBtV1zE98ujPONbKiYDc2.jpg\\', \\'cast_id\\': 146, \\'character\\': \\'Don Vito Corleone\\', \\'credit_id\\': \\'6489aa85e2726001072483a9\\', \\'order\\': 0}, {\\'adult\\': False, \\'gender\\': 2, \\'id\\': 1158, \\'known_for_department\\': \\'Acting\\', \\'name\\': \\'Al Pacino\\', \\'original_name\\': \\'Al Pacino\\', \\'popularity\\': 35.377, \\'profile_path\\': \\'/fMDFeVf0pjopTJbyRSLFwNDm8Wr.jpg\\', \\'cast_id\\': 147, \\'character\\': \\'Michael Corleone\\', \\'credit_id\\': \\'6489aa936f8d9500afdf219c\\', \\'order\\': 1}, {\\'adult\\': False, \\'gender\\': 2, \\'id\\': 3085, \\'known_for_department\\': \\'Acting\\', \\'name\\': \\'James Caan\\', \\'original_name\\': \\'James Caan\\', \\'popularity\\': 19.723, \\'profile_path\\': \\'/v3flJtQEyczxENi29yJyvnN6LVt.jpg\\', \\'cast_id\\': 148, \\'character\\': \\'Sonny Corleone\\', \\'credit_id\\': \\'6489aabc99259c00ff111136\\', \\'order\\': 2}, {\\'adult\\': False, \\'gender\\': 2, \\'id\\': 3087, \\'known_for_department\\': \\'Acting\\', \\'name\\': \\'Robert Duvall\\', \\'original_name\\': \\'Robert Duvall\\', \\'popularity\\': 20.504, \\'profile_path\\': \\'/3tcKxC5Sc3DJ6XPDKKC2EAomEWn.jpg\\', \\'cast_id\\': 149, \\'character\\': \\'Tom Hagen\\', \\'credit_id\\': \\'6489aace99259c011c42808d\\', \\'order\\': 3}, {\\'adult\\': False, \\'gender\\': 2, \\'id\\': 3086, \\'known_for_department\\': \\'Acting\\', \\'name\\': \\'Richard S. Castellano\\', \\'original_name\\': \\'Richard S. Castellano\\', \\'popularity\\': 8.161, \\'profile_path\\': \\'/1vr75BdHWret81vuSJ3ugiCBkxw.jpg\\', \\'cast_id\\': 150, \\'character\\': \\'Clemenza\\', \\'credit_id\\': \\'6489aaf86f8d9500c88bea14\\', \\'order\\': 4}, {\\'adult\\': False, \\'gender\\': 1, \\'id\\': 3092, \\'known_for_department\\': \\'Acting\\', \\'name\\': \\'Diane Keaton\\', \\'original_name\\': \\'Diane Keaton\\', \\'popularity\\': 29.682, \\'profile_path\\': \\'/tnx7pJqisfAzvXOR5wHQsbnH9XH.jpg\\', \\'cast_id\\': 151, \\'character\\': \\'Kay Adams\\', \\'credit_id\\': \\'6489ab23bf31f25055a33a46\\', \\'order\\': 5}, {\\'adult\\': False, \\'gender\\': 1, \\'id\\': 3094, \\'known_for_department\\': \\'Acting\\', \\'name\\': \\'Talia Shire\\', \\'original_name\\': \\'Talia Shire\\', \\'popularity\\': 18.507, \\'profile_path\\': \\'/due9MtmbvCMDd1aNveuMyjsaZ8W.jpg\\', \\'cast_id\\': 152, \\'character\\': \\'Connie Corleone Rizzi\\', \\'credit_id\\': \\'6489ab5799259c011c4280d8\\', \\'order\\': 6}, {\\'adult\\': False, \\'gender\\': 2, \\'id\\': 3095, \\'known_for_department\\': \\'Acting\\', \\'name\\': \\'Gianni Russo\\', \\'original_name\\': \\'Gianni Russo\\', \\'popularity\\': 9.933, \\'profile_path\\': \\'/5fjg2WPvuk1NvUpLyQ7aMJqOqy.jpg\\', \\'cast_id\\': 153, \\'character\\': \\'Carlo Rizzi\\', \\'credit_id\\': \\'6489ab77e375c00139c26e5b\\', \\'order\\': 7}, {\\'adult\\': False, \\'gender\\': 2, \\'id\\': 3088, \\'known_for_department\\': \\'Acting\\', \\'name\\': \\'Sterling Hayden\\', \\'original_name\\': \\'Sterling Hayden\\', \\'popularity\\': 10.416, \\'profile_path\\': \\'/dCTe6BsGSp9QTcva2Pz4wbxxYMY.jpg\\', \\'cast_id\\': 154, \\'character\\': \\'Captain McCluskey\\', \\'credit_id\\': \\'6489abe0d2b209014e0b8df9\\', \\'order\\': 8}, {\\'adult\\': False, \\'gender\\': 2, \\'id\\': 3142, \\'known_for_department\\': \\'Acting\\', \\'name\\': \\'John Marley\\', \\'original_name\\': \\'John Marley\\', \\'popularity\\': 9.216, \\'profile_path\\': \\'/k8YnXZDhhn28bSE75tLz9juR46u.jpg\\', \\'cast_id\\': 155, \\'character\\': \\'Jack Woltz\\', \\'credit_id\\': \\'6489ac0299259c011c42811f\\', \\'order\\': 9}, {\\'adult\\': False, \\'gender\\': 2, \\'id\\': 3090, \\'known_for_department\\': \\'Acting\\', \\'name\\': \\'Richard Conte\\', \\'original_name\\': \\'Richard Conte\\', \\'popularity\\': 9.207, \\'profile_path\\': \\'/bDegodf4dYGXMejdm4T6XgOJwlr.jpg\\', \\'cast_id\\': 156, \\'character\\': \\'Barzini\\', \\'credit_id\\': \\'6489ac126f8d9500afdf2251\\', \\'order\\': 10}, {\\'adult\\': False, \\'gender\\': 2, \\'id\\': 3091, \\'known_for_department\\': \\'Acting\\', \\'name\\': \\'Al Lettieri\\', \\'original_name\\': \\'Al Lettieri\\', \\'popularity\\': 14.012, \\'profile_path\\': \\'/fE5mEWPkkVJlCji0EoKht8PYw89.jpg\\', \\'cast_id\\': 157, \\'character\\': \\'Sollozzo\\', \\'credit_id\\': \\'6489ac20e375c000acc796d1\\', \\'order\\': 11}, {\\'adult\\': False, \\'gender\\': 2, \\'id\\': 3093, \\'known_for_department\\': \\'Acting\\', \\'name\\': \\'Abe Vigoda\\', \\'original_name\\': \\'Abe Vigoda\\', \\'popularity\\': 5.94, \\'profile_path\\': \\'/luWKPNb58IgJ2ovrtgPAzHGLLYL.jpg\\', \\'cast_id\\': 158, \\'character\\': \\'Sal Tessio\\', \\'credit_id\\': \\'6489ac2dbf31f2505708a65c\\', \\'order\\': 12}, {\\'adult\\': False, \\'gender\\': 2, \\'id\\': 3096, \\'known_for_department\\': \\'Acting\\', \\'name\\': \\'John Cazale\\', \\'original_name\\': \\'John Cazale\\', \\'popularity\\': 8.306, \\'profile_path\\': \\'/41wXX1FBalyIuf5eaA4S43Y8IfZ.jpg\\', \\'cast_id\\': 159, \\'character\\': \\'Fredo Corleone\\', \\'credit_id\\': \\'6489ac3a6f8d9500afdf2260\\', \\'order\\': 13}, {\\'adult\\': False, \\'gender\\': 2, \\'id\\': 3143, \\'known_for_department\\': \\'Acting\\', \\'name\\': \\'Rudy Bond\\', \\'original_name\\': \\'Rudy Bond\\', \\'popularity\\': 3.816, \\'profile_path\\': \\'/kP77m6ot9dfOR2V3ykbyOAx2diK.jpg\\', \\'cast_id\\': 160, \\'character\\': \\'Cuneo\\', \\'credit_id\\': \\'6489ac5de375c00139c26eb2\\', \\'order\\': 14}, {\\'adult\\': False, \\'gender\\': 2, \\'id\\': 3144, \\'known_for_department\\': \\'Acting\\', \\'name\\': \\'Al Martino\\', \\'original_name\\': \\'Al Martino\\', \\'popularity\\': 3.008, \\'profile_path\\': \\'/9luOyyiqWFNQgSOSStH66LTWZ3p.jpg\\', \\'cast_id\\': 161, \\'character\\': \\'Johnny Fontane\\', \\'credit_id\\': \\'6489ac7199259c01392da0db\\', \\'order\\': 15}, {\\'adult\\': False, \\'gender\\': 1, \\'id\\': 933716, \\'known_for_department\\': \\'Acting\\', \\'name\\': \\'Morgana King\\', \\'original_name\\': \\'Morgana King\\', \\'popularity\\': 2.882, \\'profile_path\\': \\'/zPsFAqH4NXD7rMWl2Kj3rEyGrKj.jpg\\', \\'cast_id\\': 162, \\'character\\': \\'Mama Corleone\\', \\'credit_id\\': \\'6489ac82e272600107248470\\', \\'order\\': 16}, {\\'adult\\': False, \\'gender\\': 2, \\'id\\': 106811, \\'known_for_department\\': \\'Acting\\', \\'name\\': \\'Lenny Montana\\', \\'original_name\\': \\'Lenny Montana\\', \\'popularity\\': 7.833, \\'profile_path\\': \\'/3R52Zh3MBCaSPqmcyWcD1Y0N4wo.jpg\\', \\'cast_id\\': 163, \\'character\\': \\'Luca Brasi\\', \\'credit_id\\': \\'6489ac90d2b20900ca220c08\\', \\'order\\': 17}, {\\'adult\\': False, \\'gender\\': 2, \\'id\\': 99724, \\'known_for_department\\': \\'Acting\\', \\'name\\': \\'John Martino\\', \\'original_name\\': \\'John Martino\\', \\'popularity\\': 2.739, \\'profile_path\\': \\'/3c8BOgJ8UdHi5x5BS3lYnFngxB5.jpg\\', \\'cast_id\\': 164, \\'character\\': \\'Paulie Gatto\\', \\'credit_id\\': \\'6489ac9dd2b20900ca220c0f\\', \\'order\\': 18}, {\\'adult\\': False, \\'gender\\': 2, \\'id\\': 1195877, \\'known_for_department\\': \\'Acting\\', \\'name\\': \\'Salvatore Corsitto\\', \\'original_name\\': \\'Salvatore Corsitto\\', \\'popularity\\': 2.561, \\'profile_path\\': \\'/79OfgwtdP5qsR1UX6ERkrdmRT8c.jpg\\', \\'cast_id\\': 165, \\'character\\': \\'Bonasera\\', \\'credit_id\\': \\'6489acaae375c000acc79705\\', \\'order\\': 19}, {\\'adult\\': False, \\'gender\\': 2, \\'id\\': 3174, \\'known_for_department\\': \\'Acting\\', \\'name\\': \\'Richard Bright\\', \\'original_name\\': \\'Richard Bright\\', \\'popularity\\': 7.396, \\'profile_path\\': \\'/b1ak2kPYUwBAYgD1yi50tz8BZ7J.jpg\\', \\'cast_id\\': 166, \\'character\\': \\'Neri\\', \\'credit_id\\': \\'6489acc2bf31f25054b828e4\\', \\'order\\': 20}, {\\'adult\\': False, \\'gender\\': 2, \\'id\\': 20752, \\'known_for_department\\': \\'Acting\\', \\'name\\': \\'Alex Rocco\\', \\'original_name\\': \\'Alex Rocco\\', \\'popularity\\': 7.438, \\'profile_path\\': \\'/uAG4qvYhYHuCyyXGm3lqC4o6ujc.jpg\\', \\'cast_id\\': 167, \\'character\\': \\'Moe Greene\\', \\'credit_id\\': \\'6489acd1d2b20900ad3ec8cf\\', \\'order\\': 21}, {\\'adult\\': False, \\'gender\\': 2, \\'id\\': 3414, \\'known_for_department\\': \\'Acting\\', \\'name\\': \\'Tony Giorgio\\', \\'original_name\\': \\'Tony Giorgio\\', \\'popularity\\': 6.017, \\'profile_path\\': \\'/1uhgwgjoX7WaakEOBmtBRJKtgEB.jpg\\', \\'cast_id\\': 168, \\'character\\': \\'Bruno Tattaglia\\', \\'credit_id\\': \\'6489ad08bf31f25055a33b08\\', \\'order\\': 22}, {\\'adult\\': False, \\'gender\\': 2, \\'id\\': 82779, \\'known_for_department\\': \\'Acting\\', \\'name\\': \\'Vito Scotti\\', \\'original_name\\': \\'Vito Scotti\\', \\'popularity\\': 5.557, \\'profile_path\\': \\'/zDGtXkASxpo3DzMNz6OI3NOp9v0.jpg\\', \\'cast_id\\': 169, \\'character\\': \\'Nazorine\\', \\'credit_id\\': \\'6489ad166f8d9501023e6cb2\\', \\'order\\': 23}, {\\'adult\\': False, \\'gender\\': 1, \\'id\\': 982089, \\'known_for_department\\': \\'Acting\\', \\'name\\': \\'Tere Livrano\\', \\'original_name\\': \\'Tere Livrano\\', \\'popularity\\': 2.698, \\'profile_path\\': \\'/eBoC3425jmwRlsT2W8qUDsNwVXB.jpg\\', \\'cast_id\\': 170, \\'character\\': \\'Theresa Hagen\\', \\'credit_id\\': \\'6489ad23d2b20900ad3ec8f9\\', \\'order\\': 24}, {\\'adult\\': False, \\'gender\\': 2, \\'id\\': 3413, \\'known_for_department\\': \\'Acting\\', \\'name\\': \\'Victor Rendina\\', \\'original_name\\': \\'Victor Rendina\\', \\'popularity\\': 2.286, \\'profile_path\\': \\'/vuNdsjDpgom80WBdB2WBTWuEIuM.jpg\\', \\'cast_id\\': 171, \\'character\\': \\'Philip Tattaglia\\', \\'credit_id\\': \\'6489ad306f8d9500c88beb2c\\', \\'order\\': 25}, {\\'adult\\': False, \\'gender\\': 1, \\'id\\': 167363, \\'known_for_department\\': \\'Acting\\', \\'name\\': \\'Jeannie Linero\\', \\'original_name\\': \\'Jeannie Linero\\', \\'popularity\\': 4.271, \\'profile_path\\': None, \\'cast_id\\': 172, \\'character\\': \\'Lucy Mancini\\', \\'credit_id\\': \\'6489ad4f6f8d95011f2439db\\', \\'order\\': 26}, {\\'adult\\': False, \\'gender\\': 1, \\'id\\': 160728, \\'known_for_department\\': \\'Acting\\', \\'name\\': \\'Julie Gregg\\', \\'original_name\\': \\'Julie Gregg\\', \\'popularity\\': 7.447, \\'profile_path\\': \\'/8Kx71BnZNtpzb86jH7fcArWhJBh.jpg\\', \\'cast_id\\': 173, \\'character\\': \\'Sandra Corleone\\', \\'credit_id\\': \\'6489ad696f8d9500c88beb4e\\', \\'order\\': 27}, {\\'adult\\': False, \\'gender\\': 1, \\'id\\': 4111331, \\'known_for_department\\': \\'Acting\\', \\'name\\': \\'Ardell Sheridan\\', \\'original_name\\': \\'Ardell Sheridan\\', \\'popularity\\': 1.786, \\'profile_path\\': None, \\'cast_id\\': 174, \\'character\\': \\'Mrs. Clemenza\\', \\'credit_id\\': \\'6489adb8bf31f25054b8295f\\', \\'order\\': 28}, {\\'adult\\': False, \\'gender\\': 1, \\'id\\': 3145, \\'known_for_department\\': \\'Acting\\', \\'name\\': \\'Simonetta Stefanelli\\', \\'original_name\\': \\'Simonetta Stefanelli\\', \\'popularity\\': 18.623, \\'profile_path\\': \\'/sVDrhgxuE6SHnj7q07OG6ywPUYR.jpg\\', \\'cast_id\\': 175, \\'character\\': \\'Apollonia - Sicilian Sequence\\', \\'credit_id\\': \\'6489ae04bf31f25055a33b87\\', \\'order\\': 29}, {\\'adult\\': False, \\'gender\\': 2, \\'id\\': 27647, \\'known_for_department\\': \\'Acting\\', \\'name\\': \\'Angelo Infanti\\', \\'original_name\\': \\'Angelo Infanti\\', \\'popularity\\': 7.56, \\'profile_path\\': \\'/dkRVpiDj9YyiuM15XZKT11zZBIR.jpg\\', \\'cast_id\\': 176, \\'character\\': \\'Fabrizio - Sicilian Sequence\\', \\'credit_id\\': \\'6489ae14d2b20900ca220cca\\', \\'order\\': 30}, {\\'adult\\': False, \\'gender\\': 2, \\'id\\': 24604, \\'known_for_department\\': \\'Acting\\', \\'name\\': \\'Corrado Gaipa\\', \\'original_name\\': \\'Corrado Gaipa\\', \\'popularity\\': 3.842, \\'profile_path\\': \\'/4QkQQwEhzx7kofdChg2stkIgMLe.jpg\\', \\'cast_id\\': 177, \\'character\\': \\'Don Tommasino - Sicilian Sequence\\', \\'credit_id\\': \\'6489ae21d2b20900ca220cd4\\', \\'order\\': 31}, {\\'adult\\': False, \\'gender\\': 2, \\'id\\': 44860, \\'known_for_department\\': \\'Acting\\', \\'name\\': \\'Franco Citti\\', \\'original_name\\': \\'Franco Citti\\', \\'popularity\\': 5.357, \\'profile_path\\': \\'/mttQPjOHaql4RKsfYriUA7HuROE.jpg\\', \\'cast_id\\': 178, \\'character\\': \\'Calo - Sicilian Sequence\\', \\'credit_id\\': \\'6489ae2e6f8d9500c88bebcf\\', \\'order\\': 32}, {\\'adult\\': False, \\'gender\\': 2, \\'id\\': 119431, \\'known_for_department\\': \\'Acting\\', \\'name\\': \\'Saro Urzì\\', \\'original_name\\': \\'Saro Urzì\\', \\'popularity\\': 4.84, \\'profile_path\\': \\'/wp88yz8T1TJcw5egiDu1m5a302D.jpg\\', \\'cast_id\\': 179, \\'character\\': \\'Vitelli - Sicilian Sequence\\', \\'credit_id\\': \\'6489ae3ce2726000afc4c253\\', \\'order\\': 33}, {\\'adult\\': False, \\'gender\\': 2, \\'id\\': 38803, \\'known_for_department\\': \\'Writing\\', \\'name\\': \\'Roman Coppola\\', \\'original_name\\': \\'Roman Coppola\\', \\'popularity\\': 7.401, \\'profile_path\\': \\'/rKamKkx78qjZTfvqi2OWCo5p6x5.jpg\\', \\'cast_id\\': 182, \\'character\\': \\'Boy on Street Who Attended Funeral (uncredited)\\', \\'credit_id\\': \\'6489af3ce2726001287c0ab0\\', \\'order\\': 34}, {\\'adult\\': False, \\'gender\\': 1, \\'id\\': 1769, \\'known_for_department\\': \\'Directing\\', \\'name\\': \\'Sofia Coppola\\', \\'original_name\\': \\'Sofia Coppola\\', \\'popularity\\': 6.753, \\'profile_path\\': \\'/dzHC2LxmarkBxWLhjp2DRa5oCev.jpg\\', \\'cast_id\\': 181, \\'character\\': \\'Michael Francis Rizzi (uncredited)\\', \\'credit_id\\': \\'6489af2de375c000acc797fe\\', \\'order\\': 35}, {\\'adult\\': False, \\'gender\\': 0, \\'id\\': 1209294, \\'known_for_department\\': \\'Acting\\', \\'name\\': \\'Don Costello\\', \\'original_name\\': \\'Don Costello\\', \\'popularity\\': 1.276, \\'profile_path\\': None, \\'cast_id\\': 183, \\'character\\': \\'Don Victor Stracci (uncredited)\\', \\'credit_id\\': \\'6489af7abf31f2505883d309\\', \\'order\\': 36}, {\\'adult\\': False, \\'gender\\': 1, \\'id\\': 126072, \\'known_for_department\\': \\'Acting\\', \\'name\\': \\'Italia Coppola\\', \\'original_name\\': \\'Italia Coppola\\', \\'popularity\\': 1.115, \\'profile_path\\': None, \\'cast_id\\': 184, \\'character\\': \\'Extra in Wedding Scene (uncredited)\\', \\'credit_id\\': \\'6489afb46f8d95011f243b21\\', \\'order\\': 37}, {\\'adult\\': False, \\'gender\\': 2, \\'id\\': 2870, \\'known_for_department\\': \\'Production\\', \\'name\\': \\'Gray Frederickson\\', \\'original_name\\': \\'Gray Frederickson\\', \\'popularity\\': 2.289, \\'profile_path\\': None, \\'cast_id\\': 195, \\'character\\': \"Cowboy on the Set at Woltz\\'s Studio (uncredited)\", \\'credit_id\\': \\'6489b195e375c00139c270d3\\', \\'order\\': 38}, {\\'adult\\': False, \\'gender\\': 2, \\'id\\': 160621, \\'known_for_department\\': \\'Acting\\', \\'name\\': \\'Ron Gilbert\\', \\'original_name\\': \\'Ron Gilbert\\', \\'popularity\\': 2.292, \\'profile_path\\': \\'/qrY6w2k0YpuMB2yTCOv6cxeQtmw.jpg\\', \\'cast_id\\': 185, \\'character\\': \\'Usher in Bridal Party (uncredited)\\', \\'credit_id\\': \\'6489afe46f8d95013c752d10\\', \\'order\\': 39}, {\\'adult\\': False, \\'gender\\': 2, \\'id\\': 1233541, \\'known_for_department\\': \\'Acting\\', \\'name\\': \\'Sonny Grosso\\', \\'original_name\\': \\'Sonny Grosso\\', \\'popularity\\': 3.986, \\'profile_path\\': None, \\'cast_id\\': 202, \\'character\\': \\'Cop Outside Hospital (uncredited)\\', \\'credit_id\\': \\'6489b33fe272600107248730\\', \\'order\\': 40}, {\\'adult\\': False, \\'gender\\': 2, \\'id\\': 20973, \\'known_for_department\\': \\'Acting\\', \\'name\\': \\'Louis Guss\\', \\'original_name\\': \\'Louis Guss\\', \\'popularity\\': 5.283, \\'profile_path\\': \\'/hz5Akuh4QcqitlifYwDiZ9ut6Tr.jpg\\', \\'cast_id\\': 180, \\'character\\': \\'Don Zaluchi (uncredited)\\', \\'credit_id\\': \\'6489af11e375c000ff4ab5f2\\', \\'order\\': 41}, {\\'adult\\': False, \\'gender\\': 2, \\'id\\': 1068099, \\'known_for_department\\': \\'Acting\\', \\'name\\': \\'Randy Jurgensen\\', \\'original_name\\': \\'Randy Jurgensen\\', \\'popularity\\': 2.419, \\'profile_path\\': \\'/xRoN79wRLndTMCJoaBSsdjQVIzI.jpg\\', \\'cast_id\\': 186, \\'character\\': \"Sonny\\'s Killer #1 (uncredited)\", \\'credit_id\\': \\'6489affed2b209014e0b8fdb\\', \\'order\\': 42}, {\\'adult\\': False, \\'gender\\': 2, \\'id\\': 55672, \\'known_for_department\\': \\'Acting\\', \\'name\\': \\'Tony King\\', \\'original_name\\': \\'Tony King\\', \\'popularity\\': 6.225, \\'profile_path\\': \\'/hOVVHEyc6euuuRhCLo6Q5YE4lLz.jpg\\', \\'cast_id\\': 196, \\'character\\': \\'Tony - Stablehand (uncredited)\\', \\'credit_id\\': \\'6489b214e375c000ff4ab714\\', \\'order\\': 43}, {\\'adult\\': False, \\'gender\\': 2, \\'id\\': 61241, \\'known_for_department\\': \\'Acting\\', \\'name\\': \\'Tony Lip\\', \\'original_name\\': \\'Tony Lip\\', \\'popularity\\': 2.068, \\'profile_path\\': \\'/6xz6XmjgiCCOm067OzWYziD4Mxa.jpg\\', \\'cast_id\\': 206, \\'character\\': \\'Wedding Guest (uncredited)\\', \\'credit_id\\': \\'6489b6276f8d9500e5015933\\', \\'order\\': 44}, {\\'adult\\': False, \\'gender\\': 2, \\'id\\': 1503036, \\'known_for_department\\': \\'Acting\\', \\'name\\': \\'Joe Lo Grippo\\', \\'original_name\\': \\'Joe Lo Grippo\\', \\'popularity\\': 0.786, \\'profile_path\\': None, \\'cast_id\\': 188, \\'character\\': \"Sonny\\'s Bodyguard (uncredited)\", \\'credit_id\\': \\'6489b0736f8d9500afdf2448\\', \\'order\\': 45}, {\\'adult\\': False, \\'gender\\': 2, \\'id\\': 106187, \\'known_for_department\\': \\'Acting\\', \\'name\\': \\'Lou Martini Jr.\\', \\'original_name\\': \\'Lou Martini Jr.\\', \\'popularity\\': 1.856, \\'profile_path\\': \\'/85s5KR0BA6dhMJtOrvtKGY8Bz8E.jpg\\', \\'cast_id\\': 187, \\'character\\': \\'Boy at Wedding (uncredited)\\', \\'credit_id\\': \\'6489b033d2b20900ca220dd5\\', \\'order\\': 46}, {\\'adult\\': False, \\'gender\\': 2, \\'id\\': 100503, \\'known_for_department\\': \\'Acting\\', \\'name\\': \\'Raymond Martino\\', \\'original_name\\': \\'Raymond Martino\\', \\'popularity\\': 2.391, \\'profile_path\\': None, \\'cast_id\\': 207, \\'character\\': \\'Corleone Family Member (uncredited)\\', \\'credit_id\\': \\'6489b647e272600147bc20cf\\', \\'order\\': 47}, {\\'adult\\': False, \\'gender\\': 2, \\'id\\': 1503035, \\'known_for_department\\': \\'Acting\\', \\'name\\': \\'Joseph Medaglia\\', \\'original_name\\': \\'Joseph Medaglia\\', \\'popularity\\': 2.681, \\'profile_path\\': None, \\'cast_id\\': 191, \\'character\\': \\'Priest at Baptism (uncredited)\\', \\'credit_id\\': \\'6489b100bf31f250569dd401\\', \\'order\\': 48}, {\\'adult\\': False, \\'gender\\': 1, \\'id\\': 2313192, \\'known_for_department\\': \\'Acting\\', \\'name\\': \\'Carol Morley\\', \\'original_name\\': \\'Carol Morley\\', \\'popularity\\': 0.6, \\'profile_path\\': None, \\'cast_id\\': 190, \\'character\\': \\'Night Nurse (uncredited)\\', \\'credit_id\\': \\'6489b0cee27260010724864d\\', \\'order\\': 49}, {\\'adult\\': False, \\'gender\\': 0, \\'id\\': 1290895, \\'known_for_department\\': \\'Acting\\', \\'name\\': \\'Rick Petrucelli\\', \\'original_name\\': \\'Rick Petrucelli\\', \\'popularity\\': 0.6, \\'profile_path\\': None, \\'cast_id\\': 189, \\'character\\': \"Lou - Sollozzo\\'s Driver (uncredited)\", \\'credit_id\\': \\'6489b09f99259c00accf128f\\', \\'order\\': 50}, {\\'adult\\': False, \\'gender\\': 2, \\'id\\': 1237372, \\'known_for_department\\': \\'Acting\\', \\'name\\': \\'Sal Richards\\', \\'original_name\\': \\'Sal Richards\\', \\'popularity\\': 1.125, \\'profile_path\\': \\'/gZSiZOtBVv1U4hqjlKkPr2p5rCP.jpg\\', \\'cast_id\\': 198, \\'character\\': \\'Drunk (uncredited)\\', \\'credit_id\\': \\'6489b2a2bf31f2505708a90f\\', \\'order\\': 51}, {\\'adult\\': False, \\'gender\\': 2, \\'id\\': 1213795, \\'known_for_department\\': \\'Acting\\', \\'name\\': \\'Tom Rosqui\\', \\'original_name\\': \\'Tom Rosqui\\', \\'popularity\\': 4.036, \\'profile_path\\': None, \\'cast_id\\': 192, \\'character\\': \\'Rocco Lampone (uncredited)\\', \\'credit_id\\': \\'6489b118e375c0011c8206ba\\', \\'order\\': 52}, {\\'adult\\': False, \\'gender\\': 2, \\'id\\': 11480, \\'known_for_department\\': \\'Acting\\', \\'name\\': \\'Frank Sivero\\', \\'original_name\\': \\'Frank Sivero\\', \\'popularity\\': 7.375, \\'profile_path\\': \\'/eqvhj0iNtcsN6EJhd21Goqi1DSq.jpg\\', \\'cast_id\\': 199, \\'character\\': \\'Street Extra (uncredited)\\', \\'credit_id\\': \\'6489b2f3e2726000e8c326a5\\', \\'order\\': 53}, {\\'adult\\': False, \\'gender\\': 0, \\'id\\': 1209678, \\'known_for_department\\': \\'Acting\\', \\'name\\': \\'Filomena Spagnuolo\\', \\'original_name\\': \\'Filomena Spagnuolo\\', \\'popularity\\': 1.81, \\'profile_path\\': None, \\'cast_id\\': 200, \\'character\\': \\'Extra in Wedding Scene (uncredited)\\', \\'credit_id\\': \\'6489b306bf31f2505f40b8be\\', \\'order\\': 54}, {\\'adult\\': False, \\'gender\\': 2, \\'id\\': 16525, \\'known_for_department\\': \\'Acting\\', \\'name\\': \\'Joe Spinell\\', \\'original_name\\': \\'Joe Spinell\\', \\'popularity\\': 10.295, \\'profile_path\\': \\'/jiok99ZvHDOj51BBgio2qvum0Mb.jpg\\', \\'cast_id\\': 193, \\'character\\': \\'Willi Cicci (uncredited)\\', \\'credit_id\\': \\'6489b12ee2726000e8c325be\\', \\'order\\': 55}, {\\'adult\\': False, \\'gender\\': 2, \\'id\\': 138211, \\'known_for_department\\': \\'Acting\\', \\'name\\': \\'Gabriele Torrei\\', \\'original_name\\': \\'Gabriele Torrei\\', \\'popularity\\': 1.995, \\'profile_path\\': \\'/x3KeYWTWX5SqZ3NuQGiWiadO4DI.jpg\\', \\'cast_id\\': 197, \\'character\\': \\'Enzo the Baker (uncredited)\\', \\'credit_id\\': \\'6489b22a99259c00e2f7628c\\', \\'order\\': 56}, {\\'adult\\': False, \\'gender\\': 2, \\'id\\': 78336, \\'known_for_department\\': \\'Directing\\', \\'name\\': \\'Nick Vallelonga\\', \\'original_name\\': \\'Nick Vallelonga\\', \\'popularity\\': 4.619, \\'profile_path\\': \\'/h0GwAHN1J5lDysqgWxMIg66LNBW.jpg\\', \\'cast_id\\': 201, \\'character\\': \\'Wedding Party Guest (uncredited)\\', \\'credit_id\\': \\'6489b320e375c00139c2715d\\', \\'order\\': 57}, {\\'adult\\': False, \\'gender\\': 2, \\'id\\': 1234848, \\'known_for_department\\': \\'Acting\\', \\'name\\': \\'Conrad Yama\\', \\'original_name\\': \\'Conrad Yama\\', \\'popularity\\': 2.333, \\'profile_path\\': None, \\'cast_id\\': 194, \\'character\\': \\'Fruit Vendor (uncredited)\\', \\'credit_id\\': \\'6489b146e375c00139c270aa\\', \\'order\\': 58}]'"
      ]
     },
     "execution_count": 28,
     "metadata": {},
     "output_type": "execute_result"
    }
   ],
   "source": [
    "movies['cast'][0]\n"
   ]
  },
  {
   "cell_type": "code",
   "execution_count": 29,
   "metadata": {
    "executionInfo": {
     "elapsed": 22,
     "status": "ok",
     "timestamp": 1743840819785,
     "user": {
      "displayName": "Bagamma gari Madhu",
      "userId": "07191871593266793183"
     },
     "user_tz": -330
    },
    "id": "SDjCZ4VGAU4w"
   },
   "outputs": [],
   "source": [
    "def convert_cast(cast):\n",
    "  cast = ast.literal_eval(cast)\n",
    "  final = []\n",
    "  for id, cst in enumerate(cast):\n",
    "      final.append(cst['name'])\n",
    "      if id == 2:\n",
    "        break\n",
    "  return final\n"
   ]
  },
  {
   "cell_type": "code",
   "execution_count": 30,
   "metadata": {
    "colab": {
     "base_uri": "https://localhost:8080/"
    },
    "executionInfo": {
     "elapsed": 30,
     "status": "ok",
     "timestamp": 1743840820319,
     "user": {
      "displayName": "Bagamma gari Madhu",
      "userId": "07191871593266793183"
     },
     "user_tz": -330
    },
    "id": "JQQiE7DVApQn",
    "outputId": "bfc74ec7-d7cb-4b77-82ab-249267eb9d21"
   },
   "outputs": [
    {
     "data": {
      "text/plain": [
       "['Marlon Brando', 'Al Pacino', 'James Caan']"
      ]
     },
     "execution_count": 30,
     "metadata": {},
     "output_type": "execute_result"
    }
   ],
   "source": [
    "convert_cast(movies['cast'][0])\n"
   ]
  },
  {
   "cell_type": "code",
   "execution_count": 31,
   "metadata": {
    "executionInfo": {
     "elapsed": 25010,
     "status": "ok",
     "timestamp": 1743840893500,
     "user": {
      "displayName": "Bagamma gari Madhu",
      "userId": "07191871593266793183"
     },
     "user_tz": -330
    },
    "id": "Q16uGZjxAxvf"
   },
   "outputs": [],
   "source": [
    "movies['cast'] = movies['cast'].apply(convert_cast)\n"
   ]
  },
  {
   "cell_type": "code",
   "execution_count": 32,
   "metadata": {
    "colab": {
     "base_uri": "https://localhost:8080/",
     "height": 431
    },
    "executionInfo": {
     "elapsed": 77,
     "status": "ok",
     "timestamp": 1743841111709,
     "user": {
      "displayName": "Bagamma gari Madhu",
      "userId": "07191871593266793183"
     },
     "user_tz": -330
    },
    "id": "HiaXY1o-A29f",
    "outputId": "a4ee815f-bc10-4a2e-ef75-01ae2777b845"
   },
   "outputs": [
    {
     "data": {
      "text/html": [
       "<div>\n",
       "<style scoped>\n",
       "    .dataframe tbody tr th:only-of-type {\n",
       "        vertical-align: middle;\n",
       "    }\n",
       "\n",
       "    .dataframe tbody tr th {\n",
       "        vertical-align: top;\n",
       "    }\n",
       "\n",
       "    .dataframe thead th {\n",
       "        text-align: right;\n",
       "    }\n",
       "</style>\n",
       "<table border=\"1\" class=\"dataframe\">\n",
       "  <thead>\n",
       "    <tr style=\"text-align: right;\">\n",
       "      <th></th>\n",
       "      <th>title</th>\n",
       "      <th>genre_ids</th>\n",
       "      <th>poster_path</th>\n",
       "      <th>id</th>\n",
       "      <th>overview</th>\n",
       "      <th>keywords</th>\n",
       "      <th>cast</th>\n",
       "      <th>crew</th>\n",
       "    </tr>\n",
       "  </thead>\n",
       "  <tbody>\n",
       "    <tr>\n",
       "      <th>0</th>\n",
       "      <td>The Godfather</td>\n",
       "      <td>[Drama, Crime]</td>\n",
       "      <td>https://image.tmdb.org/t/p/original//3bhkrj58V...</td>\n",
       "      <td>238</td>\n",
       "      <td>[Spanning, the, years, 1945, to, 1955,, a, chr...</td>\n",
       "      <td>[italy, loss of loved one, love at first sight...</td>\n",
       "      <td>[Marlon Brando, Al Pacino, James Caan]</td>\n",
       "      <td>[Francis Ford Coppola]</td>\n",
       "    </tr>\n",
       "    <tr>\n",
       "      <th>1</th>\n",
       "      <td>The Shawshank Redemption</td>\n",
       "      <td>[Drama, Crime]</td>\n",
       "      <td>https://image.tmdb.org/t/p/original//lyQBXzOQS...</td>\n",
       "      <td>278</td>\n",
       "      <td>[Framed, in, the, 1940s, for, the, double, mur...</td>\n",
       "      <td>[prison, corruption, police brutality, based o...</td>\n",
       "      <td>[Tim Robbins, Morgan Freeman, Bob Gunton]</td>\n",
       "      <td>[Frank Darabont]</td>\n",
       "    </tr>\n",
       "    <tr>\n",
       "      <th>2</th>\n",
       "      <td>The Godfather Part II</td>\n",
       "      <td>[Drama, Crime]</td>\n",
       "      <td>https://image.tmdb.org/t/p/original//bMadFzhjy...</td>\n",
       "      <td>240</td>\n",
       "      <td>[In, the, continuing, saga, of, the, Corleone,...</td>\n",
       "      <td>[italy, italian american, cuba, symbolism, gan...</td>\n",
       "      <td>[Al Pacino, Robert Duvall, Diane Keaton]</td>\n",
       "      <td>[Francis Ford Coppola]</td>\n",
       "    </tr>\n",
       "    <tr>\n",
       "      <th>3</th>\n",
       "      <td>Schindler's List</td>\n",
       "      <td>[Drama, History, War]</td>\n",
       "      <td>https://image.tmdb.org/t/p/original//sF1U4EUQS...</td>\n",
       "      <td>424</td>\n",
       "      <td>[The, true, story, of, how, businessman, Oskar...</td>\n",
       "      <td>[based on novel or book, factory, concentratio...</td>\n",
       "      <td>[Liam Neeson, Ben Kingsley, Ralph Fiennes]</td>\n",
       "      <td>[Steven Spielberg]</td>\n",
       "    </tr>\n",
       "    <tr>\n",
       "      <th>4</th>\n",
       "      <td>Dilwale Dulhania Le Jayenge</td>\n",
       "      <td>[Comedy, Drama, Romance]</td>\n",
       "      <td>https://image.tmdb.org/t/p/original//ktejodbcd...</td>\n",
       "      <td>19404</td>\n",
       "      <td>[Raj, is, a, rich,, carefree,, happy-go-lucky,...</td>\n",
       "      <td>[family's daily life, family history, love-hat...</td>\n",
       "      <td>[Shah Rukh Khan, Kajol, Amrish Puri]</td>\n",
       "      <td>[Aditya Chopra]</td>\n",
       "    </tr>\n",
       "  </tbody>\n",
       "</table>\n",
       "</div>"
      ],
      "text/plain": [
       "                         title                 genre_ids  \\\n",
       "0                The Godfather            [Drama, Crime]   \n",
       "1     The Shawshank Redemption            [Drama, Crime]   \n",
       "2        The Godfather Part II            [Drama, Crime]   \n",
       "3             Schindler's List     [Drama, History, War]   \n",
       "4  Dilwale Dulhania Le Jayenge  [Comedy, Drama, Romance]   \n",
       "\n",
       "                                         poster_path     id  \\\n",
       "0  https://image.tmdb.org/t/p/original//3bhkrj58V...    238   \n",
       "1  https://image.tmdb.org/t/p/original//lyQBXzOQS...    278   \n",
       "2  https://image.tmdb.org/t/p/original//bMadFzhjy...    240   \n",
       "3  https://image.tmdb.org/t/p/original//sF1U4EUQS...    424   \n",
       "4  https://image.tmdb.org/t/p/original//ktejodbcd...  19404   \n",
       "\n",
       "                                            overview  \\\n",
       "0  [Spanning, the, years, 1945, to, 1955,, a, chr...   \n",
       "1  [Framed, in, the, 1940s, for, the, double, mur...   \n",
       "2  [In, the, continuing, saga, of, the, Corleone,...   \n",
       "3  [The, true, story, of, how, businessman, Oskar...   \n",
       "4  [Raj, is, a, rich,, carefree,, happy-go-lucky,...   \n",
       "\n",
       "                                            keywords  \\\n",
       "0  [italy, loss of loved one, love at first sight...   \n",
       "1  [prison, corruption, police brutality, based o...   \n",
       "2  [italy, italian american, cuba, symbolism, gan...   \n",
       "3  [based on novel or book, factory, concentratio...   \n",
       "4  [family's daily life, family history, love-hat...   \n",
       "\n",
       "                                         cast                    crew  \n",
       "0      [Marlon Brando, Al Pacino, James Caan]  [Francis Ford Coppola]  \n",
       "1   [Tim Robbins, Morgan Freeman, Bob Gunton]        [Frank Darabont]  \n",
       "2    [Al Pacino, Robert Duvall, Diane Keaton]  [Francis Ford Coppola]  \n",
       "3  [Liam Neeson, Ben Kingsley, Ralph Fiennes]      [Steven Spielberg]  \n",
       "4        [Shah Rukh Khan, Kajol, Amrish Puri]         [Aditya Chopra]  "
      ]
     },
     "execution_count": 32,
     "metadata": {},
     "output_type": "execute_result"
    }
   ],
   "source": [
    "movies.head()\n"
   ]
  },
  {
   "cell_type": "code",
   "execution_count": 33,
   "metadata": {
    "executionInfo": {
     "elapsed": 40,
     "status": "ok",
     "timestamp": 1743841123353,
     "user": {
      "displayName": "Bagamma gari Madhu",
      "userId": "07191871593266793183"
     },
     "user_tz": -330
    },
    "id": "kQXd57cSB9Qd"
   },
   "outputs": [],
   "source": [
    "movies.dropna(inplace=True)\n"
   ]
  },
  {
   "cell_type": "code",
   "execution_count": 34,
   "metadata": {
    "executionInfo": {
     "elapsed": 314,
     "status": "ok",
     "timestamp": 1743841149358,
     "user": {
      "displayName": "Bagamma gari Madhu",
      "userId": "07191871593266793183"
     },
     "user_tz": -330
    },
    "id": "U4t4U4w6BHVu"
   },
   "outputs": [],
   "source": [
    "movies['keywords'] = movies['keywords'].apply(lambda x : [i.replace(\" \", \"\") for i in x])\n",
    "movies['genre_ids'] = movies['genre_ids'].apply(lambda x : [i.replace(\" \", \"\") for i in x])\n",
    "movies['cast'] = movies['cast'].apply(lambda x : [i.replace(\" \", \"\") for i in x])\n",
    "movies['crew'] = movies['crew'].apply(lambda x : [i.replace(\" \", \"\") for i in x])\n"
   ]
  },
  {
   "cell_type": "code",
   "execution_count": 35,
   "metadata": {
    "colab": {
     "base_uri": "https://localhost:8080/",
     "height": 521
    },
    "executionInfo": {
     "elapsed": 63,
     "status": "ok",
     "timestamp": 1743841157512,
     "user": {
      "displayName": "Bagamma gari Madhu",
      "userId": "07191871593266793183"
     },
     "user_tz": -330
    },
    "id": "6rViHySCBcAW",
    "outputId": "5ea81e75-d3e9-4766-a479-3785a7c988ae"
   },
   "outputs": [
    {
     "data": {
      "text/html": [
       "<div>\n",
       "<style scoped>\n",
       "    .dataframe tbody tr th:only-of-type {\n",
       "        vertical-align: middle;\n",
       "    }\n",
       "\n",
       "    .dataframe tbody tr th {\n",
       "        vertical-align: top;\n",
       "    }\n",
       "\n",
       "    .dataframe thead th {\n",
       "        text-align: right;\n",
       "    }\n",
       "</style>\n",
       "<table border=\"1\" class=\"dataframe\">\n",
       "  <thead>\n",
       "    <tr style=\"text-align: right;\">\n",
       "      <th></th>\n",
       "      <th>title</th>\n",
       "      <th>genre_ids</th>\n",
       "      <th>poster_path</th>\n",
       "      <th>id</th>\n",
       "      <th>overview</th>\n",
       "      <th>keywords</th>\n",
       "      <th>cast</th>\n",
       "      <th>crew</th>\n",
       "    </tr>\n",
       "  </thead>\n",
       "  <tbody>\n",
       "    <tr>\n",
       "      <th>0</th>\n",
       "      <td>The Godfather</td>\n",
       "      <td>[Drama, Crime]</td>\n",
       "      <td>https://image.tmdb.org/t/p/original//3bhkrj58V...</td>\n",
       "      <td>238</td>\n",
       "      <td>[Spanning, the, years, 1945, to, 1955,, a, chr...</td>\n",
       "      <td>[italy, lossoflovedone, loveatfirstsight, base...</td>\n",
       "      <td>[MarlonBrando, AlPacino, JamesCaan]</td>\n",
       "      <td>[FrancisFordCoppola]</td>\n",
       "    </tr>\n",
       "    <tr>\n",
       "      <th>1</th>\n",
       "      <td>The Shawshank Redemption</td>\n",
       "      <td>[Drama, Crime]</td>\n",
       "      <td>https://image.tmdb.org/t/p/original//lyQBXzOQS...</td>\n",
       "      <td>278</td>\n",
       "      <td>[Framed, in, the, 1940s, for, the, double, mur...</td>\n",
       "      <td>[prison, corruption, policebrutality, basedonn...</td>\n",
       "      <td>[TimRobbins, MorganFreeman, BobGunton]</td>\n",
       "      <td>[FrankDarabont]</td>\n",
       "    </tr>\n",
       "    <tr>\n",
       "      <th>2</th>\n",
       "      <td>The Godfather Part II</td>\n",
       "      <td>[Drama, Crime]</td>\n",
       "      <td>https://image.tmdb.org/t/p/original//bMadFzhjy...</td>\n",
       "      <td>240</td>\n",
       "      <td>[In, the, continuing, saga, of, the, Corleone,...</td>\n",
       "      <td>[italy, italianamerican, cuba, symbolism, gang...</td>\n",
       "      <td>[AlPacino, RobertDuvall, DianeKeaton]</td>\n",
       "      <td>[FrancisFordCoppola]</td>\n",
       "    </tr>\n",
       "    <tr>\n",
       "      <th>3</th>\n",
       "      <td>Schindler's List</td>\n",
       "      <td>[Drama, History, War]</td>\n",
       "      <td>https://image.tmdb.org/t/p/original//sF1U4EUQS...</td>\n",
       "      <td>424</td>\n",
       "      <td>[The, true, story, of, how, businessman, Oskar...</td>\n",
       "      <td>[basedonnovelorbook, factory, concentrationcam...</td>\n",
       "      <td>[LiamNeeson, BenKingsley, RalphFiennes]</td>\n",
       "      <td>[StevenSpielberg]</td>\n",
       "    </tr>\n",
       "    <tr>\n",
       "      <th>4</th>\n",
       "      <td>Dilwale Dulhania Le Jayenge</td>\n",
       "      <td>[Comedy, Drama, Romance]</td>\n",
       "      <td>https://image.tmdb.org/t/p/original//ktejodbcd...</td>\n",
       "      <td>19404</td>\n",
       "      <td>[Raj, is, a, rich,, carefree,, happy-go-lucky,...</td>\n",
       "      <td>[family'sdailylife, familyhistory, love-hatere...</td>\n",
       "      <td>[ShahRukhKhan, Kajol, AmrishPuri]</td>\n",
       "      <td>[AdityaChopra]</td>\n",
       "    </tr>\n",
       "  </tbody>\n",
       "</table>\n",
       "</div>"
      ],
      "text/plain": [
       "                         title                 genre_ids  \\\n",
       "0                The Godfather            [Drama, Crime]   \n",
       "1     The Shawshank Redemption            [Drama, Crime]   \n",
       "2        The Godfather Part II            [Drama, Crime]   \n",
       "3             Schindler's List     [Drama, History, War]   \n",
       "4  Dilwale Dulhania Le Jayenge  [Comedy, Drama, Romance]   \n",
       "\n",
       "                                         poster_path     id  \\\n",
       "0  https://image.tmdb.org/t/p/original//3bhkrj58V...    238   \n",
       "1  https://image.tmdb.org/t/p/original//lyQBXzOQS...    278   \n",
       "2  https://image.tmdb.org/t/p/original//bMadFzhjy...    240   \n",
       "3  https://image.tmdb.org/t/p/original//sF1U4EUQS...    424   \n",
       "4  https://image.tmdb.org/t/p/original//ktejodbcd...  19404   \n",
       "\n",
       "                                            overview  \\\n",
       "0  [Spanning, the, years, 1945, to, 1955,, a, chr...   \n",
       "1  [Framed, in, the, 1940s, for, the, double, mur...   \n",
       "2  [In, the, continuing, saga, of, the, Corleone,...   \n",
       "3  [The, true, story, of, how, businessman, Oskar...   \n",
       "4  [Raj, is, a, rich,, carefree,, happy-go-lucky,...   \n",
       "\n",
       "                                            keywords  \\\n",
       "0  [italy, lossoflovedone, loveatfirstsight, base...   \n",
       "1  [prison, corruption, policebrutality, basedonn...   \n",
       "2  [italy, italianamerican, cuba, symbolism, gang...   \n",
       "3  [basedonnovelorbook, factory, concentrationcam...   \n",
       "4  [family'sdailylife, familyhistory, love-hatere...   \n",
       "\n",
       "                                      cast                  crew  \n",
       "0      [MarlonBrando, AlPacino, JamesCaan]  [FrancisFordCoppola]  \n",
       "1   [TimRobbins, MorganFreeman, BobGunton]       [FrankDarabont]  \n",
       "2    [AlPacino, RobertDuvall, DianeKeaton]  [FrancisFordCoppola]  \n",
       "3  [LiamNeeson, BenKingsley, RalphFiennes]     [StevenSpielberg]  \n",
       "4        [ShahRukhKhan, Kajol, AmrishPuri]        [AdityaChopra]  "
      ]
     },
     "execution_count": 35,
     "metadata": {},
     "output_type": "execute_result"
    }
   ],
   "source": [
    "movies.head()\n"
   ]
  },
  {
   "cell_type": "code",
   "execution_count": 36,
   "metadata": {
    "colab": {
     "base_uri": "https://localhost:8080/"
    },
    "executionInfo": {
     "elapsed": 41,
     "status": "ok",
     "timestamp": 1743841190108,
     "user": {
      "displayName": "Bagamma gari Madhu",
      "userId": "07191871593266793183"
     },
     "user_tz": -330
    },
    "id": "GlnwT03CBvqm",
    "outputId": "a7c44b7f-003b-432a-aa20-0be5394037bf"
   },
   "outputs": [
    {
     "data": {
      "text/plain": [
       "(9997, 8)"
      ]
     },
     "execution_count": 36,
     "metadata": {},
     "output_type": "execute_result"
    }
   ],
   "source": [
    "movies.shape\n"
   ]
  },
  {
   "cell_type": "code",
   "execution_count": 37,
   "metadata": {
    "executionInfo": {
     "elapsed": 117,
     "status": "ok",
     "timestamp": 1743841230682,
     "user": {
      "displayName": "Bagamma gari Madhu",
      "userId": "07191871593266793183"
     },
     "user_tz": -330
    },
    "id": "6FqJheE_CN-9"
   },
   "outputs": [],
   "source": [
    "movies['tags'] = movies['overview'] + movies['genre_ids'] + movies['keywords'] + movies['cast'] + movies['crew']\n"
   ]
  },
  {
   "cell_type": "code",
   "execution_count": 38,
   "metadata": {
    "colab": {
     "base_uri": "https://localhost:8080/"
    },
    "executionInfo": {
     "elapsed": 37,
     "status": "ok",
     "timestamp": 1743841241944,
     "user": {
      "displayName": "Bagamma gari Madhu",
      "userId": "07191871593266793183"
     },
     "user_tz": -330
    },
    "id": "ctMepGqSCX4M",
    "outputId": "f5c5cbd3-7294-4064-8eb7-48b78de18b3b"
   },
   "outputs": [
    {
     "data": {
      "text/plain": [
       "['Spanning',\n",
       " 'the',\n",
       " 'years',\n",
       " '1945',\n",
       " 'to',\n",
       " '1955,',\n",
       " 'a',\n",
       " 'chronicle',\n",
       " 'of',\n",
       " 'the',\n",
       " 'fictional',\n",
       " 'Italian-American',\n",
       " 'Corleone',\n",
       " 'crime',\n",
       " 'family.',\n",
       " 'When',\n",
       " 'organized',\n",
       " 'crime',\n",
       " 'family',\n",
       " 'patriarch,',\n",
       " 'Vito',\n",
       " 'Corleone',\n",
       " 'barely',\n",
       " 'survives',\n",
       " 'an',\n",
       " 'attempt',\n",
       " 'on',\n",
       " 'his',\n",
       " 'life,',\n",
       " 'his',\n",
       " 'youngest',\n",
       " 'son,',\n",
       " 'Michael',\n",
       " 'steps',\n",
       " 'in',\n",
       " 'to',\n",
       " 'take',\n",
       " 'care',\n",
       " 'of',\n",
       " 'the',\n",
       " 'would-be',\n",
       " 'killers,',\n",
       " 'launching',\n",
       " 'a',\n",
       " 'campaign',\n",
       " 'of',\n",
       " 'bloody',\n",
       " 'revenge.',\n",
       " 'Drama',\n",
       " 'Crime',\n",
       " 'italy',\n",
       " 'lossoflovedone',\n",
       " 'loveatfirstsight',\n",
       " 'basedonnovelorbook',\n",
       " 'europe',\n",
       " 'symbolism',\n",
       " 'patriarch',\n",
       " 'organizedcrime',\n",
       " 'mafia',\n",
       " 'lawyer',\n",
       " 'religion',\n",
       " 'revengemotive',\n",
       " 'crimefamily',\n",
       " 'sicilianmafia',\n",
       " 'religioushypocrisy',\n",
       " 'gunviolence',\n",
       " 'risetopower',\n",
       " 'deadhorse',\n",
       " 'gangviolence',\n",
       " '1940s',\n",
       " '1950s',\n",
       " 'mafiawar',\n",
       " 'MarlonBrando',\n",
       " 'AlPacino',\n",
       " 'JamesCaan',\n",
       " 'FrancisFordCoppola']"
      ]
     },
     "execution_count": 38,
     "metadata": {},
     "output_type": "execute_result"
    }
   ],
   "source": [
    "movies['tags'][0]\n"
   ]
  },
  {
   "cell_type": "code",
   "execution_count": 39,
   "metadata": {
    "executionInfo": {
     "elapsed": 33,
     "status": "ok",
     "timestamp": 1743841336991,
     "user": {
      "displayName": "Bagamma gari Madhu",
      "userId": "07191871593266793183"
     },
     "user_tz": -330
    },
    "id": "uIDQ3-hgCZXN"
   },
   "outputs": [],
   "source": [
    "df = movies[['title', 'poster_path', 'tags']]\n"
   ]
  },
  {
   "cell_type": "code",
   "execution_count": 40,
   "metadata": {
    "colab": {
     "base_uri": "https://localhost:8080/",
     "height": 81
    },
    "executionInfo": {
     "elapsed": 22,
     "status": "ok",
     "timestamp": 1743841337778,
     "user": {
      "displayName": "Bagamma gari Madhu",
      "userId": "07191871593266793183"
     },
     "user_tz": -330
    },
    "id": "bLYxK1jSCkQF",
    "outputId": "44349674-737f-4b67-e65e-cf1bba3c1867"
   },
   "outputs": [
    {
     "data": {
      "text/html": [
       "<div>\n",
       "<style scoped>\n",
       "    .dataframe tbody tr th:only-of-type {\n",
       "        vertical-align: middle;\n",
       "    }\n",
       "\n",
       "    .dataframe tbody tr th {\n",
       "        vertical-align: top;\n",
       "    }\n",
       "\n",
       "    .dataframe thead th {\n",
       "        text-align: right;\n",
       "    }\n",
       "</style>\n",
       "<table border=\"1\" class=\"dataframe\">\n",
       "  <thead>\n",
       "    <tr style=\"text-align: right;\">\n",
       "      <th></th>\n",
       "      <th>title</th>\n",
       "      <th>poster_path</th>\n",
       "      <th>tags</th>\n",
       "    </tr>\n",
       "  </thead>\n",
       "  <tbody>\n",
       "    <tr>\n",
       "      <th>1490</th>\n",
       "      <td>Bonnie and Clyde</td>\n",
       "      <td>https://image.tmdb.org/t/p/original//sCSQFK9kM...</td>\n",
       "      <td>[In, the, 1930s,, bored, waitress, Bonnie, Par...</td>\n",
       "    </tr>\n",
       "  </tbody>\n",
       "</table>\n",
       "</div>"
      ],
      "text/plain": [
       "                 title                                        poster_path  \\\n",
       "1490  Bonnie and Clyde  https://image.tmdb.org/t/p/original//sCSQFK9kM...   \n",
       "\n",
       "                                                   tags  \n",
       "1490  [In, the, 1930s,, bored, waitress, Bonnie, Par...  "
      ]
     },
     "execution_count": 40,
     "metadata": {},
     "output_type": "execute_result"
    }
   ],
   "source": [
    "df.sample()\n"
   ]
  },
  {
   "cell_type": "code",
   "execution_count": 43,
   "metadata": {
    "executionInfo": {
     "elapsed": 399,
     "status": "ok",
     "timestamp": 1743841424663,
     "user": {
      "displayName": "Bagamma gari Madhu",
      "userId": "07191871593266793183"
     },
     "user_tz": -330
    },
    "id": "aWMYd6JiCpql"
   },
   "outputs": [],
   "source": [
    "df.to_csv('movies_cleaned.csv', index=False)\n"
   ]
  },
  {
   "cell_type": "code",
   "execution_count": null,
   "metadata": {
    "id": "g4eJ0w-ECz_V"
   },
   "outputs": [],
   "source": []
  }
 ],
 "metadata": {
  "colab": {
   "authorship_tag": "ABX9TyNJTpJMLgfkGZYPqqmna+6P",
   "mount_file_id": "1-WYyFRugE-BX4KTEgivKPwatEwNgY2zy",
   "provenance": []
  },
  "kernelspec": {
   "display_name": "base",
   "language": "python",
   "name": "python3"
  },
  "language_info": {
   "codemirror_mode": {
    "name": "ipython",
    "version": 3
   },
   "file_extension": ".py",
   "mimetype": "text/x-python",
   "name": "python",
   "nbconvert_exporter": "python",
   "pygments_lexer": "ipython3",
   "version": "3.12.7"
  }
 },
 "nbformat": 4,
 "nbformat_minor": 0
}
