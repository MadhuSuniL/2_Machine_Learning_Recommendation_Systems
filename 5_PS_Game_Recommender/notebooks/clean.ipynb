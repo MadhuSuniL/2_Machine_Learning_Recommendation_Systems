{
 "cells": [
  {
   "cell_type": "markdown",
   "id": "09bfcb4c",
   "metadata": {},
   "source": [
    "Project: 5 PS Game Recommender\n",
    "\n",
    "Problem Statement:\n",
    "Recommends the PS game based on that provided game"
   ]
  },
  {
   "cell_type": "code",
   "execution_count": 154,
   "id": "12e528de",
   "metadata": {},
   "outputs": [],
   "source": [
    "import os\n",
    "import ast\n",
    "import pandas as pd\n",
    "import numpy as np\n",
    "import matplotlib.pyplot as plt\n",
    "import seaborn as sns\n",
    "\n"
   ]
  },
  {
   "cell_type": "code",
   "execution_count": 155,
   "id": "e6f2a84c",
   "metadata": {},
   "outputs": [],
   "source": [
    "os.chdir(os.getcwd().replace('notebooks', 'data'))\n",
    "\n",
    "pc_games = pd.read_csv('ps_games.csv')\n"
   ]
  },
  {
   "cell_type": "code",
   "execution_count": 156,
   "id": "4b15e870",
   "metadata": {},
   "outputs": [],
   "source": [
    "pc_games.columns = pc_games.columns.str.replace(' ', '_')\n"
   ]
  },
  {
   "cell_type": "code",
   "execution_count": 157,
   "id": "d282a0dc",
   "metadata": {},
   "outputs": [
    {
     "data": {
      "text/html": [
       "<div>\n",
       "<style scoped>\n",
       "    .dataframe tbody tr th:only-of-type {\n",
       "        vertical-align: middle;\n",
       "    }\n",
       "\n",
       "    .dataframe tbody tr th {\n",
       "        vertical-align: top;\n",
       "    }\n",
       "\n",
       "    .dataframe thead th {\n",
       "        text-align: right;\n",
       "    }\n",
       "</style>\n",
       "<table border=\"1\" class=\"dataframe\">\n",
       "  <thead>\n",
       "    <tr style=\"text-align: right;\">\n",
       "      <th></th>\n",
       "      <th>Unnamed:_0</th>\n",
       "      <th>Name</th>\n",
       "      <th>Link</th>\n",
       "      <th>Distributer</th>\n",
       "      <th>Developer</th>\n",
       "      <th>Release_Date</th>\n",
       "      <th>Also_On</th>\n",
       "      <th>Summary</th>\n",
       "      <th>Metascore</th>\n",
       "      <th>Meta_Status</th>\n",
       "      <th>...</th>\n",
       "      <th>Userscore</th>\n",
       "      <th>Userscore_Status</th>\n",
       "      <th>#_of_User_Reviews</th>\n",
       "      <th>User_Positive</th>\n",
       "      <th>User_Mixed</th>\n",
       "      <th>User_Negative</th>\n",
       "      <th>Genres</th>\n",
       "      <th>#_Of_Players</th>\n",
       "      <th>Rating</th>\n",
       "      <th>Awards</th>\n",
       "    </tr>\n",
       "  </thead>\n",
       "  <tbody>\n",
       "    <tr>\n",
       "      <th>3637</th>\n",
       "      <td>3637</td>\n",
       "      <td>buccaneer-the-pursuit-of-infamy</td>\n",
       "      <td>https://www.metacritic.com/game/pc/buccaneer-t...</td>\n",
       "      <td>Blitz Games Studios</td>\n",
       "      <td>Stickmen Studios</td>\n",
       "      <td>Dec 5, 2008</td>\n",
       "      <td>NaN</td>\n",
       "      <td>Set sail across the Caribbean with Buccaneer. ...</td>\n",
       "      <td>68</td>\n",
       "      <td>mixed or average reviews</td>\n",
       "      <td>...</td>\n",
       "      <td>6.7</td>\n",
       "      <td>mixed or average reviews</td>\n",
       "      <td>15.0</td>\n",
       "      <td>4.0</td>\n",
       "      <td>1.0</td>\n",
       "      <td>4.0</td>\n",
       "      <td>Strategy, General, General</td>\n",
       "      <td>NaN</td>\n",
       "      <td>E</td>\n",
       "      <td>#94 Best PC Game of 2008\\n#73 Most Discussed P...</td>\n",
       "    </tr>\n",
       "    <tr>\n",
       "      <th>6814</th>\n",
       "      <td>1523</td>\n",
       "      <td>counterspy</td>\n",
       "      <td>https://www.metacritic.com/game/playstation-4/...</td>\n",
       "      <td>SCEA</td>\n",
       "      <td>Dynamighty</td>\n",
       "      <td>Aug 19, 2014</td>\n",
       "      <td>iPhone/iPad, PlayStation 3, PlayStation Vita</td>\n",
       "      <td>Synthesizing the spy mythology and unique aest...</td>\n",
       "      <td>67</td>\n",
       "      <td>mixed or average reviews</td>\n",
       "      <td>...</td>\n",
       "      <td>6.7</td>\n",
       "      <td>mixed or average reviews</td>\n",
       "      <td>174.0</td>\n",
       "      <td>18.0</td>\n",
       "      <td>13.0</td>\n",
       "      <td>4.0</td>\n",
       "      <td>Action, General</td>\n",
       "      <td>NaN</td>\n",
       "      <td>T</td>\n",
       "      <td>#100 Best PS4 Game of 2014\\n#64 Most Discussed...</td>\n",
       "    </tr>\n",
       "    <tr>\n",
       "      <th>10246</th>\n",
       "      <td>781</td>\n",
       "      <td>tembo-the-badass-elephant</td>\n",
       "      <td>https://www.metacritic.com/game/xbox-one/tembo...</td>\n",
       "      <td>Sega</td>\n",
       "      <td>Game Freak</td>\n",
       "      <td>Jul 21, 2015</td>\n",
       "      <td>PC, PlayStation 4</td>\n",
       "      <td>TEMBO THE BADASS ELEPHANT is a larger than lif...</td>\n",
       "      <td>70.0</td>\n",
       "      <td>mixed or average reviews</td>\n",
       "      <td>...</td>\n",
       "      <td>6.8</td>\n",
       "      <td>mixed or average reviews</td>\n",
       "      <td>30.0</td>\n",
       "      <td>0.0</td>\n",
       "      <td>1.0</td>\n",
       "      <td>1.0</td>\n",
       "      <td>Action Adventure, General</td>\n",
       "      <td>NaN</td>\n",
       "      <td>E10+</td>\n",
       "      <td>NaN</td>\n",
       "    </tr>\n",
       "    <tr>\n",
       "      <th>6064</th>\n",
       "      <td>773</td>\n",
       "      <td>mutant-year-zero-road-to-eden</td>\n",
       "      <td>https://www.metacritic.com/game/playstation-4/...</td>\n",
       "      <td>Funcom</td>\n",
       "      <td>High Voltage Software, The Bearded Ladies Cons...</td>\n",
       "      <td>Dec 4, 2018</td>\n",
       "      <td>PC, Xbox One</td>\n",
       "      <td>A tactical adventure game combining the turn-b...</td>\n",
       "      <td>76</td>\n",
       "      <td>generally favorable reviews</td>\n",
       "      <td>...</td>\n",
       "      <td>7.7</td>\n",
       "      <td>generally favorable reviews</td>\n",
       "      <td>97.0</td>\n",
       "      <td>21.0</td>\n",
       "      <td>4.0</td>\n",
       "      <td>2.0</td>\n",
       "      <td>Strategy, Turn-Based, Tactics</td>\n",
       "      <td>No Online Multiplayer</td>\n",
       "      <td>M</td>\n",
       "      <td>#90 Most Discussed PS4 Game of 2018</td>\n",
       "    </tr>\n",
       "    <tr>\n",
       "      <th>8004</th>\n",
       "      <td>243</td>\n",
       "      <td>yokus-island-express</td>\n",
       "      <td>https://www.metacritic.com/game/switch/yokus-i...</td>\n",
       "      <td>Villa Gorilla</td>\n",
       "      <td>Villa Gorilla</td>\n",
       "      <td>May 29, 2018</td>\n",
       "      <td>PC, PlayStation 4, Xbox One</td>\n",
       "      <td>Yoku’s Island Express is an open world/metroid...</td>\n",
       "      <td>82.0</td>\n",
       "      <td>generally favorable reviews</td>\n",
       "      <td>...</td>\n",
       "      <td>8.2</td>\n",
       "      <td>generally favorable reviews</td>\n",
       "      <td>119.0</td>\n",
       "      <td>31.0</td>\n",
       "      <td>1.0</td>\n",
       "      <td>3.0</td>\n",
       "      <td>Action, Pinball</td>\n",
       "      <td>No Online Multiplayer</td>\n",
       "      <td>E10+</td>\n",
       "      <td>#59 Best Switch Game of 2018\\n#50 Most Discuss...</td>\n",
       "    </tr>\n",
       "  </tbody>\n",
       "</table>\n",
       "<p>5 rows × 24 columns</p>\n",
       "</div>"
      ],
      "text/plain": [
       "       Unnamed:_0                             Name  \\\n",
       "3637         3637  buccaneer-the-pursuit-of-infamy   \n",
       "6814         1523                       counterspy   \n",
       "10246         781        tembo-the-badass-elephant   \n",
       "6064          773    mutant-year-zero-road-to-eden   \n",
       "8004          243             yokus-island-express   \n",
       "\n",
       "                                                    Link          Distributer  \\\n",
       "3637   https://www.metacritic.com/game/pc/buccaneer-t...  Blitz Games Studios   \n",
       "6814   https://www.metacritic.com/game/playstation-4/...                 SCEA   \n",
       "10246  https://www.metacritic.com/game/xbox-one/tembo...                 Sega   \n",
       "6064   https://www.metacritic.com/game/playstation-4/...               Funcom   \n",
       "8004   https://www.metacritic.com/game/switch/yokus-i...        Villa Gorilla   \n",
       "\n",
       "                                               Developer  Release_Date  \\\n",
       "3637                                    Stickmen Studios   Dec 5, 2008   \n",
       "6814                                          Dynamighty  Aug 19, 2014   \n",
       "10246                                         Game Freak  Jul 21, 2015   \n",
       "6064   High Voltage Software, The Bearded Ladies Cons...   Dec 4, 2018   \n",
       "8004                                       Villa Gorilla  May 29, 2018   \n",
       "\n",
       "                                            Also_On  \\\n",
       "3637                                            NaN   \n",
       "6814   iPhone/iPad, PlayStation 3, PlayStation Vita   \n",
       "10246                             PC, PlayStation 4   \n",
       "6064                                   PC, Xbox One   \n",
       "8004                    PC, PlayStation 4, Xbox One   \n",
       "\n",
       "                                                 Summary Metascore  \\\n",
       "3637   Set sail across the Caribbean with Buccaneer. ...        68   \n",
       "6814   Synthesizing the spy mythology and unique aest...        67   \n",
       "10246  TEMBO THE BADASS ELEPHANT is a larger than lif...      70.0   \n",
       "6064   A tactical adventure game combining the turn-b...        76   \n",
       "8004   Yoku’s Island Express is an open world/metroid...      82.0   \n",
       "\n",
       "                       Meta_Status  ...  Userscore  \\\n",
       "3637      mixed or average reviews  ...        6.7   \n",
       "6814      mixed or average reviews  ...        6.7   \n",
       "10246     mixed or average reviews  ...        6.8   \n",
       "6064   generally favorable reviews  ...        7.7   \n",
       "8004   generally favorable reviews  ...        8.2   \n",
       "\n",
       "                  Userscore_Status  #_of_User_Reviews  User_Positive  \\\n",
       "3637      mixed or average reviews               15.0            4.0   \n",
       "6814      mixed or average reviews              174.0           18.0   \n",
       "10246     mixed or average reviews               30.0            0.0   \n",
       "6064   generally favorable reviews               97.0           21.0   \n",
       "8004   generally favorable reviews              119.0           31.0   \n",
       "\n",
       "      User_Mixed User_Negative                         Genres  \\\n",
       "3637         1.0           4.0     Strategy, General, General   \n",
       "6814        13.0           4.0                Action, General   \n",
       "10246        1.0           1.0      Action Adventure, General   \n",
       "6064         4.0           2.0  Strategy, Turn-Based, Tactics   \n",
       "8004         1.0           3.0                Action, Pinball   \n",
       "\n",
       "                #_Of_Players  Rating  \\\n",
       "3637                     NaN       E   \n",
       "6814                     NaN       T   \n",
       "10246                    NaN    E10+   \n",
       "6064   No Online Multiplayer       M   \n",
       "8004   No Online Multiplayer    E10+   \n",
       "\n",
       "                                                  Awards  \n",
       "3637   #94 Best PC Game of 2008\\n#73 Most Discussed P...  \n",
       "6814   #100 Best PS4 Game of 2014\\n#64 Most Discussed...  \n",
       "10246                                                NaN  \n",
       "6064                 #90 Most Discussed PS4 Game of 2018  \n",
       "8004   #59 Best Switch Game of 2018\\n#50 Most Discuss...  \n",
       "\n",
       "[5 rows x 24 columns]"
      ]
     },
     "execution_count": 157,
     "metadata": {},
     "output_type": "execute_result"
    }
   ],
   "source": [
    "pc_games.sample(5)\n"
   ]
  },
  {
   "cell_type": "code",
   "execution_count": 158,
   "id": "59a743a8",
   "metadata": {},
   "outputs": [
    {
     "data": {
      "text/plain": [
       "Index(['Unnamed:_0', 'Name', 'Link', 'Distributer', 'Developer',\n",
       "       'Release_Date', 'Also_On', 'Summary', 'Metascore', 'Meta_Status',\n",
       "       '#_of_Critic_Reviews', 'Critic_Positive', 'Critic_Mixed',\n",
       "       'Critic_Negative', 'Userscore', 'Userscore_Status', '#_of_User_Reviews',\n",
       "       'User_Positive', 'User_Mixed', 'User_Negative', 'Genres',\n",
       "       '#_Of_Players', 'Rating', 'Awards'],\n",
       "      dtype='object')"
      ]
     },
     "execution_count": 158,
     "metadata": {},
     "output_type": "execute_result"
    }
   ],
   "source": [
    "pc_games.columns\n"
   ]
  },
  {
   "cell_type": "code",
   "execution_count": 159,
   "id": "f530d139",
   "metadata": {},
   "outputs": [],
   "source": [
    "selected_columns = [\n",
    "    'Name',\n",
    "    'Summary',\n",
    "    'Genres',\n",
    "    'Metascore',\n",
    "    'Userscore',\n",
    "    '#_Of_Players',\n",
    "    'Rating',\n",
    "    'Release_Date',\n",
    "    'Distributer',\n",
    "    'Meta_Status',\n",
    "    'Userscore_Status',\n",
    "]\n",
    "df = pc_games[selected_columns]\n"
   ]
  },
  {
   "cell_type": "code",
   "execution_count": 160,
   "id": "7759164e",
   "metadata": {},
   "outputs": [
    {
     "data": {
      "text/html": [
       "<div>\n",
       "<style scoped>\n",
       "    .dataframe tbody tr th:only-of-type {\n",
       "        vertical-align: middle;\n",
       "    }\n",
       "\n",
       "    .dataframe tbody tr th {\n",
       "        vertical-align: top;\n",
       "    }\n",
       "\n",
       "    .dataframe thead th {\n",
       "        text-align: right;\n",
       "    }\n",
       "</style>\n",
       "<table border=\"1\" class=\"dataframe\">\n",
       "  <thead>\n",
       "    <tr style=\"text-align: right;\">\n",
       "      <th></th>\n",
       "      <th>Name</th>\n",
       "      <th>Summary</th>\n",
       "      <th>Genres</th>\n",
       "      <th>Metascore</th>\n",
       "      <th>Userscore</th>\n",
       "      <th>#_Of_Players</th>\n",
       "      <th>Rating</th>\n",
       "      <th>Release_Date</th>\n",
       "      <th>Distributer</th>\n",
       "      <th>Meta_Status</th>\n",
       "      <th>Userscore_Status</th>\n",
       "    </tr>\n",
       "  </thead>\n",
       "  <tbody>\n",
       "    <tr>\n",
       "      <th>3962</th>\n",
       "      <td>agatha-christie-evil-under-the-sun</td>\n",
       "      <td>Famous detective Hercule Poirot is back in typ...</td>\n",
       "      <td>Adventure, 3D, Modern, Third-Person, Modern</td>\n",
       "      <td>66</td>\n",
       "      <td>7.1</td>\n",
       "      <td>NaN</td>\n",
       "      <td>T</td>\n",
       "      <td>Oct 16, 2007</td>\n",
       "      <td>The Adventure Company</td>\n",
       "      <td>mixed or average reviews</td>\n",
       "      <td>mixed or average reviews</td>\n",
       "    </tr>\n",
       "    <tr>\n",
       "      <th>3689</th>\n",
       "      <td>marvels-avengers</td>\n",
       "      <td>Marvel’s Avengers is an epic, third-person, ac...</td>\n",
       "      <td>Action, General</td>\n",
       "      <td>68</td>\n",
       "      <td>3.4</td>\n",
       "      <td>4</td>\n",
       "      <td>T</td>\n",
       "      <td>Sep 4, 2020</td>\n",
       "      <td>Square Enix</td>\n",
       "      <td>mixed or average reviews</td>\n",
       "      <td>generally unfavorable reviews</td>\n",
       "    </tr>\n",
       "    <tr>\n",
       "      <th>7344</th>\n",
       "      <td>raid-world-war-ii</td>\n",
       "      <td>Raid: World War II is an action-packed four pl...</td>\n",
       "      <td>Action Adventure, General</td>\n",
       "      <td>46</td>\n",
       "      <td>3.7</td>\n",
       "      <td>4</td>\n",
       "      <td>M</td>\n",
       "      <td>Oct 10, 2017</td>\n",
       "      <td>Starbreeze , 505 Games</td>\n",
       "      <td>generally unfavorable reviews</td>\n",
       "      <td>generally unfavorable reviews</td>\n",
       "    </tr>\n",
       "    <tr>\n",
       "      <th>3331</th>\n",
       "      <td>tom-clancys-hawx</td>\n",
       "      <td>Tom Clancy's HAWX (high-altitude warfare) prom...</td>\n",
       "      <td>Action, Simulation, Flight, Flight, Combat</td>\n",
       "      <td>70</td>\n",
       "      <td>7.2</td>\n",
       "      <td>NaN</td>\n",
       "      <td>T</td>\n",
       "      <td>Mar 17, 2009</td>\n",
       "      <td>Ubisoft</td>\n",
       "      <td>mixed or average reviews</td>\n",
       "      <td>mixed or average reviews</td>\n",
       "    </tr>\n",
       "    <tr>\n",
       "      <th>8815</th>\n",
       "      <td>out-of-line</td>\n",
       "      <td>Out of Line wasdesigned with a stylized approa...</td>\n",
       "      <td>Action Adventure, Adventure, General</td>\n",
       "      <td>71.0</td>\n",
       "      <td>7.0</td>\n",
       "      <td>No Online Multiplayer</td>\n",
       "      <td>NaN</td>\n",
       "      <td>Aug 18, 2021</td>\n",
       "      <td>Hatinh Interactive</td>\n",
       "      <td>mixed or average reviews</td>\n",
       "      <td>mixed or average reviews</td>\n",
       "    </tr>\n",
       "    <tr>\n",
       "      <th>3229</th>\n",
       "      <td>battle-worlds-kronos</td>\n",
       "      <td>Battle Worlds: Kronos is a turn-based strategy...</td>\n",
       "      <td>Strategy, Turn-Based, Sci-Fi, Sci-Fi, General,...</td>\n",
       "      <td>71</td>\n",
       "      <td>7.1</td>\n",
       "      <td>NaN</td>\n",
       "      <td>NaN</td>\n",
       "      <td>Nov 4, 2013</td>\n",
       "      <td>KING Art</td>\n",
       "      <td>mixed or average reviews</td>\n",
       "      <td>mixed or average reviews</td>\n",
       "    </tr>\n",
       "    <tr>\n",
       "      <th>3640</th>\n",
       "      <td>keepsake</td>\n",
       "      <td>In an enchanted world of mystery, beauty and b...</td>\n",
       "      <td>Adventure, Third-Person, Point-and-Click, Fant...</td>\n",
       "      <td>68</td>\n",
       "      <td>6.5</td>\n",
       "      <td>No Online Multiplayer</td>\n",
       "      <td>E</td>\n",
       "      <td>Mar 31, 2006</td>\n",
       "      <td>The Adventure Company</td>\n",
       "      <td>mixed or average reviews</td>\n",
       "      <td>mixed or average reviews</td>\n",
       "    </tr>\n",
       "    <tr>\n",
       "      <th>2742</th>\n",
       "      <td>neverwinter-nights-2-mysteries-of-westgate</td>\n",
       "      <td>Set in the infamous Forgotten Realms city of W...</td>\n",
       "      <td>Role-Playing, PC-style RPG, PC-style RPG, West...</td>\n",
       "      <td>73</td>\n",
       "      <td>7.6</td>\n",
       "      <td>No Online Multiplayer</td>\n",
       "      <td>T</td>\n",
       "      <td>Apr 29, 2009</td>\n",
       "      <td>Atari , Atari SA</td>\n",
       "      <td>mixed or average reviews</td>\n",
       "      <td>generally favorable reviews</td>\n",
       "    </tr>\n",
       "    <tr>\n",
       "      <th>4595</th>\n",
       "      <td>mars-war-logs</td>\n",
       "      <td>Mars: War Logs takes you to the red planet ove...</td>\n",
       "      <td>Role-Playing, Action RPG, Action RPG</td>\n",
       "      <td>59</td>\n",
       "      <td>7.1</td>\n",
       "      <td>No Online Multiplayer</td>\n",
       "      <td>M</td>\n",
       "      <td>Apr 26, 2013</td>\n",
       "      <td>Focus Home Interactive</td>\n",
       "      <td>mixed or average reviews</td>\n",
       "      <td>mixed or average reviews</td>\n",
       "    </tr>\n",
       "    <tr>\n",
       "      <th>1408</th>\n",
       "      <td>potionomics</td>\n",
       "      <td>You’ve inherited your uncle’s potion shop—and ...</td>\n",
       "      <td>Strategy, Management, Business / Tycoon</td>\n",
       "      <td>80</td>\n",
       "      <td>7.4</td>\n",
       "      <td>No Online Multiplayer</td>\n",
       "      <td>E10+</td>\n",
       "      <td>Oct 17, 2022</td>\n",
       "      <td>XSEED Games</td>\n",
       "      <td>generally favorable reviews</td>\n",
       "      <td>mixed or average reviews</td>\n",
       "    </tr>\n",
       "  </tbody>\n",
       "</table>\n",
       "</div>"
      ],
      "text/plain": [
       "                                            Name  \\\n",
       "3962          agatha-christie-evil-under-the-sun   \n",
       "3689                            marvels-avengers   \n",
       "7344                           raid-world-war-ii   \n",
       "3331                            tom-clancys-hawx   \n",
       "8815                                 out-of-line   \n",
       "3229                        battle-worlds-kronos   \n",
       "3640                                    keepsake   \n",
       "2742  neverwinter-nights-2-mysteries-of-westgate   \n",
       "4595                               mars-war-logs   \n",
       "1408                                 potionomics   \n",
       "\n",
       "                                                Summary  \\\n",
       "3962  Famous detective Hercule Poirot is back in typ...   \n",
       "3689  Marvel’s Avengers is an epic, third-person, ac...   \n",
       "7344  Raid: World War II is an action-packed four pl...   \n",
       "3331  Tom Clancy's HAWX (high-altitude warfare) prom...   \n",
       "8815  Out of Line wasdesigned with a stylized approa...   \n",
       "3229  Battle Worlds: Kronos is a turn-based strategy...   \n",
       "3640  In an enchanted world of mystery, beauty and b...   \n",
       "2742  Set in the infamous Forgotten Realms city of W...   \n",
       "4595  Mars: War Logs takes you to the red planet ove...   \n",
       "1408  You’ve inherited your uncle’s potion shop—and ...   \n",
       "\n",
       "                                                 Genres Metascore Userscore  \\\n",
       "3962        Adventure, 3D, Modern, Third-Person, Modern        66       7.1   \n",
       "3689                                    Action, General        68       3.4   \n",
       "7344                          Action Adventure, General        46       3.7   \n",
       "3331         Action, Simulation, Flight, Flight, Combat        70       7.2   \n",
       "8815               Action Adventure, Adventure, General      71.0       7.0   \n",
       "3229  Strategy, Turn-Based, Sci-Fi, Sci-Fi, General,...        71       7.1   \n",
       "3640  Adventure, Third-Person, Point-and-Click, Fant...        68       6.5   \n",
       "2742  Role-Playing, PC-style RPG, PC-style RPG, West...        73       7.6   \n",
       "4595               Role-Playing, Action RPG, Action RPG        59       7.1   \n",
       "1408            Strategy, Management, Business / Tycoon        80       7.4   \n",
       "\n",
       "               #_Of_Players Rating  Release_Date             Distributer  \\\n",
       "3962                    NaN      T  Oct 16, 2007   The Adventure Company   \n",
       "3689                      4      T   Sep 4, 2020             Square Enix   \n",
       "7344                      4      M  Oct 10, 2017  Starbreeze , 505 Games   \n",
       "3331                    NaN      T  Mar 17, 2009                 Ubisoft   \n",
       "8815  No Online Multiplayer    NaN  Aug 18, 2021      Hatinh Interactive   \n",
       "3229                    NaN    NaN   Nov 4, 2013                KING Art   \n",
       "3640  No Online Multiplayer      E  Mar 31, 2006   The Adventure Company   \n",
       "2742  No Online Multiplayer      T  Apr 29, 2009        Atari , Atari SA   \n",
       "4595  No Online Multiplayer      M  Apr 26, 2013  Focus Home Interactive   \n",
       "1408  No Online Multiplayer   E10+  Oct 17, 2022             XSEED Games   \n",
       "\n",
       "                        Meta_Status               Userscore_Status  \n",
       "3962       mixed or average reviews       mixed or average reviews  \n",
       "3689       mixed or average reviews  generally unfavorable reviews  \n",
       "7344  generally unfavorable reviews  generally unfavorable reviews  \n",
       "3331       mixed or average reviews       mixed or average reviews  \n",
       "8815       mixed or average reviews       mixed or average reviews  \n",
       "3229       mixed or average reviews       mixed or average reviews  \n",
       "3640       mixed or average reviews       mixed or average reviews  \n",
       "2742       mixed or average reviews    generally favorable reviews  \n",
       "4595       mixed or average reviews       mixed or average reviews  \n",
       "1408    generally favorable reviews       mixed or average reviews  "
      ]
     },
     "execution_count": 160,
     "metadata": {},
     "output_type": "execute_result"
    }
   ],
   "source": [
    "df.sample(10)\n"
   ]
  },
  {
   "cell_type": "code",
   "execution_count": 161,
   "id": "f77b7512",
   "metadata": {},
   "outputs": [
    {
     "data": {
      "text/plain": [
       "(10893, 11)"
      ]
     },
     "execution_count": 161,
     "metadata": {},
     "output_type": "execute_result"
    }
   ],
   "source": [
    "df.shape\n"
   ]
  },
  {
   "cell_type": "code",
   "execution_count": 162,
   "id": "0d2e4347",
   "metadata": {},
   "outputs": [
    {
     "data": {
      "text/plain": [
       "3366"
      ]
     },
     "execution_count": 162,
     "metadata": {},
     "output_type": "execute_result"
    }
   ],
   "source": [
    "df['Name'].duplicated().sum()\n"
   ]
  },
  {
   "cell_type": "code",
   "execution_count": 163,
   "id": "dce4bd3c",
   "metadata": {},
   "outputs": [
    {
     "name": "stderr",
     "output_type": "stream",
     "text": [
      "C:\\Users\\bagam\\AppData\\Local\\Temp\\ipykernel_17928\\3723569957.py:1: SettingWithCopyWarning: \n",
      "A value is trying to be set on a copy of a slice from a DataFrame\n",
      "\n",
      "See the caveats in the documentation: https://pandas.pydata.org/pandas-docs/stable/user_guide/indexing.html#returning-a-view-versus-a-copy\n",
      "  df.drop_duplicates(subset='Name',inplace=True)\n"
     ]
    }
   ],
   "source": [
    "df.drop_duplicates(subset='Name',inplace=True)\n"
   ]
  },
  {
   "cell_type": "code",
   "execution_count": 164,
   "id": "5273835a",
   "metadata": {},
   "outputs": [
    {
     "data": {
      "text/plain": [
       "(7527, 11)"
      ]
     },
     "execution_count": 164,
     "metadata": {},
     "output_type": "execute_result"
    }
   ],
   "source": [
    "df.shape\n"
   ]
  },
  {
   "cell_type": "code",
   "execution_count": 165,
   "id": "5f61e0d9",
   "metadata": {},
   "outputs": [
    {
     "data": {
      "text/plain": [
       "Name                   0\n",
       "Summary               72\n",
       "Genres                 8\n",
       "Metascore              8\n",
       "Userscore              8\n",
       "#_Of_Players        1857\n",
       "Rating              1977\n",
       "Release_Date          12\n",
       "Distributer            8\n",
       "Meta_Status            8\n",
       "Userscore_Status       8\n",
       "dtype: int64"
      ]
     },
     "execution_count": 165,
     "metadata": {},
     "output_type": "execute_result"
    }
   ],
   "source": [
    "df.isna().sum()\n"
   ]
  },
  {
   "cell_type": "code",
   "execution_count": 166,
   "id": "f13ecaa0",
   "metadata": {},
   "outputs": [
    {
     "name": "stderr",
     "output_type": "stream",
     "text": [
      "C:\\Users\\bagam\\AppData\\Local\\Temp\\ipykernel_17928\\658506679.py:1: SettingWithCopyWarning: \n",
      "A value is trying to be set on a copy of a slice from a DataFrame\n",
      "\n",
      "See the caveats in the documentation: https://pandas.pydata.org/pandas-docs/stable/user_guide/indexing.html#returning-a-view-versus-a-copy\n",
      "  df.dropna(inplace=True)\n"
     ]
    }
   ],
   "source": [
    "df.dropna(inplace=True)\n"
   ]
  },
  {
   "cell_type": "code",
   "execution_count": 167,
   "id": "cc7ba3fc",
   "metadata": {},
   "outputs": [
    {
     "data": {
      "text/html": [
       "<div>\n",
       "<style scoped>\n",
       "    .dataframe tbody tr th:only-of-type {\n",
       "        vertical-align: middle;\n",
       "    }\n",
       "\n",
       "    .dataframe tbody tr th {\n",
       "        vertical-align: top;\n",
       "    }\n",
       "\n",
       "    .dataframe thead th {\n",
       "        text-align: right;\n",
       "    }\n",
       "</style>\n",
       "<table border=\"1\" class=\"dataframe\">\n",
       "  <thead>\n",
       "    <tr style=\"text-align: right;\">\n",
       "      <th></th>\n",
       "      <th>Name</th>\n",
       "      <th>Summary</th>\n",
       "      <th>Genres</th>\n",
       "      <th>Metascore</th>\n",
       "      <th>Userscore</th>\n",
       "      <th>#_Of_Players</th>\n",
       "      <th>Rating</th>\n",
       "      <th>Release_Date</th>\n",
       "      <th>Distributer</th>\n",
       "      <th>Meta_Status</th>\n",
       "      <th>Userscore_Status</th>\n",
       "    </tr>\n",
       "  </thead>\n",
       "  <tbody>\n",
       "    <tr>\n",
       "      <th>7742</th>\n",
       "      <td>matchpoint-tennis-championships</td>\n",
       "      <td>The season starts now – grab your racket and b...</td>\n",
       "      <td>Sports, Individual, Tennis</td>\n",
       "      <td>58</td>\n",
       "      <td>8.0</td>\n",
       "      <td>2</td>\n",
       "      <td>E</td>\n",
       "      <td>Jul 7, 2022</td>\n",
       "      <td>Kalypso</td>\n",
       "      <td>mixed or average reviews</td>\n",
       "      <td>generally favorable reviews</td>\n",
       "    </tr>\n",
       "    <tr>\n",
       "      <th>459</th>\n",
       "      <td>tom-clancys-rainbow-six-vegas</td>\n",
       "      <td>The stakes are high when the world's most elit...</td>\n",
       "      <td>Action, Shooter, Shooter, First-Person, Tactic...</td>\n",
       "      <td>85</td>\n",
       "      <td>7.5</td>\n",
       "      <td>16</td>\n",
       "      <td>M</td>\n",
       "      <td>Dec 12, 2006</td>\n",
       "      <td>Ubisoft</td>\n",
       "      <td>generally favorable reviews</td>\n",
       "      <td>generally favorable reviews</td>\n",
       "    </tr>\n",
       "    <tr>\n",
       "      <th>8165</th>\n",
       "      <td>saviors-of-sapphire-wings-stranger-of-sword-ci...</td>\n",
       "      <td>Discover a tale of war, darkness, and the powe...</td>\n",
       "      <td>Miscellaneous, Compilation</td>\n",
       "      <td>80.0</td>\n",
       "      <td>7.7</td>\n",
       "      <td>No Online Multiplayer</td>\n",
       "      <td>T</td>\n",
       "      <td>Mar 16, 2021</td>\n",
       "      <td>NIS America</td>\n",
       "      <td>generally favorable reviews</td>\n",
       "      <td>generally favorable reviews</td>\n",
       "    </tr>\n",
       "    <tr>\n",
       "      <th>8469</th>\n",
       "      <td>sundered-eldritch-edition</td>\n",
       "      <td>Sundered is a horrifying fight for survival an...</td>\n",
       "      <td>Action, Action Adventure, General, Platformer,</td>\n",
       "      <td>76.0</td>\n",
       "      <td>7.5</td>\n",
       "      <td>No Online Multiplayer</td>\n",
       "      <td>E10+</td>\n",
       "      <td>Dec 21, 2018</td>\n",
       "      <td>Thunder Lotus Games</td>\n",
       "      <td>generally favorable reviews</td>\n",
       "      <td>generally favorable reviews</td>\n",
       "    </tr>\n",
       "    <tr>\n",
       "      <th>2228</th>\n",
       "      <td>dins-curse</td>\n",
       "      <td>Din's Curse is a single player and co-op multi...</td>\n",
       "      <td>Role-Playing, Action RPG, Action RPG</td>\n",
       "      <td>76</td>\n",
       "      <td>7.6</td>\n",
       "      <td>14</td>\n",
       "      <td>T</td>\n",
       "      <td>Mar 31, 2010</td>\n",
       "      <td>Soldak Entertainment</td>\n",
       "      <td>generally favorable reviews</td>\n",
       "      <td>generally favorable reviews</td>\n",
       "    </tr>\n",
       "    <tr>\n",
       "      <th>5382</th>\n",
       "      <td>odin-sphere-leifthrasir</td>\n",
       "      <td>The tale of Armageddon is about to be told... ...</td>\n",
       "      <td>Role-Playing, Action RPG</td>\n",
       "      <td>87</td>\n",
       "      <td>8.2</td>\n",
       "      <td>No Online Multiplayer</td>\n",
       "      <td>T</td>\n",
       "      <td>Jun 7, 2016</td>\n",
       "      <td>Atlus</td>\n",
       "      <td>generally favorable reviews</td>\n",
       "      <td>generally favorable reviews</td>\n",
       "    </tr>\n",
       "    <tr>\n",
       "      <th>7307</th>\n",
       "      <td>divide</td>\n",
       "      <td>Divide is a character-driven, science fiction ...</td>\n",
       "      <td>Action Adventure, Linear</td>\n",
       "      <td>50</td>\n",
       "      <td>tbd</td>\n",
       "      <td>No Online Multiplayer</td>\n",
       "      <td>T</td>\n",
       "      <td>Jan 31, 2017</td>\n",
       "      <td>Exploding Tuba Studios</td>\n",
       "      <td>mixed or average reviews</td>\n",
       "      <td>no user score yet</td>\n",
       "    </tr>\n",
       "    <tr>\n",
       "      <th>9414</th>\n",
       "      <td>star-horizon</td>\n",
       "      <td>Experience fast action, thrilling levels, spec...</td>\n",
       "      <td>Action, Shooter, Rail</td>\n",
       "      <td>52.0</td>\n",
       "      <td>tbd</td>\n",
       "      <td>No Online Multiplayer</td>\n",
       "      <td>T</td>\n",
       "      <td>May 14, 2020</td>\n",
       "      <td>No Gravity Games</td>\n",
       "      <td>mixed or average reviews</td>\n",
       "      <td>no user score yet</td>\n",
       "    </tr>\n",
       "    <tr>\n",
       "      <th>8279</th>\n",
       "      <td>astrologaster</td>\n",
       "      <td>Play as ‘Doctor’ Simon Forman - unlicensed med...</td>\n",
       "      <td>Adventure, General</td>\n",
       "      <td>79.0</td>\n",
       "      <td>tbd</td>\n",
       "      <td>No Online Multiplayer</td>\n",
       "      <td>T</td>\n",
       "      <td>Feb 18, 2021</td>\n",
       "      <td>Nyamyam</td>\n",
       "      <td>generally favorable reviews</td>\n",
       "      <td>no user score yet</td>\n",
       "    </tr>\n",
       "    <tr>\n",
       "      <th>6614</th>\n",
       "      <td>monster-energy-supercross---the-official-video...</td>\n",
       "      <td>Monster Energy Supercross 3 is more Multiplaye...</td>\n",
       "      <td>Racing, Arcade, Automobile</td>\n",
       "      <td>70</td>\n",
       "      <td>5.9</td>\n",
       "      <td>12</td>\n",
       "      <td>E</td>\n",
       "      <td>Feb 4, 2020</td>\n",
       "      <td>Milestone S.r.l</td>\n",
       "      <td>mixed or average reviews</td>\n",
       "      <td>mixed or average reviews</td>\n",
       "    </tr>\n",
       "  </tbody>\n",
       "</table>\n",
       "</div>"
      ],
      "text/plain": [
       "                                                   Name  \\\n",
       "7742                    matchpoint-tennis-championships   \n",
       "459                       tom-clancys-rainbow-six-vegas   \n",
       "8165  saviors-of-sapphire-wings-stranger-of-sword-ci...   \n",
       "8469                          sundered-eldritch-edition   \n",
       "2228                                         dins-curse   \n",
       "5382                            odin-sphere-leifthrasir   \n",
       "7307                                             divide   \n",
       "9414                                       star-horizon   \n",
       "8279                                      astrologaster   \n",
       "6614  monster-energy-supercross---the-official-video...   \n",
       "\n",
       "                                                Summary  \\\n",
       "7742  The season starts now – grab your racket and b...   \n",
       "459   The stakes are high when the world's most elit...   \n",
       "8165  Discover a tale of war, darkness, and the powe...   \n",
       "8469  Sundered is a horrifying fight for survival an...   \n",
       "2228  Din's Curse is a single player and co-op multi...   \n",
       "5382  The tale of Armageddon is about to be told... ...   \n",
       "7307  Divide is a character-driven, science fiction ...   \n",
       "9414  Experience fast action, thrilling levels, spec...   \n",
       "8279  Play as ‘Doctor’ Simon Forman - unlicensed med...   \n",
       "6614  Monster Energy Supercross 3 is more Multiplaye...   \n",
       "\n",
       "                                                 Genres Metascore Userscore  \\\n",
       "7742                         Sports, Individual, Tennis        58       8.0   \n",
       "459   Action, Shooter, Shooter, First-Person, Tactic...        85       7.5   \n",
       "8165                         Miscellaneous, Compilation      80.0       7.7   \n",
       "8469     Action, Action Adventure, General, Platformer,      76.0       7.5   \n",
       "2228               Role-Playing, Action RPG, Action RPG        76       7.6   \n",
       "5382                           Role-Playing, Action RPG        87       8.2   \n",
       "7307                           Action Adventure, Linear        50       tbd   \n",
       "9414                              Action, Shooter, Rail      52.0       tbd   \n",
       "8279                                 Adventure, General      79.0       tbd   \n",
       "6614                         Racing, Arcade, Automobile        70       5.9   \n",
       "\n",
       "               #_Of_Players Rating  Release_Date             Distributer  \\\n",
       "7742                      2      E   Jul 7, 2022                 Kalypso   \n",
       "459                      16      M  Dec 12, 2006                 Ubisoft   \n",
       "8165  No Online Multiplayer      T  Mar 16, 2021             NIS America   \n",
       "8469  No Online Multiplayer   E10+  Dec 21, 2018     Thunder Lotus Games   \n",
       "2228                     14      T  Mar 31, 2010    Soldak Entertainment   \n",
       "5382  No Online Multiplayer      T   Jun 7, 2016                   Atlus   \n",
       "7307  No Online Multiplayer      T  Jan 31, 2017  Exploding Tuba Studios   \n",
       "9414  No Online Multiplayer      T  May 14, 2020        No Gravity Games   \n",
       "8279  No Online Multiplayer      T  Feb 18, 2021                 Nyamyam   \n",
       "6614                     12      E   Feb 4, 2020         Milestone S.r.l   \n",
       "\n",
       "                      Meta_Status             Userscore_Status  \n",
       "7742     mixed or average reviews  generally favorable reviews  \n",
       "459   generally favorable reviews  generally favorable reviews  \n",
       "8165  generally favorable reviews  generally favorable reviews  \n",
       "8469  generally favorable reviews  generally favorable reviews  \n",
       "2228  generally favorable reviews  generally favorable reviews  \n",
       "5382  generally favorable reviews  generally favorable reviews  \n",
       "7307     mixed or average reviews            no user score yet  \n",
       "9414     mixed or average reviews            no user score yet  \n",
       "8279  generally favorable reviews            no user score yet  \n",
       "6614     mixed or average reviews     mixed or average reviews  "
      ]
     },
     "execution_count": 167,
     "metadata": {},
     "output_type": "execute_result"
    }
   ],
   "source": [
    "df.sample(10)\n"
   ]
  },
  {
   "cell_type": "code",
   "execution_count": 168,
   "id": "60d83d6d",
   "metadata": {},
   "outputs": [],
   "source": [
    "def convert_summary(summary):\n",
    "    return summary.split(\" \")\n"
   ]
  },
  {
   "cell_type": "code",
   "execution_count": 169,
   "id": "67b330c4",
   "metadata": {},
   "outputs": [
    {
     "name": "stderr",
     "output_type": "stream",
     "text": [
      "C:\\Users\\bagam\\AppData\\Local\\Temp\\ipykernel_17928\\3375674603.py:1: SettingWithCopyWarning: \n",
      "A value is trying to be set on a copy of a slice from a DataFrame.\n",
      "Try using .loc[row_indexer,col_indexer] = value instead\n",
      "\n",
      "See the caveats in the documentation: https://pandas.pydata.org/pandas-docs/stable/user_guide/indexing.html#returning-a-view-versus-a-copy\n",
      "  df['Summary'] = df['Summary'].apply(convert_summary)\n"
     ]
    }
   ],
   "source": [
    "df['Summary'] = df['Summary'].apply(convert_summary)\n"
   ]
  },
  {
   "cell_type": "code",
   "execution_count": 170,
   "id": "ddf645cb",
   "metadata": {},
   "outputs": [],
   "source": [
    "def convert_generes(x):\n",
    "    res = x.split(', ')\n",
    "    res = [i.replace(' ', '') for i in res]\n",
    "    return res\n"
   ]
  },
  {
   "cell_type": "code",
   "execution_count": 171,
   "id": "d03d1f84",
   "metadata": {},
   "outputs": [
    {
     "data": {
      "text/plain": [
       "['Role-Playing', 'General', 'Western-Style']"
      ]
     },
     "execution_count": 171,
     "metadata": {},
     "output_type": "execute_result"
    }
   ],
   "source": [
    "convert_generes(df['Genres'][0])\n"
   ]
  },
  {
   "cell_type": "code",
   "execution_count": 172,
   "id": "446e0f1f",
   "metadata": {},
   "outputs": [
    {
     "name": "stderr",
     "output_type": "stream",
     "text": [
      "C:\\Users\\bagam\\AppData\\Local\\Temp\\ipykernel_17928\\4092242644.py:1: SettingWithCopyWarning: \n",
      "A value is trying to be set on a copy of a slice from a DataFrame.\n",
      "Try using .loc[row_indexer,col_indexer] = value instead\n",
      "\n",
      "See the caveats in the documentation: https://pandas.pydata.org/pandas-docs/stable/user_guide/indexing.html#returning-a-view-versus-a-copy\n",
      "  df['Genres'] = df['Genres'].apply(convert_generes)\n"
     ]
    }
   ],
   "source": [
    "df['Genres'] = df['Genres'].apply(convert_generes)\n"
   ]
  },
  {
   "cell_type": "code",
   "execution_count": 173,
   "id": "d9f20f24",
   "metadata": {},
   "outputs": [
    {
     "data": {
      "text/plain": [
       "array(['No Online Multiplayer', '32', '6', '1', '116', '4', '8', '132',\n",
       "       '10', '18', '12', '16', '14', '64', '2', '24', '112', '3', '20',\n",
       "       '164', '15', '110', '44', '60', '22', '13', '9', '5', '40', '124',\n",
       "       '30', '36'], dtype=object)"
      ]
     },
     "execution_count": 173,
     "metadata": {},
     "output_type": "execute_result"
    }
   ],
   "source": [
    "df['#_Of_Players'].unique()\n"
   ]
  },
  {
   "cell_type": "code",
   "execution_count": 174,
   "id": "3b87507b",
   "metadata": {},
   "outputs": [],
   "source": [
    "def convert_number_of_players(x):\n",
    "    try:\n",
    "        return ['SinglePlayer'] if int(x) > 1 else ['MultiPlayer']\n",
    "    except:\n",
    "        return ['SinglePlayer']\n"
   ]
  },
  {
   "cell_type": "code",
   "execution_count": 175,
   "id": "ee48a521",
   "metadata": {},
   "outputs": [
    {
     "name": "stderr",
     "output_type": "stream",
     "text": [
      "C:\\Users\\bagam\\AppData\\Local\\Temp\\ipykernel_17928\\4167880340.py:1: SettingWithCopyWarning: \n",
      "A value is trying to be set on a copy of a slice from a DataFrame.\n",
      "Try using .loc[row_indexer,col_indexer] = value instead\n",
      "\n",
      "See the caveats in the documentation: https://pandas.pydata.org/pandas-docs/stable/user_guide/indexing.html#returning-a-view-versus-a-copy\n",
      "  df['is_multiplayer'] = df['#_Of_Players'].apply(convert_number_of_players)\n"
     ]
    }
   ],
   "source": [
    "df['is_multiplayer'] = df['#_Of_Players'].apply(convert_number_of_players)\n"
   ]
  },
  {
   "cell_type": "code",
   "execution_count": 176,
   "id": "ba0958cb",
   "metadata": {},
   "outputs": [
    {
     "data": {
      "text/plain": [
       "array(['M', 'T', 'K-A', 'E10+', 'E', 'RP', 'AO'], dtype=object)"
      ]
     },
     "execution_count": 176,
     "metadata": {},
     "output_type": "execute_result"
    }
   ],
   "source": [
    "df['Rating'].unique()\n"
   ]
  },
  {
   "cell_type": "code",
   "execution_count": 177,
   "id": "d8764ab9",
   "metadata": {},
   "outputs": [
    {
     "name": "stderr",
     "output_type": "stream",
     "text": [
      "C:\\Users\\bagam\\AppData\\Local\\Temp\\ipykernel_17928\\1811042456.py:1: SettingWithCopyWarning: \n",
      "A value is trying to be set on a copy of a slice from a DataFrame.\n",
      "Try using .loc[row_indexer,col_indexer] = value instead\n",
      "\n",
      "See the caveats in the documentation: https://pandas.pydata.org/pandas-docs/stable/user_guide/indexing.html#returning-a-view-versus-a-copy\n",
      "  df['Rating'] = df['Rating'].apply(lambda x : [\"Rating_\" + x])\n"
     ]
    }
   ],
   "source": [
    "df['Rating'] = df['Rating'].apply(lambda x : [\"Rating_\" + x])\n"
   ]
  },
  {
   "cell_type": "code",
   "execution_count": 178,
   "id": "dfe007f6",
   "metadata": {},
   "outputs": [
    {
     "name": "stderr",
     "output_type": "stream",
     "text": [
      "C:\\Users\\bagam\\AppData\\Local\\Temp\\ipykernel_17928\\4279840102.py:1: SettingWithCopyWarning: \n",
      "A value is trying to be set on a copy of a slice from a DataFrame.\n",
      "Try using .loc[row_indexer,col_indexer] = value instead\n",
      "\n",
      "See the caveats in the documentation: https://pandas.pydata.org/pandas-docs/stable/user_guide/indexing.html#returning-a-view-versus-a-copy\n",
      "  df['Release_Year'] = pd.to_datetime(df['Release_Date']).dt.year\n",
      "C:\\Users\\bagam\\AppData\\Local\\Temp\\ipykernel_17928\\4279840102.py:2: SettingWithCopyWarning: \n",
      "A value is trying to be set on a copy of a slice from a DataFrame.\n",
      "Try using .loc[row_indexer,col_indexer] = value instead\n",
      "\n",
      "See the caveats in the documentation: https://pandas.pydata.org/pandas-docs/stable/user_guide/indexing.html#returning-a-view-versus-a-copy\n",
      "  df['Release_Year'] = df['Release_Year'].apply(lambda x : [\"Release_Year_\" + str(x)])\n"
     ]
    }
   ],
   "source": [
    "df['Release_Year'] = pd.to_datetime(df['Release_Date']).dt.year\n",
    "df['Release_Year'] = df['Release_Year'].apply(lambda x : [\"Release_Year_\" + str(x)])\n"
   ]
  },
  {
   "cell_type": "code",
   "execution_count": 179,
   "id": "d999a7dc",
   "metadata": {},
   "outputs": [
    {
     "data": {
      "text/plain": [
       "array(['ZA/UM', 'VU Games', 'Rockstar Games', ...,\n",
       "       'Deep Silver , SNK Corporation', 'Happy Volcano', 'Foam Punch'],\n",
       "      dtype=object)"
      ]
     },
     "execution_count": 179,
     "metadata": {},
     "output_type": "execute_result"
    }
   ],
   "source": [
    "df['Distributer'].unique()[:]\n"
   ]
  },
  {
   "cell_type": "code",
   "execution_count": 180,
   "id": "051cd8e6",
   "metadata": {},
   "outputs": [],
   "source": [
    "def convert_distributers(distributers):\n",
    "    distributers = distributers.split(', ')\n",
    "    distributers = [distributer.replace(' ', '') for distributer in distributers]\n",
    "    return distributers\n"
   ]
  },
  {
   "cell_type": "code",
   "execution_count": 181,
   "id": "48b26df6",
   "metadata": {},
   "outputs": [
    {
     "name": "stderr",
     "output_type": "stream",
     "text": [
      "C:\\Users\\bagam\\AppData\\Local\\Temp\\ipykernel_17928\\1348689249.py:1: SettingWithCopyWarning: \n",
      "A value is trying to be set on a copy of a slice from a DataFrame.\n",
      "Try using .loc[row_indexer,col_indexer] = value instead\n",
      "\n",
      "See the caveats in the documentation: https://pandas.pydata.org/pandas-docs/stable/user_guide/indexing.html#returning-a-view-versus-a-copy\n",
      "  df['Distributer'] = df['Distributer'].apply(convert_distributers)\n"
     ]
    }
   ],
   "source": [
    "df['Distributer'] = df['Distributer'].apply(convert_distributers)\n"
   ]
  },
  {
   "cell_type": "code",
   "execution_count": 182,
   "id": "f983793d",
   "metadata": {},
   "outputs": [
    {
     "data": {
      "text/plain": [
       "array(['universal acclaim', 'generally favorable reviews',\n",
       "       'mixed or average reviews', 'generally unfavorable reviews',\n",
       "       'overwhelming dislike'], dtype=object)"
      ]
     },
     "execution_count": 182,
     "metadata": {},
     "output_type": "execute_result"
    }
   ],
   "source": [
    "df['Meta_Status'].unique()\n"
   ]
  },
  {
   "cell_type": "code",
   "execution_count": 183,
   "id": "1f7f8d92",
   "metadata": {},
   "outputs": [
    {
     "name": "stderr",
     "output_type": "stream",
     "text": [
      "C:\\Users\\bagam\\AppData\\Local\\Temp\\ipykernel_17928\\3064565799.py:1: SettingWithCopyWarning: \n",
      "A value is trying to be set on a copy of a slice from a DataFrame.\n",
      "Try using .loc[row_indexer,col_indexer] = value instead\n",
      "\n",
      "See the caveats in the documentation: https://pandas.pydata.org/pandas-docs/stable/user_guide/indexing.html#returning-a-view-versus-a-copy\n",
      "  df['Meta_Status'] = df['Meta_Status'].apply(lambda x : [x.replace(' ', '')])\n"
     ]
    }
   ],
   "source": [
    "df['Meta_Status'] = df['Meta_Status'].apply(lambda x : [x.replace(' ', '')])\n"
   ]
  },
  {
   "cell_type": "code",
   "execution_count": 184,
   "id": "78b3853d",
   "metadata": {},
   "outputs": [
    {
     "data": {
      "text/plain": [
       "array(['generally favorable reviews', 'universal acclaim',\n",
       "       'mixed or average reviews', 'generally unfavorable reviews',\n",
       "       'no user score yet', 'overwhelming dislike'], dtype=object)"
      ]
     },
     "execution_count": 184,
     "metadata": {},
     "output_type": "execute_result"
    }
   ],
   "source": [
    "df['Userscore_Status'].unique()\n"
   ]
  },
  {
   "cell_type": "code",
   "execution_count": 185,
   "id": "cc5ed796",
   "metadata": {},
   "outputs": [
    {
     "name": "stderr",
     "output_type": "stream",
     "text": [
      "C:\\Users\\bagam\\AppData\\Local\\Temp\\ipykernel_17928\\1999352853.py:1: SettingWithCopyWarning: \n",
      "A value is trying to be set on a copy of a slice from a DataFrame.\n",
      "Try using .loc[row_indexer,col_indexer] = value instead\n",
      "\n",
      "See the caveats in the documentation: https://pandas.pydata.org/pandas-docs/stable/user_guide/indexing.html#returning-a-view-versus-a-copy\n",
      "  df['Userscore_Status'] = df['Userscore_Status'].apply(lambda x : [x.replace(' ', '')])\n"
     ]
    }
   ],
   "source": [
    "df['Userscore_Status'] = df['Userscore_Status'].apply(lambda x : [x.replace(' ', '')])\n"
   ]
  },
  {
   "cell_type": "code",
   "execution_count": 186,
   "id": "bb27a57e",
   "metadata": {},
   "outputs": [
    {
     "name": "stderr",
     "output_type": "stream",
     "text": [
      "C:\\Users\\bagam\\AppData\\Local\\Temp\\ipykernel_17928\\2490503287.py:1: SettingWithCopyWarning: \n",
      "A value is trying to be set on a copy of a slice from a DataFrame\n",
      "\n",
      "See the caveats in the documentation: https://pandas.pydata.org/pandas-docs/stable/user_guide/indexing.html#returning-a-view-versus-a-copy\n",
      "  df.drop(columns=['Release_Date', '#_Of_Players'], inplace=True)\n"
     ]
    }
   ],
   "source": [
    "df.drop(columns=['Release_Date', '#_Of_Players'], inplace=True)\n"
   ]
  },
  {
   "cell_type": "code",
   "execution_count": 187,
   "id": "fc367967",
   "metadata": {},
   "outputs": [
    {
     "data": {
      "text/html": [
       "<div>\n",
       "<style scoped>\n",
       "    .dataframe tbody tr th:only-of-type {\n",
       "        vertical-align: middle;\n",
       "    }\n",
       "\n",
       "    .dataframe tbody tr th {\n",
       "        vertical-align: top;\n",
       "    }\n",
       "\n",
       "    .dataframe thead th {\n",
       "        text-align: right;\n",
       "    }\n",
       "</style>\n",
       "<table border=\"1\" class=\"dataframe\">\n",
       "  <thead>\n",
       "    <tr style=\"text-align: right;\">\n",
       "      <th></th>\n",
       "      <th>Name</th>\n",
       "      <th>Summary</th>\n",
       "      <th>Genres</th>\n",
       "      <th>Metascore</th>\n",
       "      <th>Userscore</th>\n",
       "      <th>Rating</th>\n",
       "      <th>Distributer</th>\n",
       "      <th>Meta_Status</th>\n",
       "      <th>Userscore_Status</th>\n",
       "      <th>is_multiplayer</th>\n",
       "      <th>Release_Year</th>\n",
       "    </tr>\n",
       "  </thead>\n",
       "  <tbody>\n",
       "    <tr>\n",
       "      <th>7617</th>\n",
       "      <td>jojos-bizarre-adventure-all-star-battle-r</td>\n",
       "      <td>[\\nAll, JOJOs, Unite!, Fight, for, Your, Desti...</td>\n",
       "      <td>[Action, Fighting, 3D]</td>\n",
       "      <td>73</td>\n",
       "      <td>7.5</td>\n",
       "      <td>[Rating_T]</td>\n",
       "      <td>[BandaiNamcoGames]</td>\n",
       "      <td>[mixedoraveragereviews]</td>\n",
       "      <td>[generallyfavorablereviews]</td>\n",
       "      <td>[SinglePlayer]</td>\n",
       "      <td>[Release_Year_2022]</td>\n",
       "    </tr>\n",
       "    <tr>\n",
       "      <th>3560</th>\n",
       "      <td>state-of-decay-2</td>\n",
       "      <td>[Small-Town, America,, one, year, from, today....</td>\n",
       "      <td>[ActionAdventure, Survival, Open-World]</td>\n",
       "      <td>69</td>\n",
       "      <td>5.1</td>\n",
       "      <td>[Rating_M]</td>\n",
       "      <td>[MicrosoftGameStudios]</td>\n",
       "      <td>[mixedoraveragereviews]</td>\n",
       "      <td>[mixedoraveragereviews]</td>\n",
       "      <td>[SinglePlayer]</td>\n",
       "      <td>[Release_Year_2018]</td>\n",
       "    </tr>\n",
       "    <tr>\n",
       "      <th>8469</th>\n",
       "      <td>sundered-eldritch-edition</td>\n",
       "      <td>[Sundered, is, a, horrifying, fight, for, surv...</td>\n",
       "      <td>[Action, ActionAdventure, General, Platformer,]</td>\n",
       "      <td>76.0</td>\n",
       "      <td>7.5</td>\n",
       "      <td>[Rating_E10+]</td>\n",
       "      <td>[ThunderLotusGames]</td>\n",
       "      <td>[generallyfavorablereviews]</td>\n",
       "      <td>[generallyfavorablereviews]</td>\n",
       "      <td>[SinglePlayer]</td>\n",
       "      <td>[Release_Year_2018]</td>\n",
       "    </tr>\n",
       "    <tr>\n",
       "      <th>1503</th>\n",
       "      <td>puzzle-dimension</td>\n",
       "      <td>[Brain, exercise, in, 3D, -, Train, your, spat...</td>\n",
       "      <td>[Miscellaneous, Puzzle, Puzzle, General, Puzzl...</td>\n",
       "      <td>79</td>\n",
       "      <td>7.4</td>\n",
       "      <td>[Rating_E]</td>\n",
       "      <td>[DoctorEntertainment]</td>\n",
       "      <td>[generallyfavorablereviews]</td>\n",
       "      <td>[mixedoraveragereviews]</td>\n",
       "      <td>[SinglePlayer]</td>\n",
       "      <td>[Release_Year_2010]</td>\n",
       "    </tr>\n",
       "    <tr>\n",
       "      <th>2981</th>\n",
       "      <td>gamedec</td>\n",
       "      <td>[Gamedec, is, an, adaptive, cyberpunk, RPG., A...</td>\n",
       "      <td>[ActionAdventure, Open-World, Role-Playing, Ge...</td>\n",
       "      <td>72</td>\n",
       "      <td>6.6</td>\n",
       "      <td>[Rating_M]</td>\n",
       "      <td>[AnsharStudios]</td>\n",
       "      <td>[mixedoraveragereviews]</td>\n",
       "      <td>[mixedoraveragereviews]</td>\n",
       "      <td>[SinglePlayer]</td>\n",
       "      <td>[Release_Year_2021]</td>\n",
       "    </tr>\n",
       "  </tbody>\n",
       "</table>\n",
       "</div>"
      ],
      "text/plain": [
       "                                           Name  \\\n",
       "7617  jojos-bizarre-adventure-all-star-battle-r   \n",
       "3560                           state-of-decay-2   \n",
       "8469                  sundered-eldritch-edition   \n",
       "1503                           puzzle-dimension   \n",
       "2981                                    gamedec   \n",
       "\n",
       "                                                Summary  \\\n",
       "7617  [\\nAll, JOJOs, Unite!, Fight, for, Your, Desti...   \n",
       "3560  [Small-Town, America,, one, year, from, today....   \n",
       "8469  [Sundered, is, a, horrifying, fight, for, surv...   \n",
       "1503  [Brain, exercise, in, 3D, -, Train, your, spat...   \n",
       "2981  [Gamedec, is, an, adaptive, cyberpunk, RPG., A...   \n",
       "\n",
       "                                                 Genres Metascore Userscore  \\\n",
       "7617                             [Action, Fighting, 3D]        73       7.5   \n",
       "3560            [ActionAdventure, Survival, Open-World]        69       5.1   \n",
       "8469    [Action, ActionAdventure, General, Platformer,]      76.0       7.5   \n",
       "1503  [Miscellaneous, Puzzle, Puzzle, General, Puzzl...        79       7.4   \n",
       "2981  [ActionAdventure, Open-World, Role-Playing, Ge...        72       6.6   \n",
       "\n",
       "             Rating             Distributer                  Meta_Status  \\\n",
       "7617     [Rating_T]      [BandaiNamcoGames]      [mixedoraveragereviews]   \n",
       "3560     [Rating_M]  [MicrosoftGameStudios]      [mixedoraveragereviews]   \n",
       "8469  [Rating_E10+]     [ThunderLotusGames]  [generallyfavorablereviews]   \n",
       "1503     [Rating_E]   [DoctorEntertainment]  [generallyfavorablereviews]   \n",
       "2981     [Rating_M]         [AnsharStudios]      [mixedoraveragereviews]   \n",
       "\n",
       "                 Userscore_Status  is_multiplayer         Release_Year  \n",
       "7617  [generallyfavorablereviews]  [SinglePlayer]  [Release_Year_2022]  \n",
       "3560      [mixedoraveragereviews]  [SinglePlayer]  [Release_Year_2018]  \n",
       "8469  [generallyfavorablereviews]  [SinglePlayer]  [Release_Year_2018]  \n",
       "1503      [mixedoraveragereviews]  [SinglePlayer]  [Release_Year_2010]  \n",
       "2981      [mixedoraveragereviews]  [SinglePlayer]  [Release_Year_2021]  "
      ]
     },
     "execution_count": 187,
     "metadata": {},
     "output_type": "execute_result"
    }
   ],
   "source": [
    "df.sample(5)\n"
   ]
  },
  {
   "cell_type": "code",
   "execution_count": 188,
   "id": "79c189d0",
   "metadata": {},
   "outputs": [
    {
     "data": {
      "text/plain": [
       "count     4185\n",
       "unique     136\n",
       "top         80\n",
       "freq       147\n",
       "Name: Metascore, dtype: object"
      ]
     },
     "execution_count": 188,
     "metadata": {},
     "output_type": "execute_result"
    }
   ],
   "source": [
    "df['Metascore'].describe()\n"
   ]
  },
  {
   "cell_type": "code",
   "execution_count": 189,
   "id": "5e98cd00",
   "metadata": {},
   "outputs": [
    {
     "name": "stdout",
     "output_type": "stream",
     "text": [
      "<class 'pandas.core.series.Series'>\n",
      "Index: 4185 entries, 0 to 10859\n",
      "Series name: Metascore\n",
      "Non-Null Count  Dtype \n",
      "--------------  ----- \n",
      "4185 non-null   object\n",
      "dtypes: object(1)\n",
      "memory usage: 194.4+ KB\n"
     ]
    }
   ],
   "source": [
    "df['Metascore'].info()\n"
   ]
  },
  {
   "cell_type": "code",
   "execution_count": 190,
   "id": "cc52b849",
   "metadata": {},
   "outputs": [
    {
     "data": {
      "text/plain": [
       "array(['97', '96', '95', '94', '93', '92', '91', '90', '89', '88', '87',\n",
       "       '86', '85', '84', '83', '82', '81', '80', '79', '78', '77', '76',\n",
       "       '75', '74', '73', '72', '71', '70', '69', '68', '67', '66', '65',\n",
       "       '64', '63', '62', '61', '60', '59', '58', '57', '56', '55', '54',\n",
       "       '53', '52', '51', '50', '49', '48', '47', '46', '45', '44', '43',\n",
       "       '42', '41', '40', '39', '38', '37', '36', '35', '34', '33', '32',\n",
       "       '31', '29', '28', '26', '25', '24', '20', '30', '27', '97.0',\n",
       "       '96.0', '94.0', '93.0', '92.0', '91.0', '90.0', '89.0', '88.0',\n",
       "       '87.0', '86.0', '85.0', '84.0', '83.0', '82.0', '81.0', '80.0',\n",
       "       '79.0', '78.0', '77.0', '76.0', '75.0', '74.0', '73.0', '72.0',\n",
       "       '71.0', '70.0', '69.0', '68.0', '67.0', '66.0', '65.0', '64.0',\n",
       "       '63.0', '62.0', '61.0', '60.0', '59.0', '58.0', '57.0', '56.0',\n",
       "       '55.0', '54.0', '53.0', '52.0', '51.0', '50.0', '49.0', '48.0',\n",
       "       '47.0', '46.0', '44.0', '43.0', '39.0', '38.0', '36.0', '34.0',\n",
       "       '29.0', '17.0', '45.0', '32.0'], dtype=object)"
      ]
     },
     "execution_count": 190,
     "metadata": {},
     "output_type": "execute_result"
    }
   ],
   "source": [
    "df['Metascore'].unique()\n"
   ]
  },
  {
   "cell_type": "code",
   "execution_count": 191,
   "id": "e423ad59",
   "metadata": {},
   "outputs": [],
   "source": [
    "def convert_metascore(score):\n",
    "    if score >= 90:\n",
    "        return ['MetaScoreVeryHigh']\n",
    "    elif score >= 80:\n",
    "        return ['MetaScoreHigh']\n",
    "    elif score >= 60:\n",
    "        return ['MetaScoreMedium']\n",
    "    elif score >= 40:\n",
    "        return ['MetaScoreLow']\n",
    "    elif score >= 20:\n",
    "        return ['MetaScoreVeryLow']\n",
    "    else:\n",
    "        return ['MetaScorePoor']\n"
   ]
  },
  {
   "cell_type": "code",
   "execution_count": 192,
   "id": "4a492033",
   "metadata": {},
   "outputs": [
    {
     "name": "stderr",
     "output_type": "stream",
     "text": [
      "C:\\Users\\bagam\\AppData\\Local\\Temp\\ipykernel_17928\\960133197.py:1: SettingWithCopyWarning: \n",
      "A value is trying to be set on a copy of a slice from a DataFrame.\n",
      "Try using .loc[row_indexer,col_indexer] = value instead\n",
      "\n",
      "See the caveats in the documentation: https://pandas.pydata.org/pandas-docs/stable/user_guide/indexing.html#returning-a-view-versus-a-copy\n",
      "  df['Metascore'] = df['Metascore'].astype(float).apply(convert_metascore)\n"
     ]
    }
   ],
   "source": [
    "df['Metascore'] = df['Metascore'].astype(float).apply(convert_metascore)\n"
   ]
  },
  {
   "cell_type": "code",
   "execution_count": 193,
   "id": "0775ba65",
   "metadata": {},
   "outputs": [
    {
     "data": {
      "text/plain": [
       "array(['8.3', '9.2', '7.8', '9.1', '8.6', '8.4', '8.9', '8.7', '7.0',\n",
       "       '9.0', '8.8', '8.2', '8.1', '6.6', '8.5', '7.4', '5.0', '6.4',\n",
       "       '7.7', '7.9', '4.0', '6.8', '8.0', '7.2', '7.1', '6.7', '7.3',\n",
       "       '6.0', '7.5', '5.9', '5.7', '4.2', '7.6', '6.9', '5.6', '6.3',\n",
       "       '4.7', '3.9', '6.5', '4.9', '6.1', '5.2', '5.3', '6.2', '5.8',\n",
       "       '4.6', '4.1', '3.2', '4.3', '3.3', '3.5', '5.1', '3.8', '5.5',\n",
       "       '5.4', 'tbd', '2.7', '3.0', '2.4', '2.2', '4.8', '3.1', '1.6',\n",
       "       '2.6', '4.4', '4.5', '3.6', '3.7', '3.4', '2.1', '0.8', '2.9',\n",
       "       '2.8', '1.5', '1.4', '1.3', '1.9', '2.3', '1.8', '2.5', '9.3',\n",
       "       '2.0', '1.7', '0.9', '9.6', '0.3', '0.6', '9.5'], dtype=object)"
      ]
     },
     "execution_count": 193,
     "metadata": {},
     "output_type": "execute_result"
    }
   ],
   "source": [
    "df['Userscore'].unique()\n"
   ]
  },
  {
   "cell_type": "code",
   "execution_count": 194,
   "id": "af8b7c7f",
   "metadata": {},
   "outputs": [],
   "source": [
    "def convert_userscore(score):\n",
    "    if score == 'tbd':\n",
    "        return ['UserScoreTobeDetermined']\n",
    "    \n",
    "    score = float(score)\n",
    "    if score >= 9.0:\n",
    "        return ['UserScoreVeryPositive']\n",
    "    elif score >= 8.0:\n",
    "        return ['UserScorePositive']\n",
    "    elif score >= 7.0:\n",
    "        return ['UserScoreMixed']\n",
    "    elif score >= 6.0:\n",
    "        return ['UserScoreOK']\n",
    "    elif score >= 5.0:\n",
    "        return ['UserScoreNotBad']\n",
    "    elif score >= 4.0:\n",
    "        return ['UserScoreBad']\n",
    "    elif score >= 3.0:\n",
    "        return ['UserScoreVeryBad']\n",
    "    elif score >= 2.0:\n",
    "        return ['UserScoreVeryVeryBad']\n",
    "    else:\n",
    "        return ['UserScorePoor']\n"
   ]
  },
  {
   "cell_type": "code",
   "execution_count": 195,
   "id": "177473a0",
   "metadata": {},
   "outputs": [
    {
     "name": "stderr",
     "output_type": "stream",
     "text": [
      "C:\\Users\\bagam\\AppData\\Local\\Temp\\ipykernel_17928\\2677533922.py:1: SettingWithCopyWarning: \n",
      "A value is trying to be set on a copy of a slice from a DataFrame.\n",
      "Try using .loc[row_indexer,col_indexer] = value instead\n",
      "\n",
      "See the caveats in the documentation: https://pandas.pydata.org/pandas-docs/stable/user_guide/indexing.html#returning-a-view-versus-a-copy\n",
      "  df['Userscore'] = df['Userscore'].apply(convert_userscore)\n"
     ]
    }
   ],
   "source": [
    "df['Userscore'] = df['Userscore'].apply(convert_userscore)\n"
   ]
  },
  {
   "cell_type": "code",
   "execution_count": 196,
   "id": "1728416e",
   "metadata": {},
   "outputs": [
    {
     "data": {
      "text/html": [
       "<div>\n",
       "<style scoped>\n",
       "    .dataframe tbody tr th:only-of-type {\n",
       "        vertical-align: middle;\n",
       "    }\n",
       "\n",
       "    .dataframe tbody tr th {\n",
       "        vertical-align: top;\n",
       "    }\n",
       "\n",
       "    .dataframe thead th {\n",
       "        text-align: right;\n",
       "    }\n",
       "</style>\n",
       "<table border=\"1\" class=\"dataframe\">\n",
       "  <thead>\n",
       "    <tr style=\"text-align: right;\">\n",
       "      <th></th>\n",
       "      <th>Name</th>\n",
       "      <th>Summary</th>\n",
       "      <th>Genres</th>\n",
       "      <th>Metascore</th>\n",
       "      <th>Userscore</th>\n",
       "      <th>Rating</th>\n",
       "      <th>Distributer</th>\n",
       "      <th>Meta_Status</th>\n",
       "      <th>Userscore_Status</th>\n",
       "      <th>is_multiplayer</th>\n",
       "      <th>Release_Year</th>\n",
       "    </tr>\n",
       "  </thead>\n",
       "  <tbody>\n",
       "    <tr>\n",
       "      <th>6319</th>\n",
       "      <td>wwe-2k16</td>\n",
       "      <td>[Offering, more, than, 120, unique, playable, ...</td>\n",
       "      <td>[Action, Sports, General, Individual, Combat, ...</td>\n",
       "      <td>[MetaScoreMedium]</td>\n",
       "      <td>[UserScoreMixed]</td>\n",
       "      <td>[Rating_T]</td>\n",
       "      <td>[2KSports]</td>\n",
       "      <td>[mixedoraveragereviews]</td>\n",
       "      <td>[mixedoraveragereviews]</td>\n",
       "      <td>[SinglePlayer]</td>\n",
       "      <td>[Release_Year_2015]</td>\n",
       "    </tr>\n",
       "    <tr>\n",
       "      <th>2986</th>\n",
       "      <td>dark-messiah-of-might-and-magic</td>\n",
       "      <td>[Dark, Messiah, of, Might, &amp;, Magic, puts, pla...</td>\n",
       "      <td>[Action, Shooter, Shooter, First-Person, Fanta...</td>\n",
       "      <td>[MetaScoreMedium]</td>\n",
       "      <td>[UserScorePositive]</td>\n",
       "      <td>[Rating_M]</td>\n",
       "      <td>[Ubisoft]</td>\n",
       "      <td>[mixedoraveragereviews]</td>\n",
       "      <td>[generallyfavorablereviews]</td>\n",
       "      <td>[SinglePlayer]</td>\n",
       "      <td>[Release_Year_2006]</td>\n",
       "    </tr>\n",
       "  </tbody>\n",
       "</table>\n",
       "</div>"
      ],
      "text/plain": [
       "                                 Name  \\\n",
       "6319                         wwe-2k16   \n",
       "2986  dark-messiah-of-might-and-magic   \n",
       "\n",
       "                                                Summary  \\\n",
       "6319  [Offering, more, than, 120, unique, playable, ...   \n",
       "2986  [Dark, Messiah, of, Might, &, Magic, puts, pla...   \n",
       "\n",
       "                                                 Genres          Metascore  \\\n",
       "6319  [Action, Sports, General, Individual, Combat, ...  [MetaScoreMedium]   \n",
       "2986  [Action, Shooter, Shooter, First-Person, Fanta...  [MetaScoreMedium]   \n",
       "\n",
       "                Userscore      Rating Distributer              Meta_Status  \\\n",
       "6319     [UserScoreMixed]  [Rating_T]  [2KSports]  [mixedoraveragereviews]   \n",
       "2986  [UserScorePositive]  [Rating_M]   [Ubisoft]  [mixedoraveragereviews]   \n",
       "\n",
       "                 Userscore_Status  is_multiplayer         Release_Year  \n",
       "6319      [mixedoraveragereviews]  [SinglePlayer]  [Release_Year_2015]  \n",
       "2986  [generallyfavorablereviews]  [SinglePlayer]  [Release_Year_2006]  "
      ]
     },
     "execution_count": 196,
     "metadata": {},
     "output_type": "execute_result"
    }
   ],
   "source": [
    "df.sample(2)\n"
   ]
  },
  {
   "cell_type": "code",
   "execution_count": 197,
   "id": "6f248a94",
   "metadata": {},
   "outputs": [
    {
     "name": "stderr",
     "output_type": "stream",
     "text": [
      "C:\\Users\\bagam\\AppData\\Local\\Temp\\ipykernel_17928\\4213783682.py:1: SettingWithCopyWarning: \n",
      "A value is trying to be set on a copy of a slice from a DataFrame.\n",
      "Try using .loc[row_indexer,col_indexer] = value instead\n",
      "\n",
      "See the caveats in the documentation: https://pandas.pydata.org/pandas-docs/stable/user_guide/indexing.html#returning-a-view-versus-a-copy\n",
      "  df['tags'] = df['Summary'] + df['Genres'] + df['Metascore'] + df['Userscore'] + df['Rating'] + df['Distributer'] + df['Meta_Status'] + df['Userscore_Status'] + df['is_multiplayer'] + df['Release_Year']\n"
     ]
    }
   ],
   "source": [
    "df['tags'] = df['Summary'] + df['Genres'] + df['Metascore'] + df['Userscore'] + df['Rating'] + df['Distributer'] + df['Meta_Status'] + df['Userscore_Status'] + df['is_multiplayer'] + df['Release_Year']\n",
    " "
   ]
  },
  {
   "cell_type": "code",
   "execution_count": 198,
   "id": "d3bc239d",
   "metadata": {},
   "outputs": [],
   "source": [
    "df = df[['Name', 'tags']]\n"
   ]
  },
  {
   "cell_type": "code",
   "execution_count": 199,
   "id": "e1c1defc",
   "metadata": {},
   "outputs": [
    {
     "data": {
      "text/html": [
       "<div>\n",
       "<style scoped>\n",
       "    .dataframe tbody tr th:only-of-type {\n",
       "        vertical-align: middle;\n",
       "    }\n",
       "\n",
       "    .dataframe tbody tr th {\n",
       "        vertical-align: top;\n",
       "    }\n",
       "\n",
       "    .dataframe thead th {\n",
       "        text-align: right;\n",
       "    }\n",
       "</style>\n",
       "<table border=\"1\" class=\"dataframe\">\n",
       "  <thead>\n",
       "    <tr style=\"text-align: right;\">\n",
       "      <th></th>\n",
       "      <th>Name</th>\n",
       "      <th>tags</th>\n",
       "    </tr>\n",
       "  </thead>\n",
       "  <tbody>\n",
       "    <tr>\n",
       "      <th>10519</th>\n",
       "      <td>kinect-sports-rivals</td>\n",
       "      <td>[Kinect, Sports, Rivals, captures, your, liken...</td>\n",
       "    </tr>\n",
       "    <tr>\n",
       "      <th>1139</th>\n",
       "      <td>warhammer-40000-chaos-gate---daemonhunters</td>\n",
       "      <td>[Lead, humanity's, greatest, weapon,, the, Gre...</td>\n",
       "    </tr>\n",
       "    <tr>\n",
       "      <th>3280</th>\n",
       "      <td>company-of-heroes-tales-of-valor</td>\n",
       "      <td>[Company, of, Heroes:, Tales, of, Valor, is, t...</td>\n",
       "    </tr>\n",
       "    <tr>\n",
       "      <th>2213</th>\n",
       "      <td>broken-age</td>\n",
       "      <td>[Broken, Age, is, a, point-and-click, adventur...</td>\n",
       "    </tr>\n",
       "    <tr>\n",
       "      <th>2277</th>\n",
       "      <td>grid-legends</td>\n",
       "      <td>[GRID, Legends, is, for, the, racing, thrill-s...</td>\n",
       "    </tr>\n",
       "    <tr>\n",
       "      <th>1945</th>\n",
       "      <td>as-dusk-falls</td>\n",
       "      <td>[Every, Family, has, Secrets., Every, Secret, ...</td>\n",
       "    </tr>\n",
       "    <tr>\n",
       "      <th>4250</th>\n",
       "      <td>call-of-the-wild-the-angler</td>\n",
       "      <td>[From, the, creators, of, theHunter:, Call, of...</td>\n",
       "    </tr>\n",
       "    <tr>\n",
       "      <th>854</th>\n",
       "      <td>snowrunner</td>\n",
       "      <td>[SnowRunner, puts, you, in, the, driver's, sea...</td>\n",
       "    </tr>\n",
       "    <tr>\n",
       "      <th>6154</th>\n",
       "      <td>utawarerumono-mask-of-truth</td>\n",
       "      <td>[Forced, to, flee, Yamato’s, idyllic, Imperial...</td>\n",
       "    </tr>\n",
       "    <tr>\n",
       "      <th>3233</th>\n",
       "      <td>the-sinking-city</td>\n",
       "      <td>[The, Sinking, City, is, an, adventure, and, i...</td>\n",
       "    </tr>\n",
       "  </tbody>\n",
       "</table>\n",
       "</div>"
      ],
      "text/plain": [
       "                                             Name  \\\n",
       "10519                        kinect-sports-rivals   \n",
       "1139   warhammer-40000-chaos-gate---daemonhunters   \n",
       "3280             company-of-heroes-tales-of-valor   \n",
       "2213                                   broken-age   \n",
       "2277                                 grid-legends   \n",
       "1945                                as-dusk-falls   \n",
       "4250                  call-of-the-wild-the-angler   \n",
       "854                                    snowrunner   \n",
       "6154                  utawarerumono-mask-of-truth   \n",
       "3233                             the-sinking-city   \n",
       "\n",
       "                                                    tags  \n",
       "10519  [Kinect, Sports, Rivals, captures, your, liken...  \n",
       "1139   [Lead, humanity's, greatest, weapon,, the, Gre...  \n",
       "3280   [Company, of, Heroes:, Tales, of, Valor, is, t...  \n",
       "2213   [Broken, Age, is, a, point-and-click, adventur...  \n",
       "2277   [GRID, Legends, is, for, the, racing, thrill-s...  \n",
       "1945   [Every, Family, has, Secrets., Every, Secret, ...  \n",
       "4250   [From, the, creators, of, theHunter:, Call, of...  \n",
       "854    [SnowRunner, puts, you, in, the, driver's, sea...  \n",
       "6154   [Forced, to, flee, Yamato’s, idyllic, Imperial...  \n",
       "3233   [The, Sinking, City, is, an, adventure, and, i...  "
      ]
     },
     "execution_count": 199,
     "metadata": {},
     "output_type": "execute_result"
    }
   ],
   "source": [
    "df.sample(10)\n"
   ]
  },
  {
   "cell_type": "code",
   "execution_count": 200,
   "id": "585976b5",
   "metadata": {},
   "outputs": [],
   "source": [
    "df.reset_index(inplace=True, drop=True)\n"
   ]
  },
  {
   "cell_type": "code",
   "execution_count": 201,
   "id": "7a6af6dd",
   "metadata": {},
   "outputs": [
    {
     "data": {
      "text/html": [
       "<div>\n",
       "<style scoped>\n",
       "    .dataframe tbody tr th:only-of-type {\n",
       "        vertical-align: middle;\n",
       "    }\n",
       "\n",
       "    .dataframe tbody tr th {\n",
       "        vertical-align: top;\n",
       "    }\n",
       "\n",
       "    .dataframe thead th {\n",
       "        text-align: right;\n",
       "    }\n",
       "</style>\n",
       "<table border=\"1\" class=\"dataframe\">\n",
       "  <thead>\n",
       "    <tr style=\"text-align: right;\">\n",
       "      <th></th>\n",
       "      <th>Name</th>\n",
       "      <th>tags</th>\n",
       "    </tr>\n",
       "  </thead>\n",
       "  <tbody>\n",
       "    <tr>\n",
       "      <th>0</th>\n",
       "      <td>disco-elysium-the-final-cut</td>\n",
       "      <td>[Disco, Elysium, -, The, Final, Cut, is, the, ...</td>\n",
       "    </tr>\n",
       "    <tr>\n",
       "      <th>1</th>\n",
       "      <td>half-life-2</td>\n",
       "      <td>[[Metacritic's, 2004, PC, Game, of, the, Year]...</td>\n",
       "    </tr>\n",
       "    <tr>\n",
       "      <th>2</th>\n",
       "      <td>grand-theft-auto-v</td>\n",
       "      <td>[Los, Santos:, a, sprawling, sun-soaked, metro...</td>\n",
       "    </tr>\n",
       "    <tr>\n",
       "      <th>3</th>\n",
       "      <td>the-orange-box</td>\n",
       "      <td>[Games, included, in, The, Orange, Box, compil...</td>\n",
       "    </tr>\n",
       "    <tr>\n",
       "      <th>4</th>\n",
       "      <td>bioshock</td>\n",
       "      <td>[Going, beyond, \"run, and, gun, corridors,\", \"...</td>\n",
       "    </tr>\n",
       "  </tbody>\n",
       "</table>\n",
       "</div>"
      ],
      "text/plain": [
       "                          Name  \\\n",
       "0  disco-elysium-the-final-cut   \n",
       "1                  half-life-2   \n",
       "2           grand-theft-auto-v   \n",
       "3               the-orange-box   \n",
       "4                     bioshock   \n",
       "\n",
       "                                                tags  \n",
       "0  [Disco, Elysium, -, The, Final, Cut, is, the, ...  \n",
       "1  [[Metacritic's, 2004, PC, Game, of, the, Year]...  \n",
       "2  [Los, Santos:, a, sprawling, sun-soaked, metro...  \n",
       "3  [Games, included, in, The, Orange, Box, compil...  \n",
       "4  [Going, beyond, \"run, and, gun, corridors,\", \"...  "
      ]
     },
     "execution_count": 201,
     "metadata": {},
     "output_type": "execute_result"
    }
   ],
   "source": [
    "df.head()\n"
   ]
  },
  {
   "cell_type": "code",
   "execution_count": 202,
   "id": "da496f8a",
   "metadata": {},
   "outputs": [
    {
     "data": {
      "text/plain": [
       "(4185, 2)"
      ]
     },
     "execution_count": 202,
     "metadata": {},
     "output_type": "execute_result"
    }
   ],
   "source": [
    "df.shape\n"
   ]
  },
  {
   "cell_type": "code",
   "execution_count": 203,
   "id": "23346939",
   "metadata": {},
   "outputs": [],
   "source": [
    "df.to_csv('clean.csv', index=False)\n"
   ]
  },
  {
   "cell_type": "code",
   "execution_count": null,
   "id": "7f893a9e",
   "metadata": {},
   "outputs": [],
   "source": []
  }
 ],
 "metadata": {
  "kernelspec": {
   "display_name": "base",
   "language": "python",
   "name": "python3"
  },
  "language_info": {
   "codemirror_mode": {
    "name": "ipython",
    "version": 3
   },
   "file_extension": ".py",
   "mimetype": "text/x-python",
   "name": "python",
   "nbconvert_exporter": "python",
   "pygments_lexer": "ipython3",
   "version": "3.12.7"
  }
 },
 "nbformat": 4,
 "nbformat_minor": 5
}
