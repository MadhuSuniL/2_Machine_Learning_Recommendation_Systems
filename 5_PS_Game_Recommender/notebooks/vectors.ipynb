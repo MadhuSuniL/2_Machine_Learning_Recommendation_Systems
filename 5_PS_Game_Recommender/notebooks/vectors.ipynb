{
 "cells": [
  {
   "cell_type": "code",
   "execution_count": 28,
   "metadata": {
    "executionInfo": {
     "elapsed": 3,
     "status": "ok",
     "timestamp": 1743847679334,
     "user": {
      "displayName": "Bagamma gari Madhu",
      "userId": "07191871593266793183"
     },
     "user_tz": -330
    },
    "id": "jBwrCjS-DTnu"
   },
   "outputs": [],
   "source": [
    "import os\n",
    "import pandas as pd\n",
    "import numpy as np\n",
    "import ast\n"
   ]
  },
  {
   "cell_type": "code",
   "execution_count": 29,
   "metadata": {
    "executionInfo": {
     "elapsed": 215,
     "status": "ok",
     "timestamp": 1743847679566,
     "user": {
      "displayName": "Bagamma gari Madhu",
      "userId": "07191871593266793183"
     },
     "user_tz": -330
    },
    "id": "Am69MyJRDYuF"
   },
   "outputs": [],
   "source": [
    "os.chdir(os.getcwd().replace('notebooks', 'data'))\n",
    "\n",
    "games = pd.read_csv('clean.csv')\n"
   ]
  },
  {
   "cell_type": "code",
   "execution_count": 30,
   "metadata": {
    "colab": {
     "base_uri": "https://localhost:8080/",
     "height": 206
    },
    "executionInfo": {
     "elapsed": 174,
     "status": "ok",
     "timestamp": 1743847679741,
     "user": {
      "displayName": "Bagamma gari Madhu",
      "userId": "07191871593266793183"
     },
     "user_tz": -330
    },
    "id": "33TRH_CBMok1",
    "outputId": "21ead561-80b0-48cf-cbc6-ddcd1279919f"
   },
   "outputs": [
    {
     "data": {
      "text/html": [
       "<div>\n",
       "<style scoped>\n",
       "    .dataframe tbody tr th:only-of-type {\n",
       "        vertical-align: middle;\n",
       "    }\n",
       "\n",
       "    .dataframe tbody tr th {\n",
       "        vertical-align: top;\n",
       "    }\n",
       "\n",
       "    .dataframe thead th {\n",
       "        text-align: right;\n",
       "    }\n",
       "</style>\n",
       "<table border=\"1\" class=\"dataframe\">\n",
       "  <thead>\n",
       "    <tr style=\"text-align: right;\">\n",
       "      <th></th>\n",
       "      <th>Name</th>\n",
       "      <th>tags</th>\n",
       "    </tr>\n",
       "  </thead>\n",
       "  <tbody>\n",
       "    <tr>\n",
       "      <th>0</th>\n",
       "      <td>disco-elysium-the-final-cut</td>\n",
       "      <td>['Disco', 'Elysium', '-', 'The', 'Final', 'Cut...</td>\n",
       "    </tr>\n",
       "    <tr>\n",
       "      <th>1</th>\n",
       "      <td>half-life-2</td>\n",
       "      <td>[\"[Metacritic's\", '2004', 'PC', 'Game', 'of', ...</td>\n",
       "    </tr>\n",
       "    <tr>\n",
       "      <th>2</th>\n",
       "      <td>grand-theft-auto-v</td>\n",
       "      <td>['Los', 'Santos:', 'a', 'sprawling', 'sun-soak...</td>\n",
       "    </tr>\n",
       "    <tr>\n",
       "      <th>3</th>\n",
       "      <td>the-orange-box</td>\n",
       "      <td>['Games', 'included', 'in', 'The', 'Orange', '...</td>\n",
       "    </tr>\n",
       "    <tr>\n",
       "      <th>4</th>\n",
       "      <td>bioshock</td>\n",
       "      <td>['Going', 'beyond', '\"run', 'and', 'gun', 'cor...</td>\n",
       "    </tr>\n",
       "  </tbody>\n",
       "</table>\n",
       "</div>"
      ],
      "text/plain": [
       "                          Name  \\\n",
       "0  disco-elysium-the-final-cut   \n",
       "1                  half-life-2   \n",
       "2           grand-theft-auto-v   \n",
       "3               the-orange-box   \n",
       "4                     bioshock   \n",
       "\n",
       "                                                tags  \n",
       "0  ['Disco', 'Elysium', '-', 'The', 'Final', 'Cut...  \n",
       "1  [\"[Metacritic's\", '2004', 'PC', 'Game', 'of', ...  \n",
       "2  ['Los', 'Santos:', 'a', 'sprawling', 'sun-soak...  \n",
       "3  ['Games', 'included', 'in', 'The', 'Orange', '...  \n",
       "4  ['Going', 'beyond', '\"run', 'and', 'gun', 'cor...  "
      ]
     },
     "execution_count": 30,
     "metadata": {},
     "output_type": "execute_result"
    }
   ],
   "source": [
    "games.head()\n"
   ]
  },
  {
   "cell_type": "code",
   "execution_count": 31,
   "metadata": {
    "executionInfo": {
     "elapsed": 17,
     "status": "ok",
     "timestamp": 1743847679789,
     "user": {
      "displayName": "Bagamma gari Madhu",
      "userId": "07191871593266793183"
     },
     "user_tz": -330
    },
    "id": "2xtmPh4BMqg9"
   },
   "outputs": [],
   "source": [
    "corups = games['tags'].values\n"
   ]
  },
  {
   "cell_type": "code",
   "execution_count": 32,
   "metadata": {
    "colab": {
     "base_uri": "https://localhost:8080/"
    },
    "executionInfo": {
     "elapsed": 14,
     "status": "ok",
     "timestamp": 1743847679805,
     "user": {
      "displayName": "Bagamma gari Madhu",
      "userId": "07191871593266793183"
     },
     "user_tz": -330
    },
    "id": "vDfzF-EFNCqk",
    "outputId": "34f3cec5-f96d-4ea6-b7d4-ccc78d406537"
   },
   "outputs": [
    {
     "data": {
      "text/plain": [
       "(4185,)"
      ]
     },
     "execution_count": 32,
     "metadata": {},
     "output_type": "execute_result"
    }
   ],
   "source": [
    "corups.shape\n"
   ]
  },
  {
   "cell_type": "code",
   "execution_count": 33,
   "metadata": {
    "executionInfo": {
     "elapsed": 29,
     "status": "ok",
     "timestamp": 1743847679835,
     "user": {
      "displayName": "Bagamma gari Madhu",
      "userId": "07191871593266793183"
     },
     "user_tz": -330
    },
    "id": "EuqNcNl3NDl0"
   },
   "outputs": [],
   "source": [
    "from nltk.stem import PorterStemmer\n",
    "\n",
    "stemmer = PorterStemmer()\n",
    "\n",
    "\n",
    "def convert_tags(tags):\n",
    "    return \" \".join([stemmer.stem(tag) for tag in ast.literal_eval(tags)]).lower()\n"
   ]
  },
  {
   "cell_type": "code",
   "execution_count": 34,
   "metadata": {
    "colab": {
     "base_uri": "https://localhost:8080/",
     "height": 88
    },
    "executionInfo": {
     "elapsed": 10,
     "status": "ok",
     "timestamp": 1743847679847,
     "user": {
      "displayName": "Bagamma gari Madhu",
      "userId": "07191871593266793183"
     },
     "user_tz": -330
    },
    "id": "mHnJw6dNN2Qd",
    "outputId": "c1371663-f2a1-40df-c1b2-8919fff2ea72"
   },
   "outputs": [
    {
     "data": {
      "text/plain": [
       "\"disco elysium - the final cut is the definit edit of the smash-hit rpg. pursu your polit dream in new quests, meet and question more of the city' locals, and explor a whole extra area. full voice-acting, control support, and expand languag option also included. get even more out of thi award-win open world. you'r a detect with a uniqu skill system at your dispos and a whole citi block to carv your path across. interrog unforgett characters, crack murders, or take bribes. becom a hero or an absolut disast of a human being. collaps role-play gener western-styl metascoreveryhigh userscoreposit rating_m za/um universalacclaim generallyfavorablereview singleplay release_year_2021\""
      ]
     },
     "execution_count": 34,
     "metadata": {},
     "output_type": "execute_result"
    }
   ],
   "source": [
    "convert_tags(corups[0])\n"
   ]
  },
  {
   "cell_type": "code",
   "execution_count": 35,
   "metadata": {
    "executionInfo": {
     "elapsed": 11995,
     "status": "ok",
     "timestamp": 1743847691842,
     "user": {
      "displayName": "Bagamma gari Madhu",
      "userId": "07191871593266793183"
     },
     "user_tz": -330
    },
    "id": "7da9ztC0N64z"
   },
   "outputs": [],
   "source": [
    "corups = [convert_tags(tag) for tag in corups]\n"
   ]
  },
  {
   "cell_type": "code",
   "execution_count": 36,
   "metadata": {
    "colab": {
     "base_uri": "https://localhost:8080/"
    },
    "executionInfo": {
     "elapsed": 6,
     "status": "ok",
     "timestamp": 1743847691844,
     "user": {
      "displayName": "Bagamma gari Madhu",
      "userId": "07191871593266793183"
     },
     "user_tz": -330
    },
    "id": "iBaGFVYMOXsk",
    "outputId": "acc336b6-71ba-43c9-96f2-8b480664252c"
   },
   "outputs": [
    {
     "data": {
      "text/plain": [
       "[\"disco elysium - the final cut is the definit edit of the smash-hit rpg. pursu your polit dream in new quests, meet and question more of the city' locals, and explor a whole extra area. full voice-acting, control support, and expand languag option also included. get even more out of thi award-win open world. you'r a detect with a uniqu skill system at your dispos and a whole citi block to carv your path across. interrog unforgett characters, crack murders, or take bribes. becom a hero or an absolut disast of a human being. collaps role-play gener western-styl metascoreveryhigh userscoreposit rating_m za/um universalacclaim generallyfavorablereview singleplay release_year_2021\",\n",
       " \"[metacritic' 2004 pc game of the year] by take the suspense, challeng and viscer charg of the original, and ad startl new realism and responsiveness, half-lif 2 open the door to a world where the player' presenc affect everyth around him, from the physic environ to the behavior -- even the emot -- of both friend and enemies. the player again pick up the crowbar of research scientist gordon freeman, who find himself on an alien-infest earth be pick to the bone, it resourc depleted, it populac dwindling. freeman is thrust into the unenvi role of rescu the world from the wrong he unleash back at black mesa. and a lot of peopl -- peopl he care about -- are count on him. [vivendi universal] collaps action shooter shooter first-person sci-fi sci-fi arcad metascoreveryhigh userscoreveryposit rating_m vugam universalacclaim universalacclaim singleplay release_year_2004\",\n",
       " 'lo santos: a sprawl sun-soak metropoli full of self-help gurus, starlet and fade celebrities, onc the envi of the western world, now struggl to stay aliv in a time of econom uncertainti and cheap realiti tv. amidst the turmoil, three veri uniqu crimin plot their own chanc of surviv and success: franklin, a street hustler look for tangibl opportun and seriou money; michael, a profession ex-con whose retir is less rosi than he figur it would be; and trevor, a violent dude driven by the opportun for a cheap high and hi next big score. with option at a premium, the crew risk it all in a myriad of dare and danger heist that could set them up for life. collaps modern actionadventur open-world metascoreveryhigh userscoremix rating_m rockstargam universalacclaim generallyfavorablereview singleplay release_year_2015',\n",
       " \"game includ in the orang box compilation: the origin half-lif 2 - the player again pick up the crowbar of research scientist gordon freeman, who find himself on an alien-infest earth be pick to the bone, it resourc depleted, it populac dwindling. freeman is thrust into the unenvi role of rescu the world from the wrong he unleash back at black mesa. and a lot of peopl - peopl he care about - are count on him. half-lif 2: episod one - the player repris hi role of dr. freeman, who must immedi face the repercuss of hi action in citi 17 and the citadel. freeman reconnect with alyx vanc and her robot, dog, as they continu their support of the resistance' battl against the combin forces. half-lif 2: episod two -- the second instal in valve' episod trilog advanc the award-win story, lead the player to new locat outsid of citi 17. portal - a pioneer type of singl player action game that rewrit the rule for how player approach and manipul their environ – much like how half-lif 2' graviti gun reinvent the way gamer interact with object in the game. team fortress 2 - an all-new version of the legendari titl that spawn team base multiplay action games. the game' dare new art style featur the most advanc graphic of ani source-bas game releas to date. [valv software] collaps action miscellan shooter compil first-person sci-fi metascoreveryhigh userscoreveryposit rating_m eagam universalacclaim universalacclaim singleplay release_year_2007\"]"
      ]
     },
     "execution_count": 36,
     "metadata": {},
     "output_type": "execute_result"
    }
   ],
   "source": [
    "corups[:4]\n"
   ]
  },
  {
   "cell_type": "code",
   "execution_count": 37,
   "metadata": {
    "executionInfo": {
     "elapsed": 4,
     "status": "ok",
     "timestamp": 1743847691845,
     "user": {
      "displayName": "Bagamma gari Madhu",
      "userId": "07191871593266793183"
     },
     "user_tz": -330
    },
    "id": "4xyfOwKIObIj"
   },
   "outputs": [],
   "source": [
    "from sklearn.feature_extraction.text import CountVectorizer\n"
   ]
  },
  {
   "cell_type": "code",
   "execution_count": 38,
   "metadata": {
    "executionInfo": {
     "elapsed": 4,
     "status": "ok",
     "timestamp": 1743847691846,
     "user": {
      "displayName": "Bagamma gari Madhu",
      "userId": "07191871593266793183"
     },
     "user_tz": -330
    },
    "id": "15rDi-N-O3cV"
   },
   "outputs": [],
   "source": [
    "vectorizer = CountVectorizer(max_features=10000, stop_words='english', ngram_range=(1, 2))\n"
   ]
  },
  {
   "cell_type": "code",
   "execution_count": 39,
   "metadata": {
    "executionInfo": {
     "elapsed": 1242,
     "status": "ok",
     "timestamp": 1743847693090,
     "user": {
      "displayName": "Bagamma gari Madhu",
      "userId": "07191871593266793183"
     },
     "user_tz": -330
    },
    "id": "L_vAeWAyO9b7"
   },
   "outputs": [],
   "source": [
    "vectors = vectorizer.fit_transform(corups)\n"
   ]
  },
  {
   "cell_type": "code",
   "execution_count": 40,
   "metadata": {
    "colab": {
     "base_uri": "https://localhost:8080/"
    },
    "executionInfo": {
     "elapsed": 68,
     "status": "ok",
     "timestamp": 1743847693157,
     "user": {
      "displayName": "Bagamma gari Madhu",
      "userId": "07191871593266793183"
     },
     "user_tz": -330
    },
    "id": "tk51vyfSPBpL",
    "outputId": "8aa76a81-0431-4e81-8dff-0b1648e21fb9"
   },
   "outputs": [
    {
     "data": {
      "text/plain": [
       "<1x10000 sparse matrix of type '<class 'numpy.int64'>'\n",
       "\twith 80 stored elements in Compressed Sparse Row format>"
      ]
     },
     "execution_count": 40,
     "metadata": {},
     "output_type": "execute_result"
    }
   ],
   "source": [
    "vectors[0]\n"
   ]
  },
  {
   "cell_type": "code",
   "execution_count": 41,
   "metadata": {
    "colab": {
     "base_uri": "https://localhost:8080/"
    },
    "executionInfo": {
     "elapsed": 42,
     "status": "ok",
     "timestamp": 1743847693200,
     "user": {
      "displayName": "Bagamma gari Madhu",
      "userId": "07191871593266793183"
     },
     "user_tz": -330
    },
    "id": "kFfzA7fPPEbj",
    "outputId": "17864cfd-dde8-48b2-f64b-44391c716e99"
   },
   "outputs": [
    {
     "data": {
      "text/plain": [
       "array(['000', '000 year', '07', '08', '10', '10 000', '10 differ',\n",
       "       '10 new', '10 year', '100', '100 level', '100 year', '101',\n",
       "       '1080p', '1080p 60fps', '10th', '10ton',\n",
       "       '10ton mixedoraveragereview', '11', '11bitstudio', '11th', '12',\n",
       "       '120', '13', '13 lbs', '130', '14', '140', '15', '15 new', '150',\n",
       "       '16', '16 bit', '16 player', '160', '17', '1701', '17th', '18',\n",
       "       '18th', '19', '1920', '1930', '1940', '1941', '1942', '1944',\n",
       "       '1945', '1950', '1960', '1968', '1980', '1982', '1984', '1986',\n",
       "       '1987', '1988', '1989', '1990', '1991', '1992', '1993', '1994',\n",
       "       '1995', '1996', '1997', '1998', '1999', '19th', '19th centuri',\n",
       "       '19th century', '1c', '1c 1centertain', '1c company',\n",
       "       '1centertain', '1st', '20', '20 differ', '20 new', '20 year',\n",
       "       '200', '2000', '2001', '2002', '2003', '2004', '2005', '2006',\n",
       "       '2007', '2008', '2009', '2010', '2013', '2014', '2015', '2016',\n",
       "       '2017', '2018', '2019', '2020'], dtype=object)"
      ]
     },
     "execution_count": 41,
     "metadata": {},
     "output_type": "execute_result"
    }
   ],
   "source": [
    "vectorizer.get_feature_names_out()[:100]\n"
   ]
  },
  {
   "cell_type": "code",
   "execution_count": 42,
   "metadata": {
    "executionInfo": {
     "elapsed": 17,
     "status": "ok",
     "timestamp": 1743847693270,
     "user": {
      "displayName": "Bagamma gari Madhu",
      "userId": "07191871593266793183"
     },
     "user_tz": -330
    },
    "id": "jFu32QJPQet6"
   },
   "outputs": [],
   "source": [
    "from sklearn.metrics.pairwise import cosine_similarity\n"
   ]
  },
  {
   "cell_type": "code",
   "execution_count": 43,
   "metadata": {
    "colab": {
     "base_uri": "https://localhost:8080/"
    },
    "executionInfo": {
     "elapsed": 15,
     "status": "ok",
     "timestamp": 1743847693323,
     "user": {
      "displayName": "Bagamma gari Madhu",
      "userId": "07191871593266793183"
     },
     "user_tz": -330
    },
    "id": "XAIzTJJ6Q8Np",
    "outputId": "5a180749-2ee3-4fbf-b738-2f8eae0649ec"
   },
   "outputs": [
    {
     "data": {
      "text/plain": [
       "array([[0.11321571, 1.        , 0.10615269, ..., 0.06786566, 0.10485249,\n",
       "        0.05822225]])"
      ]
     },
     "execution_count": 43,
     "metadata": {},
     "output_type": "execute_result"
    }
   ],
   "source": [
    "game_similarities = cosine_similarity(vectors[1], vectors)\n",
    "game_similarities\n"
   ]
  },
  {
   "cell_type": "code",
   "execution_count": 44,
   "metadata": {
    "executionInfo": {
     "elapsed": 1,
     "status": "ok",
     "timestamp": 1743847693325,
     "user": {
      "displayName": "Bagamma gari Madhu",
      "userId": "07191871593266793183"
     },
     "user_tz": -330
    },
    "id": "M8dmu-QrRt5Y"
   },
   "outputs": [],
   "source": [
    "def recomend(game, k = 30):\n",
    "  index = games[games['Name'] == game].index[0]\n",
    "  game_similarities = cosine_similarity(vectors[index], vectors)[0]\n",
    "\n",
    "  games_list = sorted(list(enumerate(game_similarities)), reverse=True, key=lambda x: x[1])[1:k + 1]\n",
    "  return [games.iloc[game[0]]['Name'] for game in games_list]\n"
   ]
  },
  {
   "cell_type": "code",
   "execution_count": 45,
   "metadata": {},
   "outputs": [
    {
     "data": {
      "text/plain": [
       "array(['disco-elysium-the-final-cut', 'half-life-2', 'grand-theft-auto-v',\n",
       "       ..., 'you-suck-at-parking', 'tanuki-sunset', 'shredders'],\n",
       "      dtype=object)"
      ]
     },
     "execution_count": 45,
     "metadata": {},
     "output_type": "execute_result"
    }
   ],
   "source": [
    "games['Name'].values\n"
   ]
  },
  {
   "cell_type": "code",
   "execution_count": 46,
   "metadata": {
    "colab": {
     "base_uri": "https://localhost:8080/"
    },
    "executionInfo": {
     "elapsed": 10,
     "status": "ok",
     "timestamp": 1743847693338,
     "user": {
      "displayName": "Bagamma gari Madhu",
      "userId": "07191871593266793183"
     },
     "user_tz": -330
    },
    "id": "xHu9G91GSdUn",
    "outputId": "6c346d21-e934-4083-da07-891ce51fede2"
   },
   "outputs": [
    {
     "data": {
      "text/plain": [
       "['grand-theft-auto-iv',\n",
       " 'outer-wilds',\n",
       " 'grand-theft-auto-san-andreas',\n",
       " 'yakuza-5-remastered',\n",
       " 'sleeping-dogs',\n",
       " 'metal-gear-solid-v-the-phantom-pain',\n",
       " 'hitman-codename-47',\n",
       " 'yakuza-4-remastered',\n",
       " 'lost-ember',\n",
       " 'manhunt',\n",
       " 'darksiders-ii-deathinitive-edition',\n",
       " 'mad-max',\n",
       " 'like-a-dragon-ishin!',\n",
       " 'death-stranding',\n",
       " 'blossom-tales-the-sleeping-king',\n",
       " 'way-of-the-samurai-4',\n",
       " 'grand-theft-auto-iii',\n",
       " 'the-forest',\n",
       " 'grand-theft-auto-vice-city',\n",
       " 'marvels-spider-man',\n",
       " 'everspace-stellar-edition',\n",
       " 'tom-clancys-rainbow-six-vegas',\n",
       " 'bully-scholarship-edition',\n",
       " 'the-witcher-3-wild-hunt---complete-edition',\n",
       " 'remothered-tormented-fathers',\n",
       " 'cat-quest',\n",
       " 'assassins-creed-valhalla-dawn-of-ragnarok',\n",
       " 'hob-the-definitive-edition',\n",
       " 'shakedown-hawaii',\n",
       " 'sea-of-thieves']"
      ]
     },
     "execution_count": 46,
     "metadata": {},
     "output_type": "execute_result"
    }
   ],
   "source": [
    "recomend('grand-theft-auto-v')\n"
   ]
  },
  {
   "cell_type": "code",
   "execution_count": 47,
   "metadata": {
    "executionInfo": {
     "elapsed": 1,
     "status": "ok",
     "timestamp": 1743847693340,
     "user": {
      "displayName": "Bagamma gari Madhu",
      "userId": "07191871593266793183"
     },
     "user_tz": -330
    },
    "id": "TsFym-VES4eX"
   },
   "outputs": [],
   "source": [
    "import joblib\n"
   ]
  },
  {
   "cell_type": "code",
   "execution_count": 48,
   "metadata": {
    "colab": {
     "base_uri": "https://localhost:8080/"
    },
    "executionInfo": {
     "elapsed": 17,
     "status": "ok",
     "timestamp": 1743847693363,
     "user": {
      "displayName": "Bagamma gari Madhu",
      "userId": "07191871593266793183"
     },
     "user_tz": -330
    },
    "id": "KiGM7cewVN8E",
    "outputId": "7f8aae00-7f7d-4e0f-c2e9-921380124da3"
   },
   "outputs": [
    {
     "data": {
      "text/plain": [
       "['game_vectors.joblib']"
      ]
     },
     "execution_count": 48,
     "metadata": {},
     "output_type": "execute_result"
    }
   ],
   "source": [
    "joblib.dump(vectors, 'game_vectors.joblib')\n"
   ]
  },
  {
   "cell_type": "code",
   "execution_count": 49,
   "metadata": {
    "colab": {
     "base_uri": "https://localhost:8080/"
    },
    "executionInfo": {
     "elapsed": 33,
     "status": "ok",
     "timestamp": 1743848324326,
     "user": {
      "displayName": "Bagamma gari Madhu",
      "userId": "07191871593266793183"
     },
     "user_tz": -330
    },
    "id": "-VQuuMUQYQN5",
    "outputId": "96c44ca0-ddd4-4d8d-b524-ff382d332c1f"
   },
   "outputs": [
    {
     "data": {
      "text/plain": [
       "['game_Name.joblib']"
      ]
     },
     "execution_count": 49,
     "metadata": {},
     "output_type": "execute_result"
    }
   ],
   "source": [
    "joblib.dump(games['Name'].values, 'game_Name.joblib')\n"
   ]
  },
  {
   "cell_type": "code",
   "execution_count": null,
   "metadata": {
    "id": "GSZnZYbFdbtc"
   },
   "outputs": [],
   "source": []
  }
 ],
 "metadata": {
  "colab": {
   "authorship_tag": "ABX9TyN5ZWawipV2gH4uh+CCaR9U",
   "mount_file_id": "1O4rkvDOi5AK9l2o2hxrLIz0sM95A5Emm",
   "provenance": []
  },
  "kernelspec": {
   "display_name": "base",
   "language": "python",
   "name": "python3"
  },
  "language_info": {
   "codemirror_mode": {
    "name": "ipython",
    "version": 3
   },
   "file_extension": ".py",
   "mimetype": "text/x-python",
   "name": "python",
   "nbconvert_exporter": "python",
   "pygments_lexer": "ipython3",
   "version": "3.12.7"
  }
 },
 "nbformat": 4,
 "nbformat_minor": 0
}
