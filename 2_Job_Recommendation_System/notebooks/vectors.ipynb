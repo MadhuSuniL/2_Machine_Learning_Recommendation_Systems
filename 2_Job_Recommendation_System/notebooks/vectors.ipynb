{
 "cells": [
  {
   "cell_type": "code",
   "execution_count": 2,
   "metadata": {
    "executionInfo": {
     "elapsed": 3,
     "status": "ok",
     "timestamp": 1743847679334,
     "user": {
      "displayName": "Bagamma gari Madhu",
      "userId": "07191871593266793183"
     },
     "user_tz": -330
    },
    "id": "jBwrCjS-DTnu"
   },
   "outputs": [],
   "source": [
    "import os\n",
    "import pandas as pd\n",
    "import numpy as np\n",
    "import ast\n"
   ]
  },
  {
   "cell_type": "code",
   "execution_count": 29,
   "metadata": {
    "executionInfo": {
     "elapsed": 215,
     "status": "ok",
     "timestamp": 1743847679566,
     "user": {
      "displayName": "Bagamma gari Madhu",
      "userId": "07191871593266793183"
     },
     "user_tz": -330
    },
    "id": "Am69MyJRDYuF"
   },
   "outputs": [],
   "source": [
    "os.chdir(os.getcwd().replace('notebooks', 'data'))\n",
    "\n",
    "jobs = pd.read_csv('clean.csv')\n"
   ]
  },
  {
   "cell_type": "code",
   "execution_count": 30,
   "metadata": {
    "colab": {
     "base_uri": "https://localhost:8080/",
     "height": 206
    },
    "executionInfo": {
     "elapsed": 174,
     "status": "ok",
     "timestamp": 1743847679741,
     "user": {
      "displayName": "Bagamma gari Madhu",
      "userId": "07191871593266793183"
     },
     "user_tz": -330
    },
    "id": "33TRH_CBMok1",
    "outputId": "21ead561-80b0-48cf-cbc6-ddcd1279919f"
   },
   "outputs": [
    {
     "data": {
      "text/html": [
       "<div>\n",
       "<style scoped>\n",
       "    .dataframe tbody tr th:only-of-type {\n",
       "        vertical-align: middle;\n",
       "    }\n",
       "\n",
       "    .dataframe tbody tr th {\n",
       "        vertical-align: top;\n",
       "    }\n",
       "\n",
       "    .dataframe thead th {\n",
       "        text-align: right;\n",
       "    }\n",
       "</style>\n",
       "<table border=\"1\" class=\"dataframe\">\n",
       "  <thead>\n",
       "    <tr style=\"text-align: right;\">\n",
       "      <th></th>\n",
       "      <th>Unnamed: 0</th>\n",
       "      <th>jobtitle</th>\n",
       "      <th>tags</th>\n",
       "    </tr>\n",
       "  </thead>\n",
       "  <tbody>\n",
       "    <tr>\n",
       "      <th>0</th>\n",
       "      <td>0</td>\n",
       "      <td>Walkin Data Entry Operator (night Shift)</td>\n",
       "      <td>['UG:B.Tech/B.E.-AnySpecializationPG:AnyPostgr...</td>\n",
       "    </tr>\n",
       "    <tr>\n",
       "      <th>1</th>\n",
       "      <td>1</td>\n",
       "      <td>Work Based Onhome Based Part Time.</td>\n",
       "      <td>['UG:B.Tech/B.E.-AnySpecializationPG:MBA/PGDM-...</td>\n",
       "    </tr>\n",
       "    <tr>\n",
       "      <th>2</th>\n",
       "      <td>2</td>\n",
       "      <td>Pl/sql Developer - SQL</td>\n",
       "      <td>['UG:AnyGraduate-AnySpecializationPG:AnyPostgr...</td>\n",
       "    </tr>\n",
       "    <tr>\n",
       "      <th>3</th>\n",
       "      <td>3</td>\n",
       "      <td>Manager/ad/partner - Indirect Tax - CA</td>\n",
       "      <td>['UG:AnyGraduate-AnySpecializationPG:CADoctora...</td>\n",
       "    </tr>\n",
       "    <tr>\n",
       "      <th>4</th>\n",
       "      <td>4</td>\n",
       "      <td>JAVA Technical Lead (6-8 yrs) -</td>\n",
       "      <td>['UG:B.Tech/B.E.-AnySpecializationPG:AnyPostgr...</td>\n",
       "    </tr>\n",
       "  </tbody>\n",
       "</table>\n",
       "</div>"
      ],
      "text/plain": [
       "   Unnamed: 0                                  jobtitle  \\\n",
       "0           0  Walkin Data Entry Operator (night Shift)   \n",
       "1           1        Work Based Onhome Based Part Time.   \n",
       "2           2                    Pl/sql Developer - SQL   \n",
       "3           3    Manager/ad/partner - Indirect Tax - CA   \n",
       "4           4           JAVA Technical Lead (6-8 yrs) -   \n",
       "\n",
       "                                                tags  \n",
       "0  ['UG:B.Tech/B.E.-AnySpecializationPG:AnyPostgr...  \n",
       "1  ['UG:B.Tech/B.E.-AnySpecializationPG:MBA/PGDM-...  \n",
       "2  ['UG:AnyGraduate-AnySpecializationPG:AnyPostgr...  \n",
       "3  ['UG:AnyGraduate-AnySpecializationPG:CADoctora...  \n",
       "4  ['UG:B.Tech/B.E.-AnySpecializationPG:AnyPostgr...  "
      ]
     },
     "execution_count": 30,
     "metadata": {},
     "output_type": "execute_result"
    }
   ],
   "source": [
    "jobs.head()\n"
   ]
  },
  {
   "cell_type": "code",
   "execution_count": 31,
   "metadata": {
    "executionInfo": {
     "elapsed": 17,
     "status": "ok",
     "timestamp": 1743847679789,
     "user": {
      "displayName": "Bagamma gari Madhu",
      "userId": "07191871593266793183"
     },
     "user_tz": -330
    },
    "id": "2xtmPh4BMqg9"
   },
   "outputs": [],
   "source": [
    "corups = jobs['tags'].values\n"
   ]
  },
  {
   "cell_type": "code",
   "execution_count": 32,
   "metadata": {
    "colab": {
     "base_uri": "https://localhost:8080/"
    },
    "executionInfo": {
     "elapsed": 14,
     "status": "ok",
     "timestamp": 1743847679805,
     "user": {
      "displayName": "Bagamma gari Madhu",
      "userId": "07191871593266793183"
     },
     "user_tz": -330
    },
    "id": "vDfzF-EFNCqk",
    "outputId": "34f3cec5-f96d-4ea6-b7d4-ccc78d406537"
   },
   "outputs": [
    {
     "data": {
      "text/plain": [
       "(19077,)"
      ]
     },
     "execution_count": 32,
     "metadata": {},
     "output_type": "execute_result"
    }
   ],
   "source": [
    "corups.shape\n"
   ]
  },
  {
   "cell_type": "code",
   "execution_count": 33,
   "metadata": {
    "executionInfo": {
     "elapsed": 29,
     "status": "ok",
     "timestamp": 1743847679835,
     "user": {
      "displayName": "Bagamma gari Madhu",
      "userId": "07191871593266793183"
     },
     "user_tz": -330
    },
    "id": "EuqNcNl3NDl0"
   },
   "outputs": [],
   "source": [
    "from nltk.stem import PorterStemmer\n",
    "\n",
    "stemmer = PorterStemmer()\n",
    "\n",
    "\n",
    "def convert_tags(tags):\n",
    "    return \" \".join([stemmer.stem(tag) for tag in ast.literal_eval(tags)]).lower()\n"
   ]
  },
  {
   "cell_type": "code",
   "execution_count": 8,
   "metadata": {
    "colab": {
     "base_uri": "https://localhost:8080/",
     "height": 88
    },
    "executionInfo": {
     "elapsed": 10,
     "status": "ok",
     "timestamp": 1743847679847,
     "user": {
      "displayName": "Bagamma gari Madhu",
      "userId": "07191871593266793183"
     },
     "user_tz": -330
    },
    "id": "mHnJw6dNN2Qd",
    "outputId": "c1371663-f2a1-40df-c1b2-8919fff2ea72"
   },
   "outputs": [
    {
     "data": {
      "text/plain": [
       "'ug:b.tech/b.e.-anyspecializationpg:anypostgraduate-anyspeci postgraduationnotrequir fresher 1yearexperi ite job descript \\xa0 send me job like thi qualifications: - == > 10th to graduat & ani skill: - == > basic comput knowledg job requir : - == > system or laptop type of job: - == > full time or part time languag : - == > tamil & english. experi : - == > fresher & experi payment details: - 1 form per day 5/- 10 form per day 50/- 100 form per day 500/- monthli you can earn 15000/- per month select process: - == > easi select process,so what are you wait for? appli now & grab best opportun to make your carrier & to improv your ear skills. more detail contact mr hari 8678902528 9003010282 salary:inr 1,50,000 - 2,25,000 p.a industry: media / entertain / internet function area: ite , bpo , kpo , lpo , custom servic , oper role category:oth role:fresh keyskil english type part time data entri select process desir candid profil education- ug: b.tech/b.e. - ani special pg:ani postgradu - ani specialization, post graduat not requir pleas refer to the job descript abov compani profile: mm media pvt ltd mass media intern find live info pvt ltd data servic is establish in the year 2012 with a vision of transform an ordinari to extra ordinari thing. find live info is one of our main project, it is a develop search engin site base at chennai, india. with year of experience, we have craft massiv data collect job opportun for public. find live info a blend of experience, imagination, strategi and action to creat digit experi that excite, challenge, inspir and engag users. find live info provid other busi opportun which will be handl by expert of variou fields. we have interest combin of young and experienc specialist under the guidanc of our top manag we bloom toward success more detail contect 8678902528 download ppt photo 1 \\xa0 view contact detail media entertain internet chennai'"
      ]
     },
     "execution_count": 8,
     "metadata": {},
     "output_type": "execute_result"
    }
   ],
   "source": [
    "convert_tags(corups[0])\n"
   ]
  },
  {
   "cell_type": "code",
   "execution_count": 9,
   "metadata": {
    "executionInfo": {
     "elapsed": 11995,
     "status": "ok",
     "timestamp": 1743847691842,
     "user": {
      "displayName": "Bagamma gari Madhu",
      "userId": "07191871593266793183"
     },
     "user_tz": -330
    },
    "id": "7da9ztC0N64z"
   },
   "outputs": [],
   "source": [
    "corups = [convert_tags(tag) for tag in corups]\n"
   ]
  },
  {
   "cell_type": "code",
   "execution_count": 18,
   "metadata": {
    "colab": {
     "base_uri": "https://localhost:8080/"
    },
    "executionInfo": {
     "elapsed": 6,
     "status": "ok",
     "timestamp": 1743847691844,
     "user": {
      "displayName": "Bagamma gari Madhu",
      "userId": "07191871593266793183"
     },
     "user_tz": -330
    },
    "id": "iBaGFVYMOXsk",
    "outputId": "acc336b6-71ba-43c9-96f2-8b480664252c"
   },
   "outputs": [
    {
     "data": {
      "text/plain": [
       "['ug:b.tech/b.e.-anyspecializationpg:anypostgraduate-anyspeci postgraduationnotrequir fresher 1yearexperi ite job descript \\xa0 send me job like thi qualifications: - == > 10th to graduat & ani skill: - == > basic comput knowledg job requir : - == > system or laptop type of job: - == > full time or part time languag : - == > tamil & english. experi : - == > fresher & experi payment details: - 1 form per day 5/- 10 form per day 50/- 100 form per day 500/- monthli you can earn 15000/- per month select process: - == > easi select process,so what are you wait for? appli now & grab best opportun to make your carrier & to improv your ear skills. more detail contact mr hari 8678902528 9003010282 salary:inr 1,50,000 - 2,25,000 p.a industry: media / entertain / internet function area: ite , bpo , kpo , lpo , custom servic , oper role category:oth role:fresh keyskil english type part time data entri select process desir candid profil education- ug: b.tech/b.e. - ani special pg:ani postgradu - ani specialization, post graduat not requir pleas refer to the job descript abov compani profile: mm media pvt ltd mass media intern find live info pvt ltd data servic is establish in the year 2012 with a vision of transform an ordinari to extra ordinari thing. find live info is one of our main project, it is a develop search engin site base at chennai, india. with year of experience, we have craft massiv data collect job opportun for public. find live info a blend of experience, imagination, strategi and action to creat digit experi that excite, challenge, inspir and engag users. find live info provid other busi opportun which will be handl by expert of variou fields. we have interest combin of young and experienc specialist under the guidanc of our top manag we bloom toward success more detail contect 8678902528 download ppt photo 1 \\xa0 view contact detail media entertain internet chennai',\n",
       " 'ug:b.tech/b.e.-anyspecializationpg:mba/pgdm-anyspeci fresher market job descript \\xa0 send me job like thi qualifications: - == > 10th to graduat & ani skill: - == > basic comput knowledg job requir : - == > system or laptop type of job: - == > full time or part time languag : - == > tamil & english. experi : - == > fresher & experi payment details: - 1 form per day 5/- 10 form per day 50/- 100 form per day 500/- monthli you can earn 15000/- per month select process: - == > easi select process,so what are you wait for? appli now & grab best opportun to make your carrier & to improv your ear skills. chennai peopl onli contact deepika team leader 9087728815 / 9087726713 salary:inr 1,50,000 - 2,50,000 p.a. 20000 industry: advertis / pr / mr / event manag function area: market , advertis , mr , pr , media plan role category:online/digit market role:search engin marketing/sem specialist keyskil data entri data process desir candid profil education- ug: b.tech/b.e. - ani special pg:mba/pgdm - ani special pleas refer to the job descript abov compani profile: find live infotech find live infotech is one of our main projects, it is a develop search engin site base at chennai , india. with year of experi , we have craft massiv data collect job oppurtunti for public. find live infotech provid other busi opportun which will be handl by expert of variou field download ppt photo 1 \\xa0 view contact detail advertis pr mr eventmanag chennai',\n",
       " 'ug:anygraduate-anyspecializationpg:anypostgraduatedoctorate:doctoratenotrequir 4yearsexperi 5yearsexperi 6yearsexperi 7yearsexperi 8yearsexperi itsoftware-applicationprogram job descript \\xa0 send me job like thi - as a develop in provid applic design guidanc and consultation, util a thorough understand of applic technology, tool and exist designs. - analyz highli complex busi requirements, design and write technic specif to design or redesign complex comput platform and applications. - provid code direct to less experienc staff or develop highli complex origin code. - act as an expert technic resourc for modeling, simul and analysi efforts. - verifi program logic by overse the prepar of test data, test and debug of programs. - overse overal system test and the migrat of platform and applic to production. - develop new documentation, department technic procedur and user guides. - lead projects, alloc and manag resourc and manag the work of less experienc staff. - assur quality, secur and complianc requir are met for support area and overse creation of or updat to and test of the busi continu plan.: 7+ year applic develop and implement experience. addit job details: - look for pl/sql developer, who ha experi load data use sql loader. salary: not disclos by recruit industry: it-softwar / softwar servic function area: it softwar - applic program , mainten role category:program & design role:softwar develop keyskil sql loader pl sql develop plsql procedur applic design test data applic develop desir candid profil \\xa0 education- ug: ani graduat - ani special pg:ani postgradu doctorate:doctor not requir compani profile: softtech career infosystem pvt. ltd lead client of softtech career infosystem pvt. ltd download ppt photo 1 \\xa0 view contact detail it-softwar softwareservic bengaluru',\n",
       " \"ug:anygraduate-anyspecializationpg:cadoctorate:doctoratenotrequir 11yearsexperi 12yearsexperi 13yearsexperi 14yearsexperi 15yearsexperi account job descript \\xa0 send me job like thi - involv with all stage of indirect taxation, includ planning, execut and complet and will supervis and develop those with less experience. - will be the primari on-sit client contact for basic question and information. - advis client on variou critic issu relat to all arena of indirect tax such as customs, excise, vat, servic tax etc. - structur variou transact and agreement for indirect tax effici - ensur strict complianc of central excis & servic tax law - attend person hear up to the level of tribunal. - develop intern system to control day to day activ in term of central excis & servic tax law - advic compani manag on central excis & servic tax matter to decid company' polici in context of tax plan - export formal & document - prepar & realiz of all type of refund claim - liaison with central excis depart - formal relat to establish & oper of 100% eou & stpi, sezs. - advis variou client on work contract for all sector - tax plan and transact structur for turnkey project includ epc contract - design of document & intern procedur for day to day work under vat regim - assess & appeal proceed - vat audit for almost all the state under the vat for all sectors. - would be argu variou case befor variou quasi judici author - identifi potenti new busi lead & cross sell opportun - success in convers of referr - ensur deliveri of qualiti work and take day to day leadership of deliveri team and make sure complianc of all aspect of taxat . salary: not disclos by recruit industry: bank / financi servic / broke function area: account , financ , tax , compani secretari , audit role category:account role:taxation(indirect) manag keyskil servic tax matter central excis custom eou vat audit indirect taxat audit stpi export tax plan excis servic tax sale tax desir candid profil requir :- qualifi c.a. (prefer first/ second attempt)- good technic skills- expertis in the area of indirect tax on variou engag for mnc or top indian corpor houses- experi handl excise, customs, servic tax, sale tax etc.- abil to appli expertis in a consult role- superior leadership ability- superior relationship building- present and public speaking- abil to analys and think differentlyif interested, pleas call jyoti on 7045597424. education- ug: ani graduat - ani special pg:ca doctorate:doctor not requir compani profile: onboard hrservic llp lead client of onboard hrservic llp download ppt photo 1 \\xa0 view contact detail bank financialservic broke mumbai,bengaluru,kolkata,chennai,coimbatore,tamilnadu\"]"
      ]
     },
     "execution_count": 18,
     "metadata": {},
     "output_type": "execute_result"
    }
   ],
   "source": [
    "corups[:4]\n"
   ]
  },
  {
   "cell_type": "code",
   "execution_count": 19,
   "metadata": {
    "executionInfo": {
     "elapsed": 4,
     "status": "ok",
     "timestamp": 1743847691845,
     "user": {
      "displayName": "Bagamma gari Madhu",
      "userId": "07191871593266793183"
     },
     "user_tz": -330
    },
    "id": "4xyfOwKIObIj"
   },
   "outputs": [],
   "source": [
    "from sklearn.feature_extraction.text import CountVectorizer\n"
   ]
  },
  {
   "cell_type": "code",
   "execution_count": 20,
   "metadata": {
    "executionInfo": {
     "elapsed": 4,
     "status": "ok",
     "timestamp": 1743847691846,
     "user": {
      "displayName": "Bagamma gari Madhu",
      "userId": "07191871593266793183"
     },
     "user_tz": -330
    },
    "id": "15rDi-N-O3cV"
   },
   "outputs": [],
   "source": [
    "vectorizer = CountVectorizer(max_features=8000, stop_words='english')\n"
   ]
  },
  {
   "cell_type": "code",
   "execution_count": 21,
   "metadata": {
    "executionInfo": {
     "elapsed": 1242,
     "status": "ok",
     "timestamp": 1743847693090,
     "user": {
      "displayName": "Bagamma gari Madhu",
      "userId": "07191871593266793183"
     },
     "user_tz": -330
    },
    "id": "L_vAeWAyO9b7"
   },
   "outputs": [],
   "source": [
    "vectors = vectorizer.fit_transform(corups)\n"
   ]
  },
  {
   "cell_type": "code",
   "execution_count": 22,
   "metadata": {
    "colab": {
     "base_uri": "https://localhost:8080/"
    },
    "executionInfo": {
     "elapsed": 68,
     "status": "ok",
     "timestamp": 1743847693157,
     "user": {
      "displayName": "Bagamma gari Madhu",
      "userId": "07191871593266793183"
     },
     "user_tz": -330
    },
    "id": "tk51vyfSPBpL",
    "outputId": "8aa76a81-0431-4e81-8dff-0b1648e21fb9"
   },
   "outputs": [
    {
     "data": {
      "text/plain": [
       "<1x8000 sparse matrix of type '<class 'numpy.int64'>'\n",
       "\twith 150 stored elements in Compressed Sparse Row format>"
      ]
     },
     "execution_count": 22,
     "metadata": {},
     "output_type": "execute_result"
    }
   ],
   "source": [
    "vectors[0]\n"
   ]
  },
  {
   "cell_type": "code",
   "execution_count": 24,
   "metadata": {
    "colab": {
     "base_uri": "https://localhost:8080/"
    },
    "executionInfo": {
     "elapsed": 42,
     "status": "ok",
     "timestamp": 1743847693200,
     "user": {
      "displayName": "Bagamma gari Madhu",
      "userId": "07191871593266793183"
     },
     "user_tz": -330
    },
    "id": "kFfzA7fPPEbj",
    "outputId": "17864cfd-dde8-48b2-f64b-44391c716e99"
   },
   "outputs": [
    {
     "data": {
      "text/plain": [
       "array(['00', '000', '00am', '00pm', '01', '011', '01109789013333', '02',\n",
       "       '022', '03', '04', '040', '044', '04509710889898', '0462', '05',\n",
       "       '06', '07', '072990888010416', '07299088801dhanalakshmi',\n",
       "       '07299088801yogam', '07401323339', '07401323339joelt', '08', '080',\n",
       "       '09', '09003116860', '09003116860gayathri', '09094040533',\n",
       "       '09094040533saranya', '09109840040143', '09702974147',\n",
       "       '09710889898', '097299088801', '09789004777', '09789004777dial',\n",
       "       '09789004777yogam', '09789013333', '09789013333porchelvi',\n",
       "       '09789949099', '09789949099janci', '09790229197', '09790922010',\n",
       "       '09790922010hema', '09840030179', '09840040143', '09840338044',\n",
       "       '09840338044manju', '09940111836', '099401118360427',\n",
       "       '09940111836buvana', '09952996611', '09952996611alphonsa',\n",
       "       '09994966186moham', '0px', '10', '100', '1000', '10000', '10001',\n",
       "       '1001', '107', '109789949099', '1099', '10am', '10g', '10k',\n",
       "       '10th', '10yearsexperi', '10yr', '10yrs', '11', '110', '111',\n",
       "       '11am', '11g', '11i', '11yearsexperi', '12', '120', '1200', '121',\n",
       "       '125', '12c', '12k', '12th', '12yearsexperi', '13', '130', '1380',\n",
       "       '13th', '13yearsexperi', '14', '140', '14001', '14yearsexperi',\n",
       "       '15', '150', '1500', '15000'], dtype=object)"
      ]
     },
     "execution_count": 24,
     "metadata": {},
     "output_type": "execute_result"
    }
   ],
   "source": [
    "vectorizer.get_feature_names_out()[:100]\n"
   ]
  },
  {
   "cell_type": "code",
   "execution_count": 25,
   "metadata": {
    "executionInfo": {
     "elapsed": 17,
     "status": "ok",
     "timestamp": 1743847693270,
     "user": {
      "displayName": "Bagamma gari Madhu",
      "userId": "07191871593266793183"
     },
     "user_tz": -330
    },
    "id": "jFu32QJPQet6"
   },
   "outputs": [],
   "source": [
    "from sklearn.metrics.pairwise import cosine_similarity\n"
   ]
  },
  {
   "cell_type": "code",
   "execution_count": 26,
   "metadata": {
    "colab": {
     "base_uri": "https://localhost:8080/"
    },
    "executionInfo": {
     "elapsed": 15,
     "status": "ok",
     "timestamp": 1743847693323,
     "user": {
      "displayName": "Bagamma gari Madhu",
      "userId": "07191871593266793183"
     },
     "user_tz": -330
    },
    "id": "XAIzTJJ6Q8Np",
    "outputId": "5a180749-2ee3-4fbf-b738-2f8eae0649ec"
   },
   "outputs": [
    {
     "data": {
      "text/plain": [
       "array([[0.75609448, 1.        , 0.2607885 , ..., 0.2401205 , 0.27743235,\n",
       "        0.31502638]])"
      ]
     },
     "execution_count": 26,
     "metadata": {},
     "output_type": "execute_result"
    }
   ],
   "source": [
    "jobs_similarities = cosine_similarity(vectors[1], vectors)\n",
    "jobs_similarities\n"
   ]
  },
  {
   "cell_type": "code",
   "execution_count": 36,
   "metadata": {
    "executionInfo": {
     "elapsed": 1,
     "status": "ok",
     "timestamp": 1743847693325,
     "user": {
      "displayName": "Bagamma gari Madhu",
      "userId": "07191871593266793183"
     },
     "user_tz": -330
    },
    "id": "M8dmu-QrRt5Y"
   },
   "outputs": [],
   "source": [
    "def recomend(job, k = 30):\n",
    "  index = jobs[jobs['jobtitle'] == job].index[0]\n",
    "  job_similarities = cosine_similarity(vectors[index], vectors)[0]\n",
    "\n",
    "  jobs_list = sorted(list(enumerate(job_similarities)), reverse=True, key=lambda x: x[1])[1:k + 1]\n",
    "  return [jobs.iloc[job[0]]['jobtitle'] for job in jobs_list]\n"
   ]
  },
  {
   "cell_type": "code",
   "execution_count": 37,
   "metadata": {},
   "outputs": [
    {
     "data": {
      "text/plain": [
       "jobtitle\n",
       "Strategic Sourcing Center-excellence Manager                              1\n",
       "Urgent Opening Executive Account - Tally                                  1\n",
       "Urgent Opening for Technical Specialist -network Integration-bangalore    1\n",
       "Linux and Vmware System Administrator (immediate Requirement)             1\n",
       "Developer Associate                                                       1\n",
       "Lotus Notes Developer                                                     2\n",
       "iOS Developer_mumbai (versova)                                            1\n",
       "Manager - Financial Institutions                                          1\n",
       "Front End/ui Developer - Javascript/angularjs                             1\n",
       "Urgent Requirement for Electrical Manager for Greater Noida               1\n",
       "Name: count, dtype: int64"
      ]
     },
     "execution_count": 37,
     "metadata": {},
     "output_type": "execute_result"
    }
   ],
   "source": [
    "jobs['jobtitle'].value_counts().sample(10)\n"
   ]
  },
  {
   "cell_type": "code",
   "execution_count": 38,
   "metadata": {
    "colab": {
     "base_uri": "https://localhost:8080/"
    },
    "executionInfo": {
     "elapsed": 10,
     "status": "ok",
     "timestamp": 1743847693338,
     "user": {
      "displayName": "Bagamma gari Madhu",
      "userId": "07191871593266793183"
     },
     "user_tz": -330
    },
    "id": "xHu9G91GSdUn",
    "outputId": "6c346d21-e934-4083-da07-891ce51fede2"
   },
   "outputs": [
    {
     "data": {
      "text/plain": [
       "['Software Engineer/sr Software Engineer - Backend - Ecommerce Domain',\n",
       " 'Web Developer - Javascript/html/css',\n",
       " 'Senior UI Developer - Angularjs/javascript',\n",
       " 'Java Script Developer',\n",
       " 'Full Stack Developer - Angularjs/javascript',\n",
       " 'Javascript / Front End Developer',\n",
       " 'Ui/front End Developer - Javascript/angularjs',\n",
       " 'WEB UI Developer',\n",
       " 'Specialist - Interactive Development | Noida / Gurgaon',\n",
       " 'Java Developer - Frontend for Gurgaon Location',\n",
       " 'Designer',\n",
       " 'UI/ Front End Developer - Javascript',\n",
       " 'Front- End Developer',\n",
       " 'Senior Software Developer',\n",
       " 'Senior Frontend Developers ( UI, Angularjs, Javascript, OOPS )',\n",
       " 'Project Manager',\n",
       " 'Front End Developer - Html/css/javascript',\n",
       " 'Odoo Developer(openerp) for Dwarka Location',\n",
       " 'MEAN Stack/front End Developer - Node.js/mongodb/angular.js',\n",
       " 'Javascript Developer - Html/css',\n",
       " 'Node.js Developer',\n",
       " 'J2EE Developer - Cloud',\n",
       " 'Team Lead - UI - Html/css/javascript',\n",
       " 'UI Developer/ Senior Developer - Html/ CSS/ Javascript',\n",
       " 'Senior UI Developer - Html/css/javascript',\n",
       " 'Finacle Developer and Tester',\n",
       " 'Web Application Developer',\n",
       " 'UI/UX .',\n",
       " 'Engineer',\n",
       " 'UI Developer - Html/css/javascript']"
      ]
     },
     "execution_count": 38,
     "metadata": {},
     "output_type": "execute_result"
    }
   ],
   "source": [
    "recomend('Front End/ui Developer - Javascript/angularjs')\n"
   ]
  },
  {
   "cell_type": "code",
   "execution_count": 40,
   "metadata": {
    "executionInfo": {
     "elapsed": 1,
     "status": "ok",
     "timestamp": 1743847693340,
     "user": {
      "displayName": "Bagamma gari Madhu",
      "userId": "07191871593266793183"
     },
     "user_tz": -330
    },
    "id": "TsFym-VES4eX"
   },
   "outputs": [],
   "source": [
    "import joblib\n"
   ]
  },
  {
   "cell_type": "code",
   "execution_count": 41,
   "metadata": {
    "colab": {
     "base_uri": "https://localhost:8080/"
    },
    "executionInfo": {
     "elapsed": 17,
     "status": "ok",
     "timestamp": 1743847693363,
     "user": {
      "displayName": "Bagamma gari Madhu",
      "userId": "07191871593266793183"
     },
     "user_tz": -330
    },
    "id": "KiGM7cewVN8E",
    "outputId": "7f8aae00-7f7d-4e0f-c2e9-921380124da3"
   },
   "outputs": [
    {
     "data": {
      "text/plain": [
       "['jobs_vectors.joblib']"
      ]
     },
     "execution_count": 41,
     "metadata": {},
     "output_type": "execute_result"
    }
   ],
   "source": [
    "joblib.dump(vectors, 'jobs_vectors.joblib')\n"
   ]
  },
  {
   "cell_type": "code",
   "execution_count": 42,
   "metadata": {
    "colab": {
     "base_uri": "https://localhost:8080/"
    },
    "executionInfo": {
     "elapsed": 33,
     "status": "ok",
     "timestamp": 1743848324326,
     "user": {
      "displayName": "Bagamma gari Madhu",
      "userId": "07191871593266793183"
     },
     "user_tz": -330
    },
    "id": "-VQuuMUQYQN5",
    "outputId": "96c44ca0-ddd4-4d8d-b524-ff382d332c1f"
   },
   "outputs": [
    {
     "data": {
      "text/plain": [
       "['jobs_title.joblib']"
      ]
     },
     "execution_count": 42,
     "metadata": {},
     "output_type": "execute_result"
    }
   ],
   "source": [
    "joblib.dump(jobs['jobtitle'].values, 'jobs_title.joblib')\n"
   ]
  },
  {
   "cell_type": "code",
   "execution_count": null,
   "metadata": {
    "id": "GSZnZYbFdbtc"
   },
   "outputs": [],
   "source": []
  }
 ],
 "metadata": {
  "colab": {
   "authorship_tag": "ABX9TyN5ZWawipV2gH4uh+CCaR9U",
   "mount_file_id": "1O4rkvDOi5AK9l2o2hxrLIz0sM95A5Emm",
   "provenance": []
  },
  "kernelspec": {
   "display_name": "base",
   "language": "python",
   "name": "python3"
  },
  "language_info": {
   "codemirror_mode": {
    "name": "ipython",
    "version": 3
   },
   "file_extension": ".py",
   "mimetype": "text/x-python",
   "name": "python",
   "nbconvert_exporter": "python",
   "pygments_lexer": "ipython3",
   "version": "3.12.7"
  }
 },
 "nbformat": 4,
 "nbformat_minor": 0
}
