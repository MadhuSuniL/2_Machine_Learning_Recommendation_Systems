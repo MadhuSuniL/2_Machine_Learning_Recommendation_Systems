{
 "cells": [
  {
   "cell_type": "markdown",
   "id": "a091bcb7",
   "metadata": {},
   "source": [
    "Project: 2 Job Recommendation System\n",
    "\n",
    "Problem Statement:\n",
    "Match users with relevant jobs based on their skills and resume."
   ]
  },
  {
   "cell_type": "code",
   "execution_count": 42,
   "id": "836e1bc2",
   "metadata": {},
   "outputs": [],
   "source": [
    "import os\n",
    "import ast\n",
    "import pandas as pd\n",
    "import numpy as np\n",
    "import matplotlib.pyplot as plt\n",
    "import seaborn as sns\n",
    "\n"
   ]
  },
  {
   "cell_type": "code",
   "execution_count": 43,
   "id": "0735c8fb",
   "metadata": {},
   "outputs": [],
   "source": [
    "os.chdir(os.getcwd().replace('notebooks', 'data'))\n",
    "\n",
    "df = pd.read_csv('data.csv')\n"
   ]
  },
  {
   "cell_type": "code",
   "execution_count": 44,
   "id": "89fecba9",
   "metadata": {},
   "outputs": [],
   "source": [
    "df.columns = df.columns.str.replace(' ', '_')\n"
   ]
  },
  {
   "cell_type": "code",
   "execution_count": 45,
   "id": "c479d752",
   "metadata": {},
   "outputs": [
    {
     "data": {
      "text/plain": [
       "Index(['company', 'education', 'experience', 'industry', 'jobdescription',\n",
       "       'jobid', 'joblocation_address', 'jobtitle', 'numberofpositions',\n",
       "       'payrate', 'postdate', 'site_name', 'skills', 'uniq_id'],\n",
       "      dtype='object')"
      ]
     },
     "execution_count": 45,
     "metadata": {},
     "output_type": "execute_result"
    }
   ],
   "source": [
    "df.columns\n"
   ]
  },
  {
   "cell_type": "markdown",
   "id": "1c445b9d",
   "metadata": {},
   "source": []
  },
  {
   "cell_type": "code",
   "execution_count": 46,
   "id": "31664227",
   "metadata": {},
   "outputs": [],
   "source": [
    "selected_columns = [\n",
    "    'education',\n",
    "    'experience',\n",
    "    'industry',\n",
    "    'jobdescription',\n",
    "    'joblocation_address',\n",
    "    'jobtitle',\n",
    "    'skills'\n",
    "]\n"
   ]
  },
  {
   "cell_type": "code",
   "execution_count": 47,
   "id": "11d426e3",
   "metadata": {},
   "outputs": [],
   "source": [
    "df = df[selected_columns]\n"
   ]
  },
  {
   "cell_type": "code",
   "execution_count": 48,
   "id": "3c3c5b78",
   "metadata": {},
   "outputs": [
    {
     "data": {
      "text/html": [
       "<div>\n",
       "<style scoped>\n",
       "    .dataframe tbody tr th:only-of-type {\n",
       "        vertical-align: middle;\n",
       "    }\n",
       "\n",
       "    .dataframe tbody tr th {\n",
       "        vertical-align: top;\n",
       "    }\n",
       "\n",
       "    .dataframe thead th {\n",
       "        text-align: right;\n",
       "    }\n",
       "</style>\n",
       "<table border=\"1\" class=\"dataframe\">\n",
       "  <thead>\n",
       "    <tr style=\"text-align: right;\">\n",
       "      <th></th>\n",
       "      <th>education</th>\n",
       "      <th>experience</th>\n",
       "      <th>industry</th>\n",
       "      <th>jobdescription</th>\n",
       "      <th>joblocation_address</th>\n",
       "      <th>jobtitle</th>\n",
       "      <th>skills</th>\n",
       "    </tr>\n",
       "  </thead>\n",
       "  <tbody>\n",
       "    <tr>\n",
       "      <th>20932</th>\n",
       "      <td>NaN</td>\n",
       "      <td>0 - 5 yrs</td>\n",
       "      <td>Internet / Ecommerce</td>\n",
       "      <td>Job Description   Send me Jobs like this Once ...</td>\n",
       "      <td>Mumbai, Chennai, Pune, Hyderabad, Bengaluru, D...</td>\n",
       "      <td>Freelance Sales Manager/ Channel Partner for E...</td>\n",
       "      <td>Sales</td>\n",
       "    </tr>\n",
       "    <tr>\n",
       "      <th>7451</th>\n",
       "      <td>UG: Any Graduate - Any Specialization PG:Any P...</td>\n",
       "      <td>7 - 10 yrs</td>\n",
       "      <td>Banking / Financial Services / Broking</td>\n",
       "      <td>Job Description   Send me Jobs like this Quali...</td>\n",
       "      <td>Delhi/NCR(National Capital Region)</td>\n",
       "      <td>Manager - Collection - NBFC</td>\n",
       "      <td>Financial Services</td>\n",
       "    </tr>\n",
       "    <tr>\n",
       "      <th>945</th>\n",
       "      <td>NaN</td>\n",
       "      <td>1 - 4 yrs</td>\n",
       "      <td>Recruitment / Staffing</td>\n",
       "      <td>Job Description   Send me Jobs like this Dutie...</td>\n",
       "      <td>Bengaluru</td>\n",
       "      <td>Hiring for IT Sourcer for Bangalore Location.</td>\n",
       "      <td>HR</td>\n",
       "    </tr>\n",
       "    <tr>\n",
       "      <th>15514</th>\n",
       "      <td>UG: Any Graduate - Any Specialization PG:Any P...</td>\n",
       "      <td>11 - 16 yrs</td>\n",
       "      <td>Internet / Ecommerce</td>\n",
       "      <td>Job Description   Send me Jobs like this Must ...</td>\n",
       "      <td>Gurgaon , Bengaluru/Bangalore</td>\n",
       "      <td>Oracle Commerce ( Atg)- Manager</td>\n",
       "      <td>IT Software - eCommerce</td>\n",
       "    </tr>\n",
       "    <tr>\n",
       "      <th>20328</th>\n",
       "      <td>UG: Any Graduate - Any Specialization</td>\n",
       "      <td>0 - 5 yrs</td>\n",
       "      <td>Strategy / Management Consulting Firms</td>\n",
       "      <td>Job Description   Send me Jobs like this This ...</td>\n",
       "      <td>Hyderabad</td>\n",
       "      <td>Hiring Recruiting Executive - Freshers Welcome</td>\n",
       "      <td>HR</td>\n",
       "    </tr>\n",
       "  </tbody>\n",
       "</table>\n",
       "</div>"
      ],
      "text/plain": [
       "                                               education   experience  \\\n",
       "20932                                                NaN    0 - 5 yrs   \n",
       "7451   UG: Any Graduate - Any Specialization PG:Any P...   7 - 10 yrs   \n",
       "945                                                  NaN    1 - 4 yrs   \n",
       "15514  UG: Any Graduate - Any Specialization PG:Any P...  11 - 16 yrs   \n",
       "20328              UG: Any Graduate - Any Specialization    0 - 5 yrs   \n",
       "\n",
       "                                     industry  \\\n",
       "20932                    Internet / Ecommerce   \n",
       "7451   Banking / Financial Services / Broking   \n",
       "945                    Recruitment / Staffing   \n",
       "15514                    Internet / Ecommerce   \n",
       "20328  Strategy / Management Consulting Firms   \n",
       "\n",
       "                                          jobdescription  \\\n",
       "20932  Job Description   Send me Jobs like this Once ...   \n",
       "7451   Job Description   Send me Jobs like this Quali...   \n",
       "945    Job Description   Send me Jobs like this Dutie...   \n",
       "15514  Job Description   Send me Jobs like this Must ...   \n",
       "20328  Job Description   Send me Jobs like this This ...   \n",
       "\n",
       "                                     joblocation_address  \\\n",
       "20932  Mumbai, Chennai, Pune, Hyderabad, Bengaluru, D...   \n",
       "7451                  Delhi/NCR(National Capital Region)   \n",
       "945                                            Bengaluru   \n",
       "15514                      Gurgaon , Bengaluru/Bangalore   \n",
       "20328                                          Hyderabad   \n",
       "\n",
       "                                                jobtitle  \\\n",
       "20932  Freelance Sales Manager/ Channel Partner for E...   \n",
       "7451                         Manager - Collection - NBFC   \n",
       "945        Hiring for IT Sourcer for Bangalore Location.   \n",
       "15514                    Oracle Commerce ( Atg)- Manager   \n",
       "20328     Hiring Recruiting Executive - Freshers Welcome   \n",
       "\n",
       "                        skills  \n",
       "20932                    Sales  \n",
       "7451        Financial Services  \n",
       "945                         HR  \n",
       "15514  IT Software - eCommerce  \n",
       "20328                       HR  "
      ]
     },
     "execution_count": 48,
     "metadata": {},
     "output_type": "execute_result"
    }
   ],
   "source": [
    "df.sample(5)\n"
   ]
  },
  {
   "cell_type": "code",
   "execution_count": 49,
   "id": "8c815f41",
   "metadata": {},
   "outputs": [
    {
     "data": {
      "text/plain": [
       "(22000, 7)"
      ]
     },
     "execution_count": 49,
     "metadata": {},
     "output_type": "execute_result"
    }
   ],
   "source": [
    "df.shape\n"
   ]
  },
  {
   "cell_type": "code",
   "execution_count": 50,
   "id": "6006c20d",
   "metadata": {},
   "outputs": [
    {
     "data": {
      "text/plain": [
       "education              1996\n",
       "experience                4\n",
       "industry                  5\n",
       "jobdescription            4\n",
       "joblocation_address     501\n",
       "jobtitle                  0\n",
       "skills                  528\n",
       "dtype: int64"
      ]
     },
     "execution_count": 50,
     "metadata": {},
     "output_type": "execute_result"
    }
   ],
   "source": [
    "df.isna().sum()\n"
   ]
  },
  {
   "cell_type": "code",
   "execution_count": 51,
   "id": "ca971fbe",
   "metadata": {},
   "outputs": [],
   "source": [
    "df.dropna(inplace=True)\n"
   ]
  },
  {
   "cell_type": "code",
   "execution_count": 52,
   "id": "af375406",
   "metadata": {},
   "outputs": [
    {
     "data": {
      "text/plain": [
       "(19077, 7)"
      ]
     },
     "execution_count": 52,
     "metadata": {},
     "output_type": "execute_result"
    }
   ],
   "source": [
    "df.shape\n"
   ]
  },
  {
   "cell_type": "code",
   "execution_count": 53,
   "id": "77458851",
   "metadata": {},
   "outputs": [
    {
     "data": {
      "text/plain": [
       "array(['UG: B.Tech/B.E. - Any Specialization PG:Any Postgraduate - Any Specialization, Post Graduation Not Required',\n",
       "       'UG: B.Tech/B.E. - Any Specialization PG:MBA/PGDM - Any Specialization',\n",
       "       'UG: Any Graduate - Any Specialization PG:Any Postgraduate Doctorate:Doctorate Not Required',\n",
       "       ..., 'PG:MS/M.Sc(Science) - Any Specialization, Statistics',\n",
       "       'UG: B.Tech/B.E. - Any Specialization PG:MCA - Computers, M.Tech - Any Specialization, MS/M.Sc(Science) - Any Specialization Doctorate:Doctorate Not Required',\n",
       "       'UG: B.Tech/B.E. - Computers PG:MS/M.Sc(Science) - Computers Doctorate:Doctorate Not Required'],\n",
       "      dtype=object)"
      ]
     },
     "execution_count": 53,
     "metadata": {},
     "output_type": "execute_result"
    }
   ],
   "source": [
    "df['education'].unique()\n"
   ]
  },
  {
   "cell_type": "code",
   "execution_count": 54,
   "id": "26ddf8a4",
   "metadata": {},
   "outputs": [
    {
     "data": {
      "text/plain": [
       "2265"
      ]
     },
     "execution_count": 54,
     "metadata": {},
     "output_type": "execute_result"
    }
   ],
   "source": [
    "df['education'].nunique()\n"
   ]
  },
  {
   "cell_type": "code",
   "execution_count": 55,
   "id": "d7d8b019",
   "metadata": {},
   "outputs": [],
   "source": [
    "df['education'] = df['education'].apply(lambda x: [c.replace(' ', '') for c in x.split(', ')])\n"
   ]
  },
  {
   "cell_type": "code",
   "execution_count": 56,
   "id": "0d5c8cd6",
   "metadata": {},
   "outputs": [
    {
     "data": {
      "text/plain": [
       "array(['0 - 1 yrs', '0 - 0 yrs', '4 - 8 yrs', '11 - 15 yrs', '6 - 8 yrs',\n",
       "       '2 - 5 yrs', '2 - 7 yrs', '1 - 3 yrs', '1 - 5 yrs', '2 - 4 yrs',\n",
       "       '3 - 8 yrs', '5 - 7 yrs', '5 - 10 yrs', '6 - 10 yrs',\n",
       "       '10 - 12 yrs', '4 - 6 yrs', '1 - 6 yrs', '3 - 6 yrs', '3 - 7 yrs',\n",
       "       '4 - 9 yrs', '3 - 5 yrs', '5 - 8 yrs', '9 - 12 yrs', '7 - 12 yrs',\n",
       "       '10 - 15 yrs', '8 - 12 yrs', '10 - 16 yrs', '5 - 9 yrs',\n",
       "       '0 - 5 yrs', '10 - 20 yrs', '0 - 4 yrs', '10 - 18 yrs',\n",
       "       '0 - 2 yrs', '6 - 11 yrs', '2 - 3 yrs', '1 - 4 yrs', '7 - 9 yrs',\n",
       "       '2 - 6 yrs', '1 - 2 yrs', '8 - 10 yrs', '0 - 3 yrs', '4 - 7 yrs',\n",
       "       '7 - 10 yrs', '15 - 20 yrs', '8 - 13 yrs', '1 - 1 yrs',\n",
       "       '3 - 4 yrs', '9 - 14 yrs', '6 - 9 yrs', '13 - 15 yrs',\n",
       "       '15 - 25 yrs', '14 - 22 yrs', '4 - 5 yrs', '7 - 11 yrs',\n",
       "       '16 - 24 yrs', '12 - 15 yrs', '7 - 8 yrs', '5 - 6 yrs',\n",
       "       '20 - 25 yrs', '10 - 13 yrs', '12 - 18 yrs', '6 - 7 yrs',\n",
       "       '10 - 14 yrs', '12 - 20 yrs', '15 - 17 yrs', '20 - 30 yrs',\n",
       "       '15 - 21 yrs', '8 - 9 yrs', '9 - 13 yrs', '14 - 18 yrs',\n",
       "       '15 - 22 yrs', '14 - 19 yrs', '8 - 11 yrs', '13 - 19 yrs',\n",
       "       '11 - 16 yrs', '15 - 16 yrs', '14 - 20 yrs', '11 - 12 yrs',\n",
       "       '1 - 8 yrs', '9 - 11 yrs', '15 - 18 yrs', '4 - 10 yrs',\n",
       "       '10 - 11 yrs', '12 - 22 yrs', '7 - 16 yrs', '16 - 18 yrs',\n",
       "       '13 - 17 yrs', '13 - 20 yrs', '5 - 5 yrs', '1 - 10 yrs',\n",
       "       '12 - 14 yrs', '5 - 15 yrs', '11 - 17 yrs', '16 - 20 yrs',\n",
       "       '13 - 23 yrs', '10 - 17 yrs', '3 - 3 yrs', '18 - 20 yrs',\n",
       "       '23 - 30 yrs', '14 - 24 yrs', '18 - 28 yrs', '11 - 21 yrs',\n",
       "       '15 - 19 yrs', '12 - 16 yrs', 'Not Mentioned', '18 - 22 yrs',\n",
       "       '6 - 12 yrs', '14 - 17 yrs', '12 - 17 yrs', '13 - 18 yrs',\n",
       "       '25 - 30 yrs', '11 - 14 yrs', '2 - 8 yrs', '2 - 10 yrs',\n",
       "       '4 - 11 yrs', '11 - 13 yrs', '14 - 16 yrs', '2 - 2 yrs',\n",
       "       '10 - 19 yrs', '13 - 16 yrs', '7 - 7 yrs', '9 - 10 yrs',\n",
       "       '11 - 20 yrs', '12 - 13 yrs', '15 - 24 yrs', '10 - 10 yrs',\n",
       "       '26 - 30 yrs', '7 - 14 yrs', '11 - 19 yrs', '16 - 25 yrs',\n",
       "       '11 - 18 yrs', '18 - 25 yrs', '18 - 21 yrs', '18 - 23 yrs',\n",
       "       '20 - 24 yrs', '20 - 23 yrs', '3 - 10 yrs', '14 - 15 yrs',\n",
       "       '17 - 27 yrs', '12 - 19 yrs', '16 - 26 yrs', '17 - 25 yrs',\n",
       "       '13 - 22 yrs'], dtype=object)"
      ]
     },
     "execution_count": 56,
     "metadata": {},
     "output_type": "execute_result"
    }
   ],
   "source": [
    "df['experience'].unique()\n"
   ]
  },
  {
   "cell_type": "code",
   "execution_count": 57,
   "id": "cb7e771e",
   "metadata": {},
   "outputs": [],
   "source": [
    "def convert_experience(experience : str):\n",
    "    if 'yrs' in experience:\n",
    "        splited_experience = experience.split(' ')\n",
    "        from_range, to_range = int(splited_experience[0]), int(splited_experience[2])\n",
    "        experiences = []\n",
    "        for i in range(from_range, to_range+1):\n",
    "\n",
    "            if i == 0:\n",
    "                experiences.append(f'Fresher')\n",
    "            elif i == 1:\n",
    "                experiences.append(f'{i}YearExperience')\n",
    "            else:\n",
    "                experiences.append(f'{i}YearsExperience')\n",
    "    else:\n",
    "        experiences = ['Fresher']\n",
    "    \n",
    "    return experiences\n"
   ]
  },
  {
   "cell_type": "code",
   "execution_count": 58,
   "id": "c96e3786",
   "metadata": {},
   "outputs": [
    {
     "data": {
      "text/plain": [
       "['3YearsExperience',\n",
       " '4YearsExperience',\n",
       " '5YearsExperience',\n",
       " '6YearsExperience',\n",
       " '7YearsExperience']"
      ]
     },
     "execution_count": 58,
     "metadata": {},
     "output_type": "execute_result"
    }
   ],
   "source": [
    "convert_experience(df['experience'][30])\n"
   ]
  },
  {
   "cell_type": "code",
   "execution_count": 59,
   "id": "6a2dc617",
   "metadata": {},
   "outputs": [],
   "source": [
    "df['experience'] = df['experience'].apply(convert_experience)\n"
   ]
  },
  {
   "cell_type": "code",
   "execution_count": 60,
   "id": "580d2555",
   "metadata": {},
   "outputs": [
    {
     "data": {
      "text/plain": [
       "array(['Media / Entertainment / Internet',\n",
       "       'Advertising / PR / MR / Event Management',\n",
       "       'IT-Software / Software Services',\n",
       "       'Banking / Financial Services / Broking',\n",
       "       'Aviation / Aerospace Firms',\n",
       "       'Industrial Products / Heavy Machinery', 'FMCG / Foods / Beverage',\n",
       "       'Recruitment / Staffing', 'Internet / Ecommerce',\n",
       "       'Travel / Hotels / Restaurants / Airlines / Railways',\n",
       "       'BPO / Call Centre / ITES', 'Pharma / Biotech / Clinical Research',\n",
       "       'Real Estate / Property', 'Insurance', 'Publishing',\n",
       "       'Retail / Wholesale',\n",
       "       'Automobile / Auto Anciliary / Auto Components',\n",
       "       'Government / Defence', 'Accounting / Finance',\n",
       "       'Textiles / Garments / Accessories',\n",
       "       'Semiconductors / Electronics', 'Medical / Healthcare / Hospitals',\n",
       "       'Education / Teaching / Training', 'Legal',\n",
       "       'Courier / Transportation / Freight / Warehousing', 'Telecom/ISP',\n",
       "       'NGO / Social Services / Regulators / Industry Associations',\n",
       "       'KPO / Research / Analytics',\n",
       "       'Construction / Engineering / Cement / Metals',\n",
       "       'Office Equipment / Automation',\n",
       "       'Consumer Electronics / Appliances / Durables', 'Iron and Steel',\n",
       "       'Architecture / Interior Design',\n",
       "       'Strategy / Management Consulting Firms', 'Other',\n",
       "       'Oil and Gas / Energy / Power / Infrastructure',\n",
       "       'IT-Hardware & Networking',\n",
       "       'Chemicals / PetroChemical / Plastic / Rubber',\n",
       "       'Wellness / Fitness / Sports / Beauty', 'Agriculture / Dairy',\n",
       "       'Electricals / Switchgears', 'Security / Law Enforcement',\n",
       "       'Gems / Jewellery', 'Ceramics / Sanitary ware',\n",
       "       'Fresher / Trainee / Entry Level', 'Food Processing',\n",
       "       'Printing / Packaging', 'Brewery / Distillery', 'Telecom/ISP /',\n",
       "       'Export / Import', 'Heat Ventilation / Air Conditioning',\n",
       "       'Wellness / Fitness / Sports', 'Facility Management',\n",
       "       'Water Treatment / Waste Management', 'Shipping / Marine',\n",
       "       'Glass / Glassware', 'Animation / Gaming',\n",
       "       'Fertilizers / Pesticides', 'Pulp and Paper', 'Tyres', 'Leather',\n",
       "       'Broadcasting', 'Medical Devices / Equipments'], dtype=object)"
      ]
     },
     "execution_count": 60,
     "metadata": {},
     "output_type": "execute_result"
    }
   ],
   "source": [
    "df['industry'].unique()\n"
   ]
  },
  {
   "cell_type": "code",
   "execution_count": 61,
   "id": "3fd73c48",
   "metadata": {},
   "outputs": [],
   "source": [
    "df['industry'] = df['industry'].apply(lambda x: [ i.replace(' ', '') for i in x.split('/')])\n"
   ]
  },
  {
   "cell_type": "code",
   "execution_count": 62,
   "id": "b4f0d338",
   "metadata": {},
   "outputs": [],
   "source": [
    "df['jobdescription'] = df['jobdescription'].apply(lambda x: x.split(' '))\n"
   ]
  },
  {
   "cell_type": "code",
   "execution_count": 63,
   "id": "39caea55",
   "metadata": {},
   "outputs": [],
   "source": [
    "df['joblocation_address'] = df['joblocation_address'].apply(lambda x: [ i.replace(' ', '') for i in x.split('/')])\n"
   ]
  },
  {
   "cell_type": "code",
   "execution_count": 64,
   "id": "3c4600ac",
   "metadata": {},
   "outputs": [
    {
     "data": {
      "text/plain": [
       "array(['ITES', 'Marketing', 'IT Software - Application Programming',\n",
       "       'Accounts', 'Production', 'Sales', 'IT Software - Other',\n",
       "       'IT Software - Mobile', 'Engineering Design', 'Financial Services',\n",
       "       'Hotels', 'IT Software - QA & Testing', 'HR', 'Supply Chain',\n",
       "       'IT Software - Network Administration', 'Architecture', 'Legal',\n",
       "       'Journalism', 'IT Software - DBA', 'Strategy', 'Design',\n",
       "       'Defence Forces', 'IT Software - Mainframe',\n",
       "       'IT Software - Embedded', 'IT Software - Middleware', 'Teaching',\n",
       "       'Medical', 'IT Software - System Programming',\n",
       "       'IT Software - Client/Server Programming', 'Site Engineering',\n",
       "       'IT Software - eCommerce', 'IT Software - Telecom Software',\n",
       "       'Fashion Designing', 'IT Hardware', 'IT Software - ERP',\n",
       "       'Analytics & Business Intelligence', 'Executive Assistant', 'TV',\n",
       "       'Top Management', 'Travel', 'Export', 'IT Software - Systems',\n",
       "       'Packaging', 'Shipping', 'Beauty/Fitness/Spa Services'],\n",
       "      dtype=object)"
      ]
     },
     "execution_count": 64,
     "metadata": {},
     "output_type": "execute_result"
    }
   ],
   "source": [
    "df['skills'].unique()\n"
   ]
  },
  {
   "cell_type": "code",
   "execution_count": 65,
   "id": "3effeb53",
   "metadata": {},
   "outputs": [],
   "source": [
    "df['skills'] = df['skills'].apply(lambda x: [x.replace(' ', '')])\n"
   ]
  },
  {
   "cell_type": "code",
   "execution_count": 66,
   "id": "c30907e2",
   "metadata": {},
   "outputs": [
    {
     "data": {
      "text/html": [
       "<div>\n",
       "<style scoped>\n",
       "    .dataframe tbody tr th:only-of-type {\n",
       "        vertical-align: middle;\n",
       "    }\n",
       "\n",
       "    .dataframe tbody tr th {\n",
       "        vertical-align: top;\n",
       "    }\n",
       "\n",
       "    .dataframe thead th {\n",
       "        text-align: right;\n",
       "    }\n",
       "</style>\n",
       "<table border=\"1\" class=\"dataframe\">\n",
       "  <thead>\n",
       "    <tr style=\"text-align: right;\">\n",
       "      <th></th>\n",
       "      <th>education</th>\n",
       "      <th>experience</th>\n",
       "      <th>industry</th>\n",
       "      <th>jobdescription</th>\n",
       "      <th>joblocation_address</th>\n",
       "      <th>jobtitle</th>\n",
       "      <th>skills</th>\n",
       "    </tr>\n",
       "  </thead>\n",
       "  <tbody>\n",
       "    <tr>\n",
       "      <th>13765</th>\n",
       "      <td>[UG:AnyGraduatePG:MBA/PGDM]</td>\n",
       "      <td>[10YearsExperience, 11YearsExperience, 12Years...</td>\n",
       "      <td>[Medical, Healthcare, Hospitals]</td>\n",
       "      <td>[Job, Description,  , Send, me, Jobs, like, th...</td>\n",
       "      <td>[Mumbai,maharashtra]</td>\n",
       "      <td>Head Sales MND</td>\n",
       "      <td>[Sales]</td>\n",
       "    </tr>\n",
       "    <tr>\n",
       "      <th>14126</th>\n",
       "      <td>[UG:B.Tech/B.E.PG:PostGraduationNotRequiredDoc...</td>\n",
       "      <td>[3YearsExperience, 4YearsExperience, 5YearsExp...</td>\n",
       "      <td>[IT-Software, SoftwareServices]</td>\n",
       "      <td>[Job, Description,  , Send, me, Jobs, like, th...</td>\n",
       "      <td>[Gurgaon]</td>\n",
       "      <td>SME</td>\n",
       "      <td>[ITSoftware-ApplicationProgramming]</td>\n",
       "    </tr>\n",
       "    <tr>\n",
       "      <th>15412</th>\n",
       "      <td>[UG:AnyGraduate-AnySpecializationPG:M.Tech-Any...</td>\n",
       "      <td>[3YearsExperience, 4YearsExperience, 5YearsExp...</td>\n",
       "      <td>[Automobile, AutoAnciliary, AutoComponents]</td>\n",
       "      <td>[Job, Description,  , Send, me, Jobs, like, th...</td>\n",
       "      <td>[Bengaluru, Bangalore]</td>\n",
       "      <td>Diagnostic Verification Engineer</td>\n",
       "      <td>[EngineeringDesign]</td>\n",
       "    </tr>\n",
       "    <tr>\n",
       "      <th>20119</th>\n",
       "      <td>[UG:AnyGraduatePG:PostGraduationNotRequiredDoc...</td>\n",
       "      <td>[2YearsExperience, 3YearsExperience, 4YearsExp...</td>\n",
       "      <td>[Textiles, Garments, Accessories]</td>\n",
       "      <td>[Job, Description,  , Send, me, Jobs, like, th...</td>\n",
       "      <td>[Delhi,Delhi]</td>\n",
       "      <td>merchandiser</td>\n",
       "      <td>[FashionDesigning]</td>\n",
       "    </tr>\n",
       "    <tr>\n",
       "      <th>2653</th>\n",
       "      <td>[UG:B.Tech/B.E.PG:PostGraduationNotRequiredDoc...</td>\n",
       "      <td>[2YearsExperience, 3YearsExperience, 4YearsExp...</td>\n",
       "      <td>[IT-Software, SoftwareServices]</td>\n",
       "      <td>[Job, Description,  , Send, me, Jobs, like, th...</td>\n",
       "      <td>[Hyderabad, Secunderabad,Hyderabad, Secunderabad]</td>\n",
       "      <td>Android Developer</td>\n",
       "      <td>[ITSoftware-ApplicationProgramming]</td>\n",
       "    </tr>\n",
       "    <tr>\n",
       "      <th>10219</th>\n",
       "      <td>[UG:AnyGraduate-AnySpecializationPG:AnyPostgra...</td>\n",
       "      <td>[2YearsExperience, 3YearsExperience, 4YearsExp...</td>\n",
       "      <td>[NGO, SocialServices, Regulators, IndustryAsso...</td>\n",
       "      <td>[Job, Description,  , Send, me, Jobs, like, th...</td>\n",
       "      <td>[Faridabad,Bengaluru, Bangalore]</td>\n",
       "      <td>Sr. Fund Raising Executive Donor Services (70%...</td>\n",
       "      <td>[Marketing]</td>\n",
       "    </tr>\n",
       "    <tr>\n",
       "      <th>20303</th>\n",
       "      <td>[UG:AnyGraduate-AnySpecializationPG:MBA/PGDM-A...</td>\n",
       "      <td>[Fresher, 1YearExperience, 2YearsExperience]</td>\n",
       "      <td>[BPO, CallCentre, ITES]</td>\n",
       "      <td>[Job, Description,  , Send, me, Jobs, like, th...</td>\n",
       "      <td>[Hyderabad]</td>\n",
       "      <td>Hiring for Voice&amp; Accent Trainer in Hyderabad</td>\n",
       "      <td>[ITES]</td>\n",
       "    </tr>\n",
       "    <tr>\n",
       "      <th>11330</th>\n",
       "      <td>[UG:B.Tech/B.E.PG:PostGraduationNotRequiredDoc...</td>\n",
       "      <td>[3YearsExperience, 4YearsExperience, 5YearsExp...</td>\n",
       "      <td>[Telecom, ISP, ]</td>\n",
       "      <td>[Job, Description,  , Send, me, Jobs, like, th...</td>\n",
       "      <td>[Bengaluru, Bangalore,karnataka]</td>\n",
       "      <td>Analyst - Data Enablement</td>\n",
       "      <td>[ITSoftware-DBA]</td>\n",
       "    </tr>\n",
       "    <tr>\n",
       "      <th>4342</th>\n",
       "      <td>[UG:AnyGraduate-AnySpecialization, GraduationN...</td>\n",
       "      <td>[Fresher, 1YearExperience, 2YearsExperience, 3...</td>\n",
       "      <td>[Automobile, AutoAnciliary, AutoComponents]</td>\n",
       "      <td>[Job, Description,  , Send, me, Jobs, like, th...</td>\n",
       "      <td>[Bengaluru, Bangalore,Chennai,Hyderabad, Secun...</td>\n",
       "      <td>E - Test Engineer</td>\n",
       "      <td>[EngineeringDesign]</td>\n",
       "    </tr>\n",
       "    <tr>\n",
       "      <th>3134</th>\n",
       "      <td>[UG:B.Tech/B.E.PG:PostGraduationNotRequiredDoc...</td>\n",
       "      <td>[2YearsExperience, 3YearsExperience, 4YearsExp...</td>\n",
       "      <td>[IT-Software, SoftwareServices]</td>\n",
       "      <td>[Job, Description,  , Send, me, Jobs, like, th...</td>\n",
       "      <td>[Guntur,Hyderabad, Secunderabad]</td>\n",
       "      <td>Programmer Analysts</td>\n",
       "      <td>[ITSoftware-ApplicationProgramming]</td>\n",
       "    </tr>\n",
       "  </tbody>\n",
       "</table>\n",
       "</div>"
      ],
      "text/plain": [
       "                                               education  \\\n",
       "13765                        [UG:AnyGraduatePG:MBA/PGDM]   \n",
       "14126  [UG:B.Tech/B.E.PG:PostGraduationNotRequiredDoc...   \n",
       "15412  [UG:AnyGraduate-AnySpecializationPG:M.Tech-Any...   \n",
       "20119  [UG:AnyGraduatePG:PostGraduationNotRequiredDoc...   \n",
       "2653   [UG:B.Tech/B.E.PG:PostGraduationNotRequiredDoc...   \n",
       "10219  [UG:AnyGraduate-AnySpecializationPG:AnyPostgra...   \n",
       "20303  [UG:AnyGraduate-AnySpecializationPG:MBA/PGDM-A...   \n",
       "11330  [UG:B.Tech/B.E.PG:PostGraduationNotRequiredDoc...   \n",
       "4342   [UG:AnyGraduate-AnySpecialization, GraduationN...   \n",
       "3134   [UG:B.Tech/B.E.PG:PostGraduationNotRequiredDoc...   \n",
       "\n",
       "                                              experience  \\\n",
       "13765  [10YearsExperience, 11YearsExperience, 12Years...   \n",
       "14126  [3YearsExperience, 4YearsExperience, 5YearsExp...   \n",
       "15412  [3YearsExperience, 4YearsExperience, 5YearsExp...   \n",
       "20119  [2YearsExperience, 3YearsExperience, 4YearsExp...   \n",
       "2653   [2YearsExperience, 3YearsExperience, 4YearsExp...   \n",
       "10219  [2YearsExperience, 3YearsExperience, 4YearsExp...   \n",
       "20303       [Fresher, 1YearExperience, 2YearsExperience]   \n",
       "11330  [3YearsExperience, 4YearsExperience, 5YearsExp...   \n",
       "4342   [Fresher, 1YearExperience, 2YearsExperience, 3...   \n",
       "3134   [2YearsExperience, 3YearsExperience, 4YearsExp...   \n",
       "\n",
       "                                                industry  \\\n",
       "13765                   [Medical, Healthcare, Hospitals]   \n",
       "14126                    [IT-Software, SoftwareServices]   \n",
       "15412        [Automobile, AutoAnciliary, AutoComponents]   \n",
       "20119                  [Textiles, Garments, Accessories]   \n",
       "2653                     [IT-Software, SoftwareServices]   \n",
       "10219  [NGO, SocialServices, Regulators, IndustryAsso...   \n",
       "20303                            [BPO, CallCentre, ITES]   \n",
       "11330                                   [Telecom, ISP, ]   \n",
       "4342         [Automobile, AutoAnciliary, AutoComponents]   \n",
       "3134                     [IT-Software, SoftwareServices]   \n",
       "\n",
       "                                          jobdescription  \\\n",
       "13765  [Job, Description,  , Send, me, Jobs, like, th...   \n",
       "14126  [Job, Description,  , Send, me, Jobs, like, th...   \n",
       "15412  [Job, Description,  , Send, me, Jobs, like, th...   \n",
       "20119  [Job, Description,  , Send, me, Jobs, like, th...   \n",
       "2653   [Job, Description,  , Send, me, Jobs, like, th...   \n",
       "10219  [Job, Description,  , Send, me, Jobs, like, th...   \n",
       "20303  [Job, Description,  , Send, me, Jobs, like, th...   \n",
       "11330  [Job, Description,  , Send, me, Jobs, like, th...   \n",
       "4342   [Job, Description,  , Send, me, Jobs, like, th...   \n",
       "3134   [Job, Description,  , Send, me, Jobs, like, th...   \n",
       "\n",
       "                                     joblocation_address  \\\n",
       "13765                               [Mumbai,maharashtra]   \n",
       "14126                                          [Gurgaon]   \n",
       "15412                             [Bengaluru, Bangalore]   \n",
       "20119                                      [Delhi,Delhi]   \n",
       "2653   [Hyderabad, Secunderabad,Hyderabad, Secunderabad]   \n",
       "10219                   [Faridabad,Bengaluru, Bangalore]   \n",
       "20303                                        [Hyderabad]   \n",
       "11330                   [Bengaluru, Bangalore,karnataka]   \n",
       "4342   [Bengaluru, Bangalore,Chennai,Hyderabad, Secun...   \n",
       "3134                    [Guntur,Hyderabad, Secunderabad]   \n",
       "\n",
       "                                                jobtitle  \\\n",
       "13765                                     Head Sales MND   \n",
       "14126                                                SME   \n",
       "15412                   Diagnostic Verification Engineer   \n",
       "20119                                       merchandiser   \n",
       "2653                                   Android Developer   \n",
       "10219  Sr. Fund Raising Executive Donor Services (70%...   \n",
       "20303      Hiring for Voice& Accent Trainer in Hyderabad   \n",
       "11330                          Analyst - Data Enablement   \n",
       "4342                                   E - Test Engineer   \n",
       "3134                                 Programmer Analysts   \n",
       "\n",
       "                                    skills  \n",
       "13765                              [Sales]  \n",
       "14126  [ITSoftware-ApplicationProgramming]  \n",
       "15412                  [EngineeringDesign]  \n",
       "20119                   [FashionDesigning]  \n",
       "2653   [ITSoftware-ApplicationProgramming]  \n",
       "10219                          [Marketing]  \n",
       "20303                               [ITES]  \n",
       "11330                     [ITSoftware-DBA]  \n",
       "4342                   [EngineeringDesign]  \n",
       "3134   [ITSoftware-ApplicationProgramming]  "
      ]
     },
     "execution_count": 66,
     "metadata": {},
     "output_type": "execute_result"
    }
   ],
   "source": [
    "df.sample(10)\n"
   ]
  },
  {
   "cell_type": "code",
   "execution_count": 68,
   "id": "5b406276",
   "metadata": {},
   "outputs": [],
   "source": [
    "df['tags'] = df['education'] + df['experience'] + df['skills'] + df['jobdescription'] + df['industry'] + df['joblocation_address']\n",
    " "
   ]
  },
  {
   "cell_type": "code",
   "execution_count": 70,
   "id": "e2c727c4",
   "metadata": {},
   "outputs": [],
   "source": [
    "df = df[['jobtitle', 'tags']]\n"
   ]
  },
  {
   "cell_type": "code",
   "execution_count": 71,
   "id": "b12627d9",
   "metadata": {},
   "outputs": [
    {
     "data": {
      "text/html": [
       "<div>\n",
       "<style scoped>\n",
       "    .dataframe tbody tr th:only-of-type {\n",
       "        vertical-align: middle;\n",
       "    }\n",
       "\n",
       "    .dataframe tbody tr th {\n",
       "        vertical-align: top;\n",
       "    }\n",
       "\n",
       "    .dataframe thead th {\n",
       "        text-align: right;\n",
       "    }\n",
       "</style>\n",
       "<table border=\"1\" class=\"dataframe\">\n",
       "  <thead>\n",
       "    <tr style=\"text-align: right;\">\n",
       "      <th></th>\n",
       "      <th>jobtitle</th>\n",
       "      <th>tags</th>\n",
       "    </tr>\n",
       "  </thead>\n",
       "  <tbody>\n",
       "    <tr>\n",
       "      <th>8549</th>\n",
       "      <td>Content Strategist - Startup</td>\n",
       "      <td>[UG:AnyGraduate-AnySpecializationPG:AnyPostgra...</td>\n",
       "    </tr>\n",
       "    <tr>\n",
       "      <th>11321</th>\n",
       "      <td>Medical Coding JOBS - North, EAST OR WEST Lead...</td>\n",
       "      <td>[UG:BDS-Dentistry, B.Pharma-Pharmacy, B.Sc-Bio...</td>\n",
       "    </tr>\n",
       "    <tr>\n",
       "      <th>5656</th>\n",
       "      <td>Limited Vacancy for Aegis Ecommerce for Voice ...</td>\n",
       "      <td>[UG:AnyGraduate-AnySpecializationPG:AnyPostgra...</td>\n",
       "    </tr>\n",
       "    <tr>\n",
       "      <th>3100</th>\n",
       "      <td>MT - Finance CA</td>\n",
       "      <td>[UG:AnyGraduate-AnySpecializationPG:AnyPostgra...</td>\n",
       "    </tr>\n",
       "    <tr>\n",
       "      <th>3000</th>\n",
       "      <td>Medical Coding Transcription - We Will Help Yo...</td>\n",
       "      <td>[UG:AnyGraduate-AnySpecializationPG:AnyPostgra...</td>\n",
       "    </tr>\n",
       "    <tr>\n",
       "      <th>5388</th>\n",
       "      <td>Housekeeping Assistant</td>\n",
       "      <td>[UG:BHMPG:PostGraduationNotRequiredDoctorate:A...</td>\n",
       "    </tr>\n",
       "    <tr>\n",
       "      <th>20972</th>\n",
       "      <td>National Sales Manager - Generics Division | M...</td>\n",
       "      <td>[UG:AnyGraduate-AnySpecialization, 10YearsExpe...</td>\n",
       "    </tr>\n",
       "    <tr>\n",
       "      <th>9997</th>\n",
       "      <td>Data Analytics Manager</td>\n",
       "      <td>[UG:AnyGraduate-AnySpecializationPG:M.Tech-Com...</td>\n",
       "    </tr>\n",
       "    <tr>\n",
       "      <th>3223</th>\n",
       "      <td>Job | Walk-in for \"HR Executive\"_27/02/2016 (S...</td>\n",
       "      <td>[UG:AnyGraduate-AnySpecialization, GraduationN...</td>\n",
       "    </tr>\n",
       "    <tr>\n",
       "      <th>3046</th>\n",
       "      <td>Automation Engineer - PLC</td>\n",
       "      <td>[UG:AnyGraduatePG:PostGraduationNotRequiredDoc...</td>\n",
       "    </tr>\n",
       "  </tbody>\n",
       "</table>\n",
       "</div>"
      ],
      "text/plain": [
       "                                                jobtitle  \\\n",
       "8549                        Content Strategist - Startup   \n",
       "11321  Medical Coding JOBS - North, EAST OR WEST Lead...   \n",
       "5656   Limited Vacancy for Aegis Ecommerce for Voice ...   \n",
       "3100                                     MT - Finance CA   \n",
       "3000   Medical Coding Transcription - We Will Help Yo...   \n",
       "5388                              Housekeeping Assistant   \n",
       "20972  National Sales Manager - Generics Division | M...   \n",
       "9997                              Data Analytics Manager   \n",
       "3223   Job | Walk-in for \"HR Executive\"_27/02/2016 (S...   \n",
       "3046                           Automation Engineer - PLC   \n",
       "\n",
       "                                                    tags  \n",
       "8549   [UG:AnyGraduate-AnySpecializationPG:AnyPostgra...  \n",
       "11321  [UG:BDS-Dentistry, B.Pharma-Pharmacy, B.Sc-Bio...  \n",
       "5656   [UG:AnyGraduate-AnySpecializationPG:AnyPostgra...  \n",
       "3100   [UG:AnyGraduate-AnySpecializationPG:AnyPostgra...  \n",
       "3000   [UG:AnyGraduate-AnySpecializationPG:AnyPostgra...  \n",
       "5388   [UG:BHMPG:PostGraduationNotRequiredDoctorate:A...  \n",
       "20972  [UG:AnyGraduate-AnySpecialization, 10YearsExpe...  \n",
       "9997   [UG:AnyGraduate-AnySpecializationPG:M.Tech-Com...  \n",
       "3223   [UG:AnyGraduate-AnySpecialization, GraduationN...  \n",
       "3046   [UG:AnyGraduatePG:PostGraduationNotRequiredDoc...  "
      ]
     },
     "execution_count": 71,
     "metadata": {},
     "output_type": "execute_result"
    }
   ],
   "source": [
    "df.sample(10)\n"
   ]
  },
  {
   "cell_type": "code",
   "execution_count": 73,
   "id": "327ce16b",
   "metadata": {},
   "outputs": [],
   "source": [
    "df.to_csv('clean.csv')\n"
   ]
  },
  {
   "cell_type": "code",
   "execution_count": null,
   "id": "6a0f66ca",
   "metadata": {},
   "outputs": [],
   "source": []
  }
 ],
 "metadata": {
  "kernelspec": {
   "display_name": "base",
   "language": "python",
   "name": "python3"
  },
  "language_info": {
   "codemirror_mode": {
    "name": "ipython",
    "version": 3
   },
   "file_extension": ".py",
   "mimetype": "text/x-python",
   "name": "python",
   "nbconvert_exporter": "python",
   "pygments_lexer": "ipython3",
   "version": "3.12.7"
  }
 },
 "nbformat": 4,
 "nbformat_minor": 5
}
