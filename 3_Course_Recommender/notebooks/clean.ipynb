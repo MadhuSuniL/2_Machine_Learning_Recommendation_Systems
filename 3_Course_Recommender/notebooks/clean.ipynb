{
 "cells": [
  {
   "cell_type": "markdown",
   "id": "05f9c28a",
   "metadata": {},
   "source": [
    "Project: 3 Course Recommender\n",
    "\n",
    "Problem Statement:\n",
    "Recommend learning courses based on past course activity and interests."
   ]
  },
  {
   "cell_type": "code",
   "execution_count": 3,
   "id": "63d1c9f6",
   "metadata": {},
   "outputs": [],
   "source": [
    "import os\n",
    "import ast\n",
    "import pandas as pd\n",
    "import numpy as np\n",
    "import matplotlib.pyplot as plt\n",
    "import seaborn as sns\n",
    "\n"
   ]
  },
  {
   "cell_type": "code",
   "execution_count": 4,
   "id": "a7b9387c",
   "metadata": {},
   "outputs": [],
   "source": [
    "os.chdir(os.getcwd().replace('notebooks', 'data'))\n",
    "\n",
    "courses = pd.read_csv('courses.csv')\n"
   ]
  },
  {
   "cell_type": "code",
   "execution_count": 5,
   "id": "f662bb06",
   "metadata": {},
   "outputs": [],
   "source": [
    "courses.columns = courses.columns.str.replace(' ', '_')\n"
   ]
  },
  {
   "cell_type": "code",
   "execution_count": 6,
   "id": "b20b0c17",
   "metadata": {},
   "outputs": [
    {
     "data": {
      "text/plain": [
       "Index(['course_id', 'course_title', 'url', 'is_paid', 'price',\n",
       "       'num_subscribers', 'num_reviews', 'num_lectures', 'level',\n",
       "       'content_duration', 'published_timestamp', 'subject'],\n",
       "      dtype='object')"
      ]
     },
     "execution_count": 6,
     "metadata": {},
     "output_type": "execute_result"
    }
   ],
   "source": [
    "courses.columns\n"
   ]
  },
  {
   "cell_type": "code",
   "execution_count": 9,
   "id": "01dab417",
   "metadata": {},
   "outputs": [],
   "source": [
    "selected_columns = [\n",
    "    'course_title',\n",
    "    'is_paid',\n",
    "    'price',\n",
    "    'level',\n",
    "    'content_duration',\n",
    "    'subject'    \n",
    "]\n"
   ]
  },
  {
   "cell_type": "code",
   "execution_count": 11,
   "id": "62c71988",
   "metadata": {},
   "outputs": [],
   "source": [
    "df = courses[selected_columns]\n"
   ]
  },
  {
   "cell_type": "code",
   "execution_count": 12,
   "id": "b68dd029",
   "metadata": {},
   "outputs": [
    {
     "data": {
      "text/html": [
       "<div>\n",
       "<style scoped>\n",
       "    .dataframe tbody tr th:only-of-type {\n",
       "        vertical-align: middle;\n",
       "    }\n",
       "\n",
       "    .dataframe tbody tr th {\n",
       "        vertical-align: top;\n",
       "    }\n",
       "\n",
       "    .dataframe thead th {\n",
       "        text-align: right;\n",
       "    }\n",
       "</style>\n",
       "<table border=\"1\" class=\"dataframe\">\n",
       "  <thead>\n",
       "    <tr style=\"text-align: right;\">\n",
       "      <th></th>\n",
       "      <th>course_title</th>\n",
       "      <th>is_paid</th>\n",
       "      <th>price</th>\n",
       "      <th>level</th>\n",
       "      <th>content_duration</th>\n",
       "      <th>subject</th>\n",
       "    </tr>\n",
       "  </thead>\n",
       "  <tbody>\n",
       "    <tr>\n",
       "      <th>846</th>\n",
       "      <td>Value Investing and Stock Market Fundamentals</td>\n",
       "      <td>True</td>\n",
       "      <td>195</td>\n",
       "      <td>Beginner Level</td>\n",
       "      <td>3.0</td>\n",
       "      <td>Business Finance</td>\n",
       "    </tr>\n",
       "    <tr>\n",
       "      <th>2164</th>\n",
       "      <td>Learn the Violin - Scales and Fundamentals</td>\n",
       "      <td>True</td>\n",
       "      <td>80</td>\n",
       "      <td>Beginner Level</td>\n",
       "      <td>3.0</td>\n",
       "      <td>Musical Instruments</td>\n",
       "    </tr>\n",
       "    <tr>\n",
       "      <th>831</th>\n",
       "      <td>Forex Trading For Beginners</td>\n",
       "      <td>False</td>\n",
       "      <td>0</td>\n",
       "      <td>Beginner Level</td>\n",
       "      <td>2.0</td>\n",
       "      <td>Business Finance</td>\n",
       "    </tr>\n",
       "    <tr>\n",
       "      <th>353</th>\n",
       "      <td>How to Build a Massive Stock Portfolio from Zero!</td>\n",
       "      <td>True</td>\n",
       "      <td>200</td>\n",
       "      <td>All Levels</td>\n",
       "      <td>11.0</td>\n",
       "      <td>Business Finance</td>\n",
       "    </tr>\n",
       "    <tr>\n",
       "      <th>833</th>\n",
       "      <td>The Advanced Forex Course for Smart Traders</td>\n",
       "      <td>False</td>\n",
       "      <td>0</td>\n",
       "      <td>All Levels</td>\n",
       "      <td>5.0</td>\n",
       "      <td>Business Finance</td>\n",
       "    </tr>\n",
       "  </tbody>\n",
       "</table>\n",
       "</div>"
      ],
      "text/plain": [
       "                                           course_title  is_paid  price  \\\n",
       "846       Value Investing and Stock Market Fundamentals     True    195   \n",
       "2164         Learn the Violin - Scales and Fundamentals     True     80   \n",
       "831                        Forex Trading For Beginners     False      0   \n",
       "353   How to Build a Massive Stock Portfolio from Zero!     True    200   \n",
       "833         The Advanced Forex Course for Smart Traders    False      0   \n",
       "\n",
       "               level  content_duration              subject  \n",
       "846   Beginner Level               3.0     Business Finance  \n",
       "2164  Beginner Level               3.0  Musical Instruments  \n",
       "831   Beginner Level               2.0     Business Finance  \n",
       "353       All Levels              11.0     Business Finance  \n",
       "833       All Levels               5.0     Business Finance  "
      ]
     },
     "execution_count": 12,
     "metadata": {},
     "output_type": "execute_result"
    }
   ],
   "source": [
    "df.sample(5)\n"
   ]
  },
  {
   "cell_type": "code",
   "execution_count": 14,
   "id": "2c0993c0",
   "metadata": {},
   "outputs": [
    {
     "name": "stderr",
     "output_type": "stream",
     "text": [
      "C:\\Users\\bagam\\AppData\\Local\\Temp\\ipykernel_8376\\2723343441.py:1: SettingWithCopyWarning: \n",
      "A value is trying to be set on a copy of a slice from a DataFrame.\n",
      "Try using .loc[row_indexer,col_indexer] = value instead\n",
      "\n",
      "See the caveats in the documentation: https://pandas.pydata.org/pandas-docs/stable/user_guide/indexing.html#returning-a-view-versus-a-copy\n",
      "  df['is_paid'] = df['is_paid'].apply(lambda x: ['PaidCourse'] if x == True else ['FreeCourse'])\n"
     ]
    }
   ],
   "source": [
    "df['is_paid'] = df['is_paid'].apply(lambda x: ['PaidCourse'] if x == True else ['FreeCourse'])\n"
   ]
  },
  {
   "cell_type": "code",
   "execution_count": 15,
   "id": "dc80feec",
   "metadata": {},
   "outputs": [
    {
     "data": {
      "text/plain": [
       "count    3678.000000\n",
       "mean       66.049483\n",
       "std        61.005755\n",
       "min         0.000000\n",
       "25%        20.000000\n",
       "50%        45.000000\n",
       "75%        95.000000\n",
       "max       200.000000\n",
       "Name: price, dtype: float64"
      ]
     },
     "execution_count": 15,
     "metadata": {},
     "output_type": "execute_result"
    }
   ],
   "source": [
    "df['price'].describe()\n"
   ]
  },
  {
   "cell_type": "code",
   "execution_count": 17,
   "id": "7537dc68",
   "metadata": {},
   "outputs": [],
   "source": [
    "def convert_price(price):\n",
    "    if price == 0 :\n",
    "        return ['']\n",
    "    \n",
    "    if price >= 180:\n",
    "        return ['PriceVeryHigh']\n",
    "    elif price >= 150:\n",
    "        return ['PriceHigh']\n",
    "    elif price >= 120:\n",
    "        return ['PriceMedium']\n",
    "    elif price >= 90:\n",
    "        return ['PriceLow']\n",
    "    elif price >= 60:\n",
    "        return ['PriceLow']\n",
    "    else:\n",
    "        return ['PriceVeryLow']\n"
   ]
  },
  {
   "cell_type": "code",
   "execution_count": 18,
   "id": "7057be17",
   "metadata": {},
   "outputs": [
    {
     "name": "stderr",
     "output_type": "stream",
     "text": [
      "C:\\Users\\bagam\\AppData\\Local\\Temp\\ipykernel_8376\\2909198529.py:1: SettingWithCopyWarning: \n",
      "A value is trying to be set on a copy of a slice from a DataFrame.\n",
      "Try using .loc[row_indexer,col_indexer] = value instead\n",
      "\n",
      "See the caveats in the documentation: https://pandas.pydata.org/pandas-docs/stable/user_guide/indexing.html#returning-a-view-versus-a-copy\n",
      "  df['price'] = df['price'].apply(convert_price)\n"
     ]
    }
   ],
   "source": [
    "df['price'] = df['price'].apply(convert_price)\n"
   ]
  },
  {
   "cell_type": "code",
   "execution_count": 19,
   "id": "670c8249",
   "metadata": {},
   "outputs": [
    {
     "data": {
      "text/plain": [
       "level\n",
       "All Levels            1929\n",
       "Beginner Level        1270\n",
       "Intermediate Level     421\n",
       "Expert Level            58\n",
       "Name: count, dtype: int64"
      ]
     },
     "execution_count": 19,
     "metadata": {},
     "output_type": "execute_result"
    }
   ],
   "source": [
    "df['level'].value_counts()\n"
   ]
  },
  {
   "cell_type": "code",
   "execution_count": 20,
   "id": "1ba58a1d",
   "metadata": {},
   "outputs": [
    {
     "name": "stderr",
     "output_type": "stream",
     "text": [
      "C:\\Users\\bagam\\AppData\\Local\\Temp\\ipykernel_8376\\2929478778.py:1: SettingWithCopyWarning: \n",
      "A value is trying to be set on a copy of a slice from a DataFrame.\n",
      "Try using .loc[row_indexer,col_indexer] = value instead\n",
      "\n",
      "See the caveats in the documentation: https://pandas.pydata.org/pandas-docs/stable/user_guide/indexing.html#returning-a-view-versus-a-copy\n",
      "  df['level'] = df['level'].apply(lambda x: [x.replace(' ', '')])\n"
     ]
    }
   ],
   "source": [
    "df['level'] = df['level'].apply(lambda x: [x.replace(' ', '')])\n"
   ]
  },
  {
   "cell_type": "code",
   "execution_count": 21,
   "id": "19788fa6",
   "metadata": {},
   "outputs": [
    {
     "data": {
      "text/plain": [
       "array([ 1.5       , 39.        ,  2.5       ,  3.        ,  2.        ,\n",
       "        1.        ,  5.        ,  7.        ,  4.        ,  0.58333333,\n",
       "        4.5       ,  6.5       , 10.        ,  5.5       ,  7.5       ,\n",
       "       11.5       , 16.        ,  3.5       ,  9.        ,  8.5       ,\n",
       "       11.        ,  0.7       ,  9.5       ,  0.55      , 62.        ,\n",
       "        0.13333333,  0.68333333, 31.5       , 20.        ,  6.        ,\n",
       "       46.5       ,  0.71666667, 17.5       , 12.        ,  0.53333333,\n",
       "       24.        , 19.5       , 20.5       ,  0.5       , 10.5       ,\n",
       "        0.51666667,  0.6       ,  8.        , 29.        , 26.        ,\n",
       "       24.5       , 13.        ,  0.73333333,  0.56666667, 12.5       ,\n",
       "        0.31666667,  0.61666667,  0.66666667, 18.        , 33.        ,\n",
       "       71.5       , 47.        , 14.5       ,  0.65      , 18.5       ,\n",
       "       43.5       ,  0.63333333, 14.        ,  0.46666667, 45.        ,\n",
       "       70.        ,  0.        , 29.5       , 13.5       ,  0.45      ,\n",
       "       21.        , 68.5       , 30.        , 17.        , 16.5       ,\n",
       "       15.        , 78.5       ,  0.48333333, 34.        , 31.        ,\n",
       "       15.5       , 28.5       , 23.        , 38.        , 32.5       ,\n",
       "       19.        , 37.5       , 25.        , 25.5       , 60.        ,\n",
       "       22.5       , 21.5       , 27.5       , 44.5       , 51.        ,\n",
       "       57.        , 76.5       , 22.        , 30.5       , 43.        ,\n",
       "       42.        , 26.5       , 48.5       , 23.5       , 66.5       ])"
      ]
     },
     "execution_count": 21,
     "metadata": {},
     "output_type": "execute_result"
    }
   ],
   "source": [
    "df['content_duration'].unique()\n"
   ]
  },
  {
   "cell_type": "code",
   "execution_count": 22,
   "id": "cfb9b127",
   "metadata": {},
   "outputs": [
    {
     "data": {
      "text/plain": [
       "count    3678.000000\n",
       "mean        4.094517\n",
       "std         6.053840\n",
       "min         0.000000\n",
       "25%         1.000000\n",
       "50%         2.000000\n",
       "75%         4.500000\n",
       "max        78.500000\n",
       "Name: content_duration, dtype: float64"
      ]
     },
     "execution_count": 22,
     "metadata": {},
     "output_type": "execute_result"
    }
   ],
   "source": [
    "df['content_duration'].describe()\n"
   ]
  },
  {
   "cell_type": "code",
   "execution_count": 25,
   "id": "453b58d7",
   "metadata": {},
   "outputs": [],
   "source": [
    "df = df[df['content_duration'] > 0]\n"
   ]
  },
  {
   "cell_type": "code",
   "execution_count": 26,
   "id": "f655fb07",
   "metadata": {},
   "outputs": [
    {
     "data": {
      "text/plain": [
       "count    3677.000000\n",
       "mean        4.095630\n",
       "std         6.054287\n",
       "min         0.133333\n",
       "25%         1.000000\n",
       "50%         2.000000\n",
       "75%         4.500000\n",
       "max        78.500000\n",
       "Name: content_duration, dtype: float64"
      ]
     },
     "execution_count": 26,
     "metadata": {},
     "output_type": "execute_result"
    }
   ],
   "source": [
    "df['content_duration'].describe()\n"
   ]
  },
  {
   "cell_type": "code",
   "execution_count": 27,
   "id": "855093c9",
   "metadata": {},
   "outputs": [],
   "source": [
    "def convert_duration(duration):\n",
    "    if duration >= 70:\n",
    "        return ['DurationVeryHigh']\n",
    "    elif duration >= 50:\n",
    "        return ['DurationHigh']\n",
    "    elif duration >= 30:\n",
    "        return ['DurationMedium']\n",
    "    elif duration >= 20:\n",
    "        return ['DurationLow']\n",
    "    elif duration >= 10:\n",
    "        return ['DurationLow']\n",
    "    else:\n",
    "        return ['DurationVeryLow']\n"
   ]
  },
  {
   "cell_type": "code",
   "execution_count": 28,
   "id": "4300d397",
   "metadata": {},
   "outputs": [],
   "source": [
    "df['content_duration'] = df['content_duration'].apply(convert_duration)\n"
   ]
  },
  {
   "cell_type": "code",
   "execution_count": 29,
   "id": "87ea9e02",
   "metadata": {},
   "outputs": [],
   "source": [
    "df['subject'] = df['subject'].apply(lambda x: [x.replace(' ', '')])\n"
   ]
  },
  {
   "cell_type": "code",
   "execution_count": 32,
   "id": "f6d4b89e",
   "metadata": {},
   "outputs": [
    {
     "data": {
      "text/html": [
       "<div>\n",
       "<style scoped>\n",
       "    .dataframe tbody tr th:only-of-type {\n",
       "        vertical-align: middle;\n",
       "    }\n",
       "\n",
       "    .dataframe tbody tr th {\n",
       "        vertical-align: top;\n",
       "    }\n",
       "\n",
       "    .dataframe thead th {\n",
       "        text-align: right;\n",
       "    }\n",
       "</style>\n",
       "<table border=\"1\" class=\"dataframe\">\n",
       "  <thead>\n",
       "    <tr style=\"text-align: right;\">\n",
       "      <th></th>\n",
       "      <th>course_title</th>\n",
       "      <th>is_paid</th>\n",
       "      <th>price</th>\n",
       "      <th>level</th>\n",
       "      <th>content_duration</th>\n",
       "      <th>subject</th>\n",
       "    </tr>\n",
       "  </thead>\n",
       "  <tbody>\n",
       "    <tr>\n",
       "      <th>3524</th>\n",
       "      <td>Ultimate JavaScript Strings</td>\n",
       "      <td>[FreeCourse]</td>\n",
       "      <td>[]</td>\n",
       "      <td>[BeginnerLevel]</td>\n",
       "      <td>[DurationVeryLow]</td>\n",
       "      <td>[WebDevelopment]</td>\n",
       "    </tr>\n",
       "    <tr>\n",
       "      <th>3051</th>\n",
       "      <td>The Ultimate Guide to the Best WordPress Plugi...</td>\n",
       "      <td>[PaidCourse]</td>\n",
       "      <td>[PriceVeryLow]</td>\n",
       "      <td>[AllLevels]</td>\n",
       "      <td>[DurationLow]</td>\n",
       "      <td>[WebDevelopment]</td>\n",
       "    </tr>\n",
       "    <tr>\n",
       "      <th>624</th>\n",
       "      <td>Forex Trading : Power Of Moving Averages</td>\n",
       "      <td>[PaidCourse]</td>\n",
       "      <td>[PriceVeryHigh]</td>\n",
       "      <td>[AllLevels]</td>\n",
       "      <td>[DurationVeryLow]</td>\n",
       "      <td>[BusinessFinance]</td>\n",
       "    </tr>\n",
       "    <tr>\n",
       "      <th>414</th>\n",
       "      <td>How to trade options</td>\n",
       "      <td>[PaidCourse]</td>\n",
       "      <td>[PriceVeryLow]</td>\n",
       "      <td>[IntermediateLevel]</td>\n",
       "      <td>[DurationVeryLow]</td>\n",
       "      <td>[BusinessFinance]</td>\n",
       "    </tr>\n",
       "    <tr>\n",
       "      <th>3291</th>\n",
       "      <td>Learn PHP Fundamentals From Scratch</td>\n",
       "      <td>[FreeCourse]</td>\n",
       "      <td>[]</td>\n",
       "      <td>[BeginnerLevel]</td>\n",
       "      <td>[DurationVeryLow]</td>\n",
       "      <td>[WebDevelopment]</td>\n",
       "    </tr>\n",
       "    <tr>\n",
       "      <th>1470</th>\n",
       "      <td>Crea personajes fantásticos con Photoshop</td>\n",
       "      <td>[PaidCourse]</td>\n",
       "      <td>[PriceVeryLow]</td>\n",
       "      <td>[BeginnerLevel]</td>\n",
       "      <td>[DurationVeryLow]</td>\n",
       "      <td>[GraphicDesign]</td>\n",
       "    </tr>\n",
       "    <tr>\n",
       "      <th>720</th>\n",
       "      <td>IAS 8-Accounting Policies ,Changes in Accounti...</td>\n",
       "      <td>[FreeCourse]</td>\n",
       "      <td>[]</td>\n",
       "      <td>[AllLevels]</td>\n",
       "      <td>[DurationVeryLow]</td>\n",
       "      <td>[BusinessFinance]</td>\n",
       "    </tr>\n",
       "    <tr>\n",
       "      <th>1010</th>\n",
       "      <td>Forex:Trade Management &amp; Psychology</td>\n",
       "      <td>[PaidCourse]</td>\n",
       "      <td>[PriceHigh]</td>\n",
       "      <td>[IntermediateLevel]</td>\n",
       "      <td>[DurationVeryLow]</td>\n",
       "      <td>[BusinessFinance]</td>\n",
       "    </tr>\n",
       "    <tr>\n",
       "      <th>401</th>\n",
       "      <td>Quantitative Trading Analysis with R</td>\n",
       "      <td>[PaidCourse]</td>\n",
       "      <td>[PriceVeryLow]</td>\n",
       "      <td>[AllLevels]</td>\n",
       "      <td>[DurationVeryLow]</td>\n",
       "      <td>[BusinessFinance]</td>\n",
       "    </tr>\n",
       "    <tr>\n",
       "      <th>1996</th>\n",
       "      <td>How To Play Guitar - For Absolute Beginners</td>\n",
       "      <td>[PaidCourse]</td>\n",
       "      <td>[PriceVeryLow]</td>\n",
       "      <td>[BeginnerLevel]</td>\n",
       "      <td>[DurationVeryLow]</td>\n",
       "      <td>[MusicalInstruments]</td>\n",
       "    </tr>\n",
       "  </tbody>\n",
       "</table>\n",
       "</div>"
      ],
      "text/plain": [
       "                                           course_title       is_paid  \\\n",
       "3524                        Ultimate JavaScript Strings  [FreeCourse]   \n",
       "3051  The Ultimate Guide to the Best WordPress Plugi...  [PaidCourse]   \n",
       "624            Forex Trading : Power Of Moving Averages  [PaidCourse]   \n",
       "414                                How to trade options  [PaidCourse]   \n",
       "3291                Learn PHP Fundamentals From Scratch  [FreeCourse]   \n",
       "1470          Crea personajes fantásticos con Photoshop  [PaidCourse]   \n",
       "720   IAS 8-Accounting Policies ,Changes in Accounti...  [FreeCourse]   \n",
       "1010                Forex:Trade Management & Psychology  [PaidCourse]   \n",
       "401                Quantitative Trading Analysis with R  [PaidCourse]   \n",
       "1996        How To Play Guitar - For Absolute Beginners  [PaidCourse]   \n",
       "\n",
       "                price                level   content_duration  \\\n",
       "3524               []      [BeginnerLevel]  [DurationVeryLow]   \n",
       "3051   [PriceVeryLow]          [AllLevels]      [DurationLow]   \n",
       "624   [PriceVeryHigh]          [AllLevels]  [DurationVeryLow]   \n",
       "414    [PriceVeryLow]  [IntermediateLevel]  [DurationVeryLow]   \n",
       "3291               []      [BeginnerLevel]  [DurationVeryLow]   \n",
       "1470   [PriceVeryLow]      [BeginnerLevel]  [DurationVeryLow]   \n",
       "720                []          [AllLevels]  [DurationVeryLow]   \n",
       "1010      [PriceHigh]  [IntermediateLevel]  [DurationVeryLow]   \n",
       "401    [PriceVeryLow]          [AllLevels]  [DurationVeryLow]   \n",
       "1996   [PriceVeryLow]      [BeginnerLevel]  [DurationVeryLow]   \n",
       "\n",
       "                   subject  \n",
       "3524      [WebDevelopment]  \n",
       "3051      [WebDevelopment]  \n",
       "624      [BusinessFinance]  \n",
       "414      [BusinessFinance]  \n",
       "3291      [WebDevelopment]  \n",
       "1470       [GraphicDesign]  \n",
       "720      [BusinessFinance]  \n",
       "1010     [BusinessFinance]  \n",
       "401      [BusinessFinance]  \n",
       "1996  [MusicalInstruments]  "
      ]
     },
     "execution_count": 32,
     "metadata": {},
     "output_type": "execute_result"
    }
   ],
   "source": [
    "df.sample(10)\n"
   ]
  },
  {
   "cell_type": "code",
   "execution_count": 33,
   "id": "0796980f",
   "metadata": {},
   "outputs": [],
   "source": [
    "df['keywords'] = df['course_title'].apply(lambda x: x.split(' '))\n"
   ]
  },
  {
   "cell_type": "code",
   "execution_count": 34,
   "id": "870760fd",
   "metadata": {},
   "outputs": [
    {
     "data": {
      "text/html": [
       "<div>\n",
       "<style scoped>\n",
       "    .dataframe tbody tr th:only-of-type {\n",
       "        vertical-align: middle;\n",
       "    }\n",
       "\n",
       "    .dataframe tbody tr th {\n",
       "        vertical-align: top;\n",
       "    }\n",
       "\n",
       "    .dataframe thead th {\n",
       "        text-align: right;\n",
       "    }\n",
       "</style>\n",
       "<table border=\"1\" class=\"dataframe\">\n",
       "  <thead>\n",
       "    <tr style=\"text-align: right;\">\n",
       "      <th></th>\n",
       "      <th>course_title</th>\n",
       "      <th>is_paid</th>\n",
       "      <th>price</th>\n",
       "      <th>level</th>\n",
       "      <th>content_duration</th>\n",
       "      <th>subject</th>\n",
       "      <th>keywords</th>\n",
       "    </tr>\n",
       "  </thead>\n",
       "  <tbody>\n",
       "    <tr>\n",
       "      <th>673</th>\n",
       "      <td>Matemática Financeira de um jeito fácil</td>\n",
       "      <td>[PaidCourse]</td>\n",
       "      <td>[PriceLow]</td>\n",
       "      <td>[AllLevels]</td>\n",
       "      <td>[DurationVeryLow]</td>\n",
       "      <td>[BusinessFinance]</td>\n",
       "      <td>[Matemática, Financeira, de, um, jeito, fácil]</td>\n",
       "    </tr>\n",
       "    <tr>\n",
       "      <th>277</th>\n",
       "      <td>Mit Finanzwissen zu besserem Unternehmertum</td>\n",
       "      <td>[PaidCourse]</td>\n",
       "      <td>[PriceVeryLow]</td>\n",
       "      <td>[BeginnerLevel]</td>\n",
       "      <td>[DurationVeryLow]</td>\n",
       "      <td>[BusinessFinance]</td>\n",
       "      <td>[Mit, Finanzwissen, zu, besserem, Unternehmertum]</td>\n",
       "    </tr>\n",
       "    <tr>\n",
       "      <th>2948</th>\n",
       "      <td>Learn Plugin Development in WordPress By Build...</td>\n",
       "      <td>[PaidCourse]</td>\n",
       "      <td>[PriceLow]</td>\n",
       "      <td>[AllLevels]</td>\n",
       "      <td>[DurationLow]</td>\n",
       "      <td>[WebDevelopment]</td>\n",
       "      <td>[Learn, Plugin, Development, in, WordPress, By...</td>\n",
       "    </tr>\n",
       "    <tr>\n",
       "      <th>3664</th>\n",
       "      <td>XML DTD - Crash Course for Beginners</td>\n",
       "      <td>[PaidCourse]</td>\n",
       "      <td>[PriceVeryLow]</td>\n",
       "      <td>[AllLevels]</td>\n",
       "      <td>[DurationVeryLow]</td>\n",
       "      <td>[WebDevelopment]</td>\n",
       "      <td>[XML, DTD, -, Crash, Course, for, Beginners]</td>\n",
       "    </tr>\n",
       "    <tr>\n",
       "      <th>3448</th>\n",
       "      <td>WordPress Plugin Tutorial</td>\n",
       "      <td>[PaidCourse]</td>\n",
       "      <td>[PriceVeryLow]</td>\n",
       "      <td>[BeginnerLevel]</td>\n",
       "      <td>[DurationVeryLow]</td>\n",
       "      <td>[WebDevelopment]</td>\n",
       "      <td>[WordPress, Plugin, Tutorial]</td>\n",
       "    </tr>\n",
       "    <tr>\n",
       "      <th>2102</th>\n",
       "      <td>Advanced Trombone Studies - Learn to Master th...</td>\n",
       "      <td>[PaidCourse]</td>\n",
       "      <td>[PriceVeryLow]</td>\n",
       "      <td>[AllLevels]</td>\n",
       "      <td>[DurationVeryLow]</td>\n",
       "      <td>[MusicalInstruments]</td>\n",
       "      <td>[Advanced, Trombone, Studies, -, Learn, to, Ma...</td>\n",
       "    </tr>\n",
       "    <tr>\n",
       "      <th>2620</th>\n",
       "      <td>Learn to use JSON</td>\n",
       "      <td>[PaidCourse]</td>\n",
       "      <td>[PriceHigh]</td>\n",
       "      <td>[BeginnerLevel]</td>\n",
       "      <td>[DurationVeryLow]</td>\n",
       "      <td>[WebDevelopment]</td>\n",
       "      <td>[Learn, to, use, JSON]</td>\n",
       "    </tr>\n",
       "    <tr>\n",
       "      <th>7</th>\n",
       "      <td>Trading Stock Chart Patterns For Immediate, Ex...</td>\n",
       "      <td>[PaidCourse]</td>\n",
       "      <td>[PriceLow]</td>\n",
       "      <td>[AllLevels]</td>\n",
       "      <td>[DurationVeryLow]</td>\n",
       "      <td>[BusinessFinance]</td>\n",
       "      <td>[Trading, Stock, Chart, Patterns, For, Immedia...</td>\n",
       "    </tr>\n",
       "    <tr>\n",
       "      <th>622</th>\n",
       "      <td>Tradeonomics - Four Steps to Mastering Economi...</td>\n",
       "      <td>[PaidCourse]</td>\n",
       "      <td>[PriceVeryLow]</td>\n",
       "      <td>[AllLevels]</td>\n",
       "      <td>[DurationVeryLow]</td>\n",
       "      <td>[BusinessFinance]</td>\n",
       "      <td>[Tradeonomics, -, Four, Steps, to, Mastering, ...</td>\n",
       "    </tr>\n",
       "    <tr>\n",
       "      <th>1224</th>\n",
       "      <td>How to Create Kindle &amp; Ebook Covers with Canva</td>\n",
       "      <td>[PaidCourse]</td>\n",
       "      <td>[PriceVeryLow]</td>\n",
       "      <td>[BeginnerLevel]</td>\n",
       "      <td>[DurationVeryLow]</td>\n",
       "      <td>[GraphicDesign]</td>\n",
       "      <td>[How, to, Create, Kindle, &amp;, Ebook, Covers, wi...</td>\n",
       "    </tr>\n",
       "  </tbody>\n",
       "</table>\n",
       "</div>"
      ],
      "text/plain": [
       "                                           course_title       is_paid  \\\n",
       "673             Matemática Financeira de um jeito fácil  [PaidCourse]   \n",
       "277         Mit Finanzwissen zu besserem Unternehmertum  [PaidCourse]   \n",
       "2948  Learn Plugin Development in WordPress By Build...  [PaidCourse]   \n",
       "3664               XML DTD - Crash Course for Beginners  [PaidCourse]   \n",
       "3448                          WordPress Plugin Tutorial  [PaidCourse]   \n",
       "2102  Advanced Trombone Studies - Learn to Master th...  [PaidCourse]   \n",
       "2620                                  Learn to use JSON  [PaidCourse]   \n",
       "7     Trading Stock Chart Patterns For Immediate, Ex...  [PaidCourse]   \n",
       "622   Tradeonomics - Four Steps to Mastering Economi...  [PaidCourse]   \n",
       "1224     How to Create Kindle & Ebook Covers with Canva  [PaidCourse]   \n",
       "\n",
       "               price            level   content_duration  \\\n",
       "673       [PriceLow]      [AllLevels]  [DurationVeryLow]   \n",
       "277   [PriceVeryLow]  [BeginnerLevel]  [DurationVeryLow]   \n",
       "2948      [PriceLow]      [AllLevels]      [DurationLow]   \n",
       "3664  [PriceVeryLow]      [AllLevels]  [DurationVeryLow]   \n",
       "3448  [PriceVeryLow]  [BeginnerLevel]  [DurationVeryLow]   \n",
       "2102  [PriceVeryLow]      [AllLevels]  [DurationVeryLow]   \n",
       "2620     [PriceHigh]  [BeginnerLevel]  [DurationVeryLow]   \n",
       "7         [PriceLow]      [AllLevels]  [DurationVeryLow]   \n",
       "622   [PriceVeryLow]      [AllLevels]  [DurationVeryLow]   \n",
       "1224  [PriceVeryLow]  [BeginnerLevel]  [DurationVeryLow]   \n",
       "\n",
       "                   subject                                           keywords  \n",
       "673      [BusinessFinance]     [Matemática, Financeira, de, um, jeito, fácil]  \n",
       "277      [BusinessFinance]  [Mit, Finanzwissen, zu, besserem, Unternehmertum]  \n",
       "2948      [WebDevelopment]  [Learn, Plugin, Development, in, WordPress, By...  \n",
       "3664      [WebDevelopment]       [XML, DTD, -, Crash, Course, for, Beginners]  \n",
       "3448      [WebDevelopment]                      [WordPress, Plugin, Tutorial]  \n",
       "2102  [MusicalInstruments]  [Advanced, Trombone, Studies, -, Learn, to, Ma...  \n",
       "2620      [WebDevelopment]                             [Learn, to, use, JSON]  \n",
       "7        [BusinessFinance]  [Trading, Stock, Chart, Patterns, For, Immedia...  \n",
       "622      [BusinessFinance]  [Tradeonomics, -, Four, Steps, to, Mastering, ...  \n",
       "1224       [GraphicDesign]  [How, to, Create, Kindle, &, Ebook, Covers, wi...  "
      ]
     },
     "execution_count": 34,
     "metadata": {},
     "output_type": "execute_result"
    }
   ],
   "source": [
    "df.sample(10)\n"
   ]
  },
  {
   "cell_type": "code",
   "execution_count": 35,
   "id": "01569eff",
   "metadata": {},
   "outputs": [],
   "source": [
    "df['tags'] = df['is_paid'] + df['price'] + df['level'] + df['content_duration'] + df['subject'] + df['keywords']\n",
    " "
   ]
  },
  {
   "cell_type": "code",
   "execution_count": 36,
   "id": "340e77f9",
   "metadata": {},
   "outputs": [
    {
     "data": {
      "text/plain": [
       "0       [PaidCourse, PriceVeryHigh, AllLevels, Duratio...\n",
       "1       [PaidCourse, PriceLow, AllLevels, DurationMedi...\n",
       "2       [PaidCourse, PriceVeryLow, IntermediateLevel, ...\n",
       "3       [PaidCourse, PriceLow, AllLevels, DurationVery...\n",
       "4       [PaidCourse, PriceVeryHigh, IntermediateLevel,...\n",
       "                              ...                        \n",
       "3673    [PaidCourse, PriceLow, AllLevels, DurationVery...\n",
       "3674    [PaidCourse, PriceVeryLow, BeginnerLevel, Dura...\n",
       "3675    [PaidCourse, PriceVeryLow, AllLevels, Duration...\n",
       "3676    [PaidCourse, PriceVeryLow, AllLevels, Duration...\n",
       "3677    [PaidCourse, PriceVeryLow, BeginnerLevel, Dura...\n",
       "Name: tags, Length: 3677, dtype: object"
      ]
     },
     "execution_count": 36,
     "metadata": {},
     "output_type": "execute_result"
    }
   ],
   "source": [
    "df['tags']\n"
   ]
  },
  {
   "cell_type": "code",
   "execution_count": 38,
   "id": "7681d182",
   "metadata": {},
   "outputs": [],
   "source": [
    "df = df[['course_title', 'tags']]\n"
   ]
  },
  {
   "cell_type": "code",
   "execution_count": 39,
   "id": "89e55850",
   "metadata": {},
   "outputs": [
    {
     "data": {
      "text/html": [
       "<div>\n",
       "<style scoped>\n",
       "    .dataframe tbody tr th:only-of-type {\n",
       "        vertical-align: middle;\n",
       "    }\n",
       "\n",
       "    .dataframe tbody tr th {\n",
       "        vertical-align: top;\n",
       "    }\n",
       "\n",
       "    .dataframe thead th {\n",
       "        text-align: right;\n",
       "    }\n",
       "</style>\n",
       "<table border=\"1\" class=\"dataframe\">\n",
       "  <thead>\n",
       "    <tr style=\"text-align: right;\">\n",
       "      <th></th>\n",
       "      <th>course_title</th>\n",
       "      <th>tags</th>\n",
       "    </tr>\n",
       "  </thead>\n",
       "  <tbody>\n",
       "    <tr>\n",
       "      <th>441</th>\n",
       "      <td>Build, Grow, and Protect Your Assets: A Step-b...</td>\n",
       "      <td>[PaidCourse, PriceVeryHigh, AllLevels, Duratio...</td>\n",
       "    </tr>\n",
       "    <tr>\n",
       "      <th>1576</th>\n",
       "      <td>Character Concept Design for Beginners</td>\n",
       "      <td>[PaidCourse, PriceHigh, AllLevels, DurationLow...</td>\n",
       "    </tr>\n",
       "    <tr>\n",
       "      <th>3289</th>\n",
       "      <td>Practical PHP: Master the Basics and Code Dyna...</td>\n",
       "      <td>[FreeCourse, , AllLevels, DurationVeryLow, Web...</td>\n",
       "    </tr>\n",
       "    <tr>\n",
       "      <th>525</th>\n",
       "      <td>Cost Accounting Operating Costing(Professional...</td>\n",
       "      <td>[PaidCourse, PriceVeryLow, AllLevels, Duration...</td>\n",
       "    </tr>\n",
       "    <tr>\n",
       "      <th>2860</th>\n",
       "      <td>Java Spring Security</td>\n",
       "      <td>[PaidCourse, PriceVeryLow, IntermediateLevel, ...</td>\n",
       "    </tr>\n",
       "    <tr>\n",
       "      <th>1670</th>\n",
       "      <td>调色中级课程</td>\n",
       "      <td>[PaidCourse, PriceVeryHigh, BeginnerLevel, Dur...</td>\n",
       "    </tr>\n",
       "    <tr>\n",
       "      <th>3606</th>\n",
       "      <td>Object Orientation in PHP</td>\n",
       "      <td>[PaidCourse, PriceVeryLow, BeginnerLevel, Dura...</td>\n",
       "    </tr>\n",
       "    <tr>\n",
       "      <th>916</th>\n",
       "      <td>Socorro! Preciso Organizar as Minhas Finanças!</td>\n",
       "      <td>[PaidCourse, PriceVeryLow, AllLevels, Duration...</td>\n",
       "    </tr>\n",
       "    <tr>\n",
       "      <th>3420</th>\n",
       "      <td>SAP Crystal Reports with ASP.Net (Step by step)</td>\n",
       "      <td>[FreeCourse, , BeginnerLevel, DurationVeryLow,...</td>\n",
       "    </tr>\n",
       "    <tr>\n",
       "      <th>609</th>\n",
       "      <td>Five steps to becoming a winner in stock inves...</td>\n",
       "      <td>[PaidCourse, PriceVeryLow, AllLevels, Duration...</td>\n",
       "    </tr>\n",
       "  </tbody>\n",
       "</table>\n",
       "</div>"
      ],
      "text/plain": [
       "                                           course_title  \\\n",
       "441   Build, Grow, and Protect Your Assets: A Step-b...   \n",
       "1576             Character Concept Design for Beginners   \n",
       "3289  Practical PHP: Master the Basics and Code Dyna...   \n",
       "525   Cost Accounting Operating Costing(Professional...   \n",
       "2860                               Java Spring Security   \n",
       "1670                                             调色中级课程   \n",
       "3606                          Object Orientation in PHP   \n",
       "916      Socorro! Preciso Organizar as Minhas Finanças!   \n",
       "3420    SAP Crystal Reports with ASP.Net (Step by step)   \n",
       "609   Five steps to becoming a winner in stock inves...   \n",
       "\n",
       "                                                   tags  \n",
       "441   [PaidCourse, PriceVeryHigh, AllLevels, Duratio...  \n",
       "1576  [PaidCourse, PriceHigh, AllLevels, DurationLow...  \n",
       "3289  [FreeCourse, , AllLevels, DurationVeryLow, Web...  \n",
       "525   [PaidCourse, PriceVeryLow, AllLevels, Duration...  \n",
       "2860  [PaidCourse, PriceVeryLow, IntermediateLevel, ...  \n",
       "1670  [PaidCourse, PriceVeryHigh, BeginnerLevel, Dur...  \n",
       "3606  [PaidCourse, PriceVeryLow, BeginnerLevel, Dura...  \n",
       "916   [PaidCourse, PriceVeryLow, AllLevels, Duration...  \n",
       "3420  [FreeCourse, , BeginnerLevel, DurationVeryLow,...  \n",
       "609   [PaidCourse, PriceVeryLow, AllLevels, Duration...  "
      ]
     },
     "execution_count": 39,
     "metadata": {},
     "output_type": "execute_result"
    }
   ],
   "source": [
    "df.sample(10)\n"
   ]
  },
  {
   "cell_type": "code",
   "execution_count": 40,
   "id": "d160d15e",
   "metadata": {},
   "outputs": [],
   "source": [
    "df.to_csv('clean.csv', index=False)\n"
   ]
  },
  {
   "cell_type": "code",
   "execution_count": null,
   "id": "85b99a96",
   "metadata": {},
   "outputs": [],
   "source": []
  }
 ],
 "metadata": {
  "kernelspec": {
   "display_name": "base",
   "language": "python",
   "name": "python3"
  },
  "language_info": {
   "codemirror_mode": {
    "name": "ipython",
    "version": 3
   },
   "file_extension": ".py",
   "mimetype": "text/x-python",
   "name": "python",
   "nbconvert_exporter": "python",
   "pygments_lexer": "ipython3",
   "version": "3.12.7"
  }
 },
 "nbformat": 4,
 "nbformat_minor": 5
}
