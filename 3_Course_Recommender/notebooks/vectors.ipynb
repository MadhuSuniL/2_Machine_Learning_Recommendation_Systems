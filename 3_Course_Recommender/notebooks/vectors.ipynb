{
 "cells": [
  {
   "cell_type": "code",
   "execution_count": 1,
   "metadata": {
    "executionInfo": {
     "elapsed": 3,
     "status": "ok",
     "timestamp": 1743847679334,
     "user": {
      "displayName": "Bagamma gari Madhu",
      "userId": "07191871593266793183"
     },
     "user_tz": -330
    },
    "id": "jBwrCjS-DTnu"
   },
   "outputs": [],
   "source": [
    "import os\n",
    "import pandas as pd\n",
    "import numpy as np\n",
    "import ast\n"
   ]
  },
  {
   "cell_type": "code",
   "execution_count": 2,
   "metadata": {
    "executionInfo": {
     "elapsed": 215,
     "status": "ok",
     "timestamp": 1743847679566,
     "user": {
      "displayName": "Bagamma gari Madhu",
      "userId": "07191871593266793183"
     },
     "user_tz": -330
    },
    "id": "Am69MyJRDYuF"
   },
   "outputs": [],
   "source": [
    "os.chdir(os.getcwd().replace('notebooks', 'data'))\n",
    "\n",
    "courses = pd.read_csv('clean.csv')\n"
   ]
  },
  {
   "cell_type": "code",
   "execution_count": 3,
   "metadata": {
    "colab": {
     "base_uri": "https://localhost:8080/",
     "height": 206
    },
    "executionInfo": {
     "elapsed": 174,
     "status": "ok",
     "timestamp": 1743847679741,
     "user": {
      "displayName": "Bagamma gari Madhu",
      "userId": "07191871593266793183"
     },
     "user_tz": -330
    },
    "id": "33TRH_CBMok1",
    "outputId": "21ead561-80b0-48cf-cbc6-ddcd1279919f"
   },
   "outputs": [
    {
     "data": {
      "text/html": [
       "<div>\n",
       "<style scoped>\n",
       "    .dataframe tbody tr th:only-of-type {\n",
       "        vertical-align: middle;\n",
       "    }\n",
       "\n",
       "    .dataframe tbody tr th {\n",
       "        vertical-align: top;\n",
       "    }\n",
       "\n",
       "    .dataframe thead th {\n",
       "        text-align: right;\n",
       "    }\n",
       "</style>\n",
       "<table border=\"1\" class=\"dataframe\">\n",
       "  <thead>\n",
       "    <tr style=\"text-align: right;\">\n",
       "      <th></th>\n",
       "      <th>course_title</th>\n",
       "      <th>tags</th>\n",
       "    </tr>\n",
       "  </thead>\n",
       "  <tbody>\n",
       "    <tr>\n",
       "      <th>0</th>\n",
       "      <td>Ultimate Investment Banking Course</td>\n",
       "      <td>['PaidCourse', 'PriceVeryHigh', 'AllLevels', '...</td>\n",
       "    </tr>\n",
       "    <tr>\n",
       "      <th>1</th>\n",
       "      <td>Complete GST Course &amp; Certification - Grow You...</td>\n",
       "      <td>['PaidCourse', 'PriceLow', 'AllLevels', 'Durat...</td>\n",
       "    </tr>\n",
       "    <tr>\n",
       "      <th>2</th>\n",
       "      <td>Financial Modeling for Business Analysts and C...</td>\n",
       "      <td>['PaidCourse', 'PriceVeryLow', 'IntermediateLe...</td>\n",
       "    </tr>\n",
       "    <tr>\n",
       "      <th>3</th>\n",
       "      <td>Beginner to Pro - Financial Analysis in Excel ...</td>\n",
       "      <td>['PaidCourse', 'PriceLow', 'AllLevels', 'Durat...</td>\n",
       "    </tr>\n",
       "    <tr>\n",
       "      <th>4</th>\n",
       "      <td>How To Maximize Your Profits Trading Options</td>\n",
       "      <td>['PaidCourse', 'PriceVeryHigh', 'IntermediateL...</td>\n",
       "    </tr>\n",
       "  </tbody>\n",
       "</table>\n",
       "</div>"
      ],
      "text/plain": [
       "                                        course_title  \\\n",
       "0                 Ultimate Investment Banking Course   \n",
       "1  Complete GST Course & Certification - Grow You...   \n",
       "2  Financial Modeling for Business Analysts and C...   \n",
       "3  Beginner to Pro - Financial Analysis in Excel ...   \n",
       "4       How To Maximize Your Profits Trading Options   \n",
       "\n",
       "                                                tags  \n",
       "0  ['PaidCourse', 'PriceVeryHigh', 'AllLevels', '...  \n",
       "1  ['PaidCourse', 'PriceLow', 'AllLevels', 'Durat...  \n",
       "2  ['PaidCourse', 'PriceVeryLow', 'IntermediateLe...  \n",
       "3  ['PaidCourse', 'PriceLow', 'AllLevels', 'Durat...  \n",
       "4  ['PaidCourse', 'PriceVeryHigh', 'IntermediateL...  "
      ]
     },
     "execution_count": 3,
     "metadata": {},
     "output_type": "execute_result"
    }
   ],
   "source": [
    "courses.head()\n"
   ]
  },
  {
   "cell_type": "code",
   "execution_count": 4,
   "metadata": {
    "executionInfo": {
     "elapsed": 17,
     "status": "ok",
     "timestamp": 1743847679789,
     "user": {
      "displayName": "Bagamma gari Madhu",
      "userId": "07191871593266793183"
     },
     "user_tz": -330
    },
    "id": "2xtmPh4BMqg9"
   },
   "outputs": [],
   "source": [
    "corups = courses['tags'].values\n"
   ]
  },
  {
   "cell_type": "code",
   "execution_count": 5,
   "metadata": {
    "colab": {
     "base_uri": "https://localhost:8080/"
    },
    "executionInfo": {
     "elapsed": 14,
     "status": "ok",
     "timestamp": 1743847679805,
     "user": {
      "displayName": "Bagamma gari Madhu",
      "userId": "07191871593266793183"
     },
     "user_tz": -330
    },
    "id": "vDfzF-EFNCqk",
    "outputId": "34f3cec5-f96d-4ea6-b7d4-ccc78d406537"
   },
   "outputs": [
    {
     "data": {
      "text/plain": [
       "(3677,)"
      ]
     },
     "execution_count": 5,
     "metadata": {},
     "output_type": "execute_result"
    }
   ],
   "source": [
    "corups.shape\n"
   ]
  },
  {
   "cell_type": "code",
   "execution_count": 6,
   "metadata": {
    "executionInfo": {
     "elapsed": 29,
     "status": "ok",
     "timestamp": 1743847679835,
     "user": {
      "displayName": "Bagamma gari Madhu",
      "userId": "07191871593266793183"
     },
     "user_tz": -330
    },
    "id": "EuqNcNl3NDl0"
   },
   "outputs": [],
   "source": [
    "from nltk.stem import PorterStemmer\n",
    "\n",
    "stemmer = PorterStemmer()\n",
    "\n",
    "\n",
    "def convert_tags(tags):\n",
    "    return \" \".join([stemmer.stem(tag) for tag in ast.literal_eval(tags)]).lower()\n"
   ]
  },
  {
   "cell_type": "code",
   "execution_count": 7,
   "metadata": {
    "colab": {
     "base_uri": "https://localhost:8080/",
     "height": 88
    },
    "executionInfo": {
     "elapsed": 10,
     "status": "ok",
     "timestamp": 1743847679847,
     "user": {
      "displayName": "Bagamma gari Madhu",
      "userId": "07191871593266793183"
     },
     "user_tz": -330
    },
    "id": "mHnJw6dNN2Qd",
    "outputId": "c1371663-f2a1-40df-c1b2-8919fff2ea72"
   },
   "outputs": [
    {
     "data": {
      "text/plain": [
       "'paidcours priceveryhigh alllevel durationverylow businessfin ultim invest bank cours'"
      ]
     },
     "execution_count": 7,
     "metadata": {},
     "output_type": "execute_result"
    }
   ],
   "source": [
    "convert_tags(corups[0])\n"
   ]
  },
  {
   "cell_type": "code",
   "execution_count": 8,
   "metadata": {
    "executionInfo": {
     "elapsed": 11995,
     "status": "ok",
     "timestamp": 1743847691842,
     "user": {
      "displayName": "Bagamma gari Madhu",
      "userId": "07191871593266793183"
     },
     "user_tz": -330
    },
    "id": "7da9ztC0N64z"
   },
   "outputs": [],
   "source": [
    "corups = [convert_tags(tag) for tag in corups]\n"
   ]
  },
  {
   "cell_type": "code",
   "execution_count": 9,
   "metadata": {
    "colab": {
     "base_uri": "https://localhost:8080/"
    },
    "executionInfo": {
     "elapsed": 6,
     "status": "ok",
     "timestamp": 1743847691844,
     "user": {
      "displayName": "Bagamma gari Madhu",
      "userId": "07191871593266793183"
     },
     "user_tz": -330
    },
    "id": "iBaGFVYMOXsk",
    "outputId": "acc336b6-71ba-43c9-96f2-8b480664252c"
   },
   "outputs": [
    {
     "data": {
      "text/plain": [
       "['paidcours priceveryhigh alllevel durationverylow businessfin ultim invest bank cours',\n",
       " 'paidcours pricelow alllevel durationmedium businessfin complet gst cours & certif - grow your ca practic',\n",
       " 'paidcours priceverylow intermediatelevel durationverylow businessfin financi model for busi analyst and consult',\n",
       " 'paidcours pricelow alllevel durationverylow businessfin beginn to pro - financi analysi in excel 2017']"
      ]
     },
     "execution_count": 9,
     "metadata": {},
     "output_type": "execute_result"
    }
   ],
   "source": [
    "corups[:4]\n"
   ]
  },
  {
   "cell_type": "code",
   "execution_count": 10,
   "metadata": {
    "executionInfo": {
     "elapsed": 4,
     "status": "ok",
     "timestamp": 1743847691845,
     "user": {
      "displayName": "Bagamma gari Madhu",
      "userId": "07191871593266793183"
     },
     "user_tz": -330
    },
    "id": "4xyfOwKIObIj"
   },
   "outputs": [],
   "source": [
    "from sklearn.feature_extraction.text import CountVectorizer\n"
   ]
  },
  {
   "cell_type": "code",
   "execution_count": 11,
   "metadata": {
    "executionInfo": {
     "elapsed": 4,
     "status": "ok",
     "timestamp": 1743847691846,
     "user": {
      "displayName": "Bagamma gari Madhu",
      "userId": "07191871593266793183"
     },
     "user_tz": -330
    },
    "id": "15rDi-N-O3cV"
   },
   "outputs": [],
   "source": [
    "vectorizer = CountVectorizer(max_features=8000, stop_words='english')\n"
   ]
  },
  {
   "cell_type": "code",
   "execution_count": 12,
   "metadata": {
    "executionInfo": {
     "elapsed": 1242,
     "status": "ok",
     "timestamp": 1743847693090,
     "user": {
      "displayName": "Bagamma gari Madhu",
      "userId": "07191871593266793183"
     },
     "user_tz": -330
    },
    "id": "L_vAeWAyO9b7"
   },
   "outputs": [],
   "source": [
    "vectors = vectorizer.fit_transform(corups)\n"
   ]
  },
  {
   "cell_type": "code",
   "execution_count": 13,
   "metadata": {
    "colab": {
     "base_uri": "https://localhost:8080/"
    },
    "executionInfo": {
     "elapsed": 68,
     "status": "ok",
     "timestamp": 1743847693157,
     "user": {
      "displayName": "Bagamma gari Madhu",
      "userId": "07191871593266793183"
     },
     "user_tz": -330
    },
    "id": "tk51vyfSPBpL",
    "outputId": "8aa76a81-0431-4e81-8dff-0b1648e21fb9"
   },
   "outputs": [
    {
     "data": {
      "text/plain": [
       "<1x3312 sparse matrix of type '<class 'numpy.int64'>'\n",
       "\twith 9 stored elements in Compressed Sparse Row format>"
      ]
     },
     "execution_count": 13,
     "metadata": {},
     "output_type": "execute_result"
    }
   ],
   "source": [
    "vectors[0]\n"
   ]
  },
  {
   "cell_type": "code",
   "execution_count": 14,
   "metadata": {
    "colab": {
     "base_uri": "https://localhost:8080/"
    },
    "executionInfo": {
     "elapsed": 42,
     "status": "ok",
     "timestamp": 1743847693200,
     "user": {
      "displayName": "Bagamma gari Madhu",
      "userId": "07191871593266793183"
     },
     "user_tz": -330
    },
    "id": "kFfzA7fPPEbj",
    "outputId": "17864cfd-dde8-48b2-f64b-44391c716e99"
   },
   "outputs": [
    {
     "data": {
      "text/plain": [
       "array(['00005', '001', '01', '02', '06z', '07', '08', '09', '10', '100',\n",
       "       '101', '102', '10th', '10分でkawaiiカメレオンを描こう', '11', '1105', '115',\n",
       "       '12', '123d', '13', '14', '1403', '15', '150', '16', '163',\n",
       "       '16t19', '16z', '17', '175', '18', '183', '1872', '188', '19',\n",
       "       '1942', '1year', '20', '200', '201', '2012', '2013', '2014',\n",
       "       '2015', '2016', '2017', '2018', '2020', '21', '23', '23t00', '24',\n",
       "       '24hr', '25', '263432', '27t20', '28', '29t00', '2d', '30',\n",
       "       '30t15', '31', '33z', '34', '35', '365', '38', '398746', '39z',\n",
       "       '3d', '40', '42038', '43', '45', '45z', '461', '462', '48', '4d',\n",
       "       '50', '500', '51', '56', '58', '59', '5k', '5th', '60', '60min',\n",
       "       '61', '63', '650804', '66', '70', '72', '80', '800', '874284',\n",
       "       '88', '90'], dtype=object)"
      ]
     },
     "execution_count": 14,
     "metadata": {},
     "output_type": "execute_result"
    }
   ],
   "source": [
    "vectorizer.get_feature_names_out()[:100]\n"
   ]
  },
  {
   "cell_type": "code",
   "execution_count": 15,
   "metadata": {
    "executionInfo": {
     "elapsed": 17,
     "status": "ok",
     "timestamp": 1743847693270,
     "user": {
      "displayName": "Bagamma gari Madhu",
      "userId": "07191871593266793183"
     },
     "user_tz": -330
    },
    "id": "jFu32QJPQet6"
   },
   "outputs": [],
   "source": [
    "from sklearn.metrics.pairwise import cosine_similarity\n"
   ]
  },
  {
   "cell_type": "code",
   "execution_count": 16,
   "metadata": {
    "colab": {
     "base_uri": "https://localhost:8080/"
    },
    "executionInfo": {
     "elapsed": 15,
     "status": "ok",
     "timestamp": 1743847693323,
     "user": {
      "displayName": "Bagamma gari Madhu",
      "userId": "07191871593266793183"
     },
     "user_tz": -330
    },
    "id": "XAIzTJJ6Q8Np",
    "outputId": "5a180749-2ee3-4fbf-b738-2f8eae0649ec"
   },
   "outputs": [
    {
     "data": {
      "text/plain": [
       "array([[0.38490018, 1.        , 0.18257419, ..., 0.19245009, 0.17407766,\n",
       "        0.08333333]])"
      ]
     },
     "execution_count": 16,
     "metadata": {},
     "output_type": "execute_result"
    }
   ],
   "source": [
    "courses_similarities = cosine_similarity(vectors[1], vectors)\n",
    "courses_similarities\n"
   ]
  },
  {
   "cell_type": "code",
   "execution_count": 17,
   "metadata": {
    "executionInfo": {
     "elapsed": 1,
     "status": "ok",
     "timestamp": 1743847693325,
     "user": {
      "displayName": "Bagamma gari Madhu",
      "userId": "07191871593266793183"
     },
     "user_tz": -330
    },
    "id": "M8dmu-QrRt5Y"
   },
   "outputs": [],
   "source": [
    "def recomend(course, k = 30):\n",
    "  index = courses[courses['course_title'] == course].index[0]\n",
    "  course_similarities = cosine_similarity(vectors[index], vectors)[0]\n",
    "\n",
    "  courses_list = sorted(list(enumerate(course_similarities)), reverse=True, key=lambda x: x[1])[1:k + 1]\n",
    "  return [courses.iloc[course[0]]['course_title'] for course in courses_list]\n"
   ]
  },
  {
   "cell_type": "code",
   "execution_count": 18,
   "metadata": {},
   "outputs": [
    {
     "data": {
      "text/plain": [
       "course_title\n",
       "Working Capital Management for CA / CFA / CPA Exams            1\n",
       "How to Build Profitable FOREX Automated Trading Strategies!    1\n",
       "Quote Images for Pinterest, Facebook, & Instagram              1\n",
       "Stock Markets: How I Became Rich By Changing How I Trade       1\n",
       "Instant Harmonica - play Amazing Grace + Ode to Joy now!       1\n",
       "Projects in PHP and MySQL                                      1\n",
       "Create Startup Landing Page with Viral Marketing Strategies    1\n",
       "Learn Corel x7 Like a Pro                                      1\n",
       "Ferramentas Visuais                                            1\n",
       "Learn Facebook Flux Architecture for Web Applications          1\n",
       "Name: count, dtype: int64"
      ]
     },
     "execution_count": 18,
     "metadata": {},
     "output_type": "execute_result"
    }
   ],
   "source": [
    "courses['course_title'].value_counts().sample(10)\n"
   ]
  },
  {
   "cell_type": "code",
   "execution_count": 19,
   "metadata": {
    "colab": {
     "base_uri": "https://localhost:8080/"
    },
    "executionInfo": {
     "elapsed": 10,
     "status": "ok",
     "timestamp": 1743847693338,
     "user": {
      "displayName": "Bagamma gari Madhu",
      "userId": "07191871593266793183"
     },
     "user_tz": -330
    },
    "id": "xHu9G91GSdUn",
    "outputId": "6c346d21-e934-4083-da07-891ce51fede2"
   },
   "outputs": [
    {
     "data": {
      "text/plain": [
       "['How to Play Piano - Your First Lesson!',\n",
       " 'Aprendiendo Piano: Ejercicios de calentamiento',\n",
       " 'What you can learn before Piano Lessons',\n",
       " 'Piano With Willie: Piano Chords Vol. 1',\n",
       " 'Piano Music Theory (Back To Basics) by JFilt',\n",
       " \"World's Fastest Piano Method - The Piano Revolution!\",\n",
       " 'Piano From Zero To Pro - Beginner Essentials To The Piano',\n",
       " 'Learn all Piano Chords in all Piano Scales with logic',\n",
       " 'Your First Course on Piano',\n",
       " 'Beginner Piano',\n",
       " 'Painless Piano!',\n",
       " 'Piano Lessons For Beginners: Learn Piano Quickly And Easily',\n",
       " 'Piano Lessons for Beginners: Play the Piano AND Read Music!',\n",
       " 'Easy Piano for Kids - Complete Beginner Piano Course',\n",
       " 'PI-101 Top 10 Classical Piano Pieces for Beginners',\n",
       " 'Piano Building Blocks: Learn Chord Additions & Variations',\n",
       " 'Play Piano To-day! - Beginner Piano Lessons For Busy People!',\n",
       " 'Just chords Piano: Learn to Play Piano Quickly - No Music',\n",
       " 'Learn to Play Piano Like a Pro - Easy Piano Course 1',\n",
       " 'Piano Lessons For Beginners',\n",
       " 'Play Piano in 30 Days! - Start Playing NOW!',\n",
       " 'Piano With Willie: Piano Chords Vol. 2',\n",
       " 'Improvise On The Piano In 30 Minutes',\n",
       " 'Basic Piano Hymn Playing',\n",
       " 'Modern Piano Lessons For Beginners',\n",
       " 'Easy Piano - learn and play along',\n",
       " 'Learn Piano: The Basics of Keyboards',\n",
       " 'Piano Lessons for Beginners Made Easy',\n",
       " 'Piano With Willie: Basics of Improvisation',\n",
       " 'Learn Piano Online-Ambiance Piano Solo']"
      ]
     },
     "execution_count": 19,
     "metadata": {},
     "output_type": "execute_result"
    }
   ],
   "source": [
    "recomend('Introduction to Piano - By PGN Piano!')\n"
   ]
  },
  {
   "cell_type": "code",
   "execution_count": 20,
   "metadata": {
    "executionInfo": {
     "elapsed": 1,
     "status": "ok",
     "timestamp": 1743847693340,
     "user": {
      "displayName": "Bagamma gari Madhu",
      "userId": "07191871593266793183"
     },
     "user_tz": -330
    },
    "id": "TsFym-VES4eX"
   },
   "outputs": [],
   "source": [
    "import joblib\n"
   ]
  },
  {
   "cell_type": "code",
   "execution_count": 22,
   "metadata": {
    "colab": {
     "base_uri": "https://localhost:8080/"
    },
    "executionInfo": {
     "elapsed": 17,
     "status": "ok",
     "timestamp": 1743847693363,
     "user": {
      "displayName": "Bagamma gari Madhu",
      "userId": "07191871593266793183"
     },
     "user_tz": -330
    },
    "id": "KiGM7cewVN8E",
    "outputId": "7f8aae00-7f7d-4e0f-c2e9-921380124da3"
   },
   "outputs": [
    {
     "data": {
      "text/plain": [
       "['courses_vectors.joblib']"
      ]
     },
     "execution_count": 22,
     "metadata": {},
     "output_type": "execute_result"
    }
   ],
   "source": [
    "joblib.dump(courses, 'courses_vectors.joblib')\n"
   ]
  },
  {
   "cell_type": "code",
   "execution_count": 23,
   "metadata": {
    "colab": {
     "base_uri": "https://localhost:8080/"
    },
    "executionInfo": {
     "elapsed": 33,
     "status": "ok",
     "timestamp": 1743848324326,
     "user": {
      "displayName": "Bagamma gari Madhu",
      "userId": "07191871593266793183"
     },
     "user_tz": -330
    },
    "id": "-VQuuMUQYQN5",
    "outputId": "96c44ca0-ddd4-4d8d-b524-ff382d332c1f"
   },
   "outputs": [
    {
     "data": {
      "text/plain": [
       "['courses_title.joblib']"
      ]
     },
     "execution_count": 23,
     "metadata": {},
     "output_type": "execute_result"
    }
   ],
   "source": [
    "joblib.dump(courses['course_title'].values, 'courses_title.joblib')\n"
   ]
  },
  {
   "cell_type": "code",
   "execution_count": null,
   "metadata": {
    "id": "GSZnZYbFdbtc"
   },
   "outputs": [],
   "source": []
  }
 ],
 "metadata": {
  "colab": {
   "authorship_tag": "ABX9TyN5ZWawipV2gH4uh+CCaR9U",
   "mount_file_id": "1O4rkvDOi5AK9l2o2hxrLIz0sM95A5Emm",
   "provenance": []
  },
  "kernelspec": {
   "display_name": "base",
   "language": "python",
   "name": "python3"
  },
  "language_info": {
   "codemirror_mode": {
    "name": "ipython",
    "version": 3
   },
   "file_extension": ".py",
   "mimetype": "text/x-python",
   "name": "python",
   "nbconvert_exporter": "python",
   "pygments_lexer": "ipython3",
   "version": "3.12.7"
  }
 },
 "nbformat": 4,
 "nbformat_minor": 0
}
